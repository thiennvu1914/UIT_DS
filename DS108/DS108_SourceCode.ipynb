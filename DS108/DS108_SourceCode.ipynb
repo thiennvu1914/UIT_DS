{
  "nbformat": 4,
  "nbformat_minor": 0,
  "metadata": {
    "colab": {
      "provenance": []
    },
    "kernelspec": {
      "name": "python3",
      "display_name": "Python 3"
    },
    "language_info": {
      "name": "python"
    }
  },
  "cells": [
    {
      "cell_type": "markdown",
      "source": [
        "# Import"
      ],
      "metadata": {
        "id": "rp13QQs9G6hg"
      }
    },
    {
      "cell_type": "markdown",
      "source": [
        "## Mount drive"
      ],
      "metadata": {
        "id": "dEc9o9L5P3Fs"
      }
    },
    {
      "cell_type": "code",
      "source": [
        "from google.colab import drive\n",
        "drive.mount('/content/drive')"
      ],
      "metadata": {
        "colab": {
          "base_uri": "https://localhost:8080/"
        },
        "id": "mBS3J-H9LRep",
        "outputId": "f3f6802b-629e-489c-cddc-96fe1b9e50bb"
      },
      "execution_count": null,
      "outputs": [
        {
          "output_type": "stream",
          "name": "stdout",
          "text": [
            "Mounted at /content/drive\n"
          ]
        }
      ]
    },
    {
      "cell_type": "markdown",
      "source": [
        "## Import libraries"
      ],
      "metadata": {
        "id": "UmC5gYU8Pz2l"
      }
    },
    {
      "cell_type": "code",
      "source": [
        "import numpy as np"
      ],
      "metadata": {
        "id": "gnG8R2CYGxMB"
      },
      "execution_count": null,
      "outputs": []
    },
    {
      "cell_type": "code",
      "source": [
        "import pandas as pd"
      ],
      "metadata": {
        "id": "2n8pLKQb8PWF"
      },
      "execution_count": null,
      "outputs": []
    },
    {
      "cell_type": "code",
      "source": [
        "import os"
      ],
      "metadata": {
        "id": "QNic_zY18SBO"
      },
      "execution_count": null,
      "outputs": []
    },
    {
      "cell_type": "code",
      "source": [
        "import sys"
      ],
      "metadata": {
        "id": "u_7T7oYI8S-7"
      },
      "execution_count": null,
      "outputs": []
    },
    {
      "cell_type": "code",
      "source": [
        "import time"
      ],
      "metadata": {
        "id": "QF1tzh_m8T9X"
      },
      "execution_count": null,
      "outputs": []
    },
    {
      "cell_type": "code",
      "source": [
        "import requests"
      ],
      "metadata": {
        "id": "KzSd_eE47022"
      },
      "execution_count": null,
      "outputs": []
    },
    {
      "cell_type": "code",
      "source": [
        "import re"
      ],
      "metadata": {
        "id": "TXyiDXUGDRMV"
      },
      "execution_count": null,
      "outputs": []
    },
    {
      "cell_type": "code",
      "source": [
        "import cv2"
      ],
      "metadata": {
        "id": "SI8E9jx4gU-u"
      },
      "execution_count": null,
      "outputs": []
    },
    {
      "cell_type": "code",
      "source": [
        "from scipy.cluster.vq import whiten\n",
        "from scipy.cluster.vq import kmeans"
      ],
      "metadata": {
        "id": "F71Uv704XWfJ"
      },
      "execution_count": null,
      "outputs": []
    },
    {
      "cell_type": "code",
      "source": [
        "import matplotlib.pyplot as plt\n",
        "import matplotlib.image as mpimg"
      ],
      "metadata": {
        "id": "i2BRJjDVX5IK"
      },
      "execution_count": null,
      "outputs": []
    },
    {
      "cell_type": "code",
      "source": [
        "import seaborn as sns"
      ],
      "metadata": {
        "id": "-9adSwkhVVBB"
      },
      "execution_count": null,
      "outputs": []
    },
    {
      "cell_type": "code",
      "source": [
        "import plotly.graph_objs as go\n",
        "from plotly.subplots import make_subplots"
      ],
      "metadata": {
        "id": "hudORJPyrG5k"
      },
      "execution_count": null,
      "outputs": []
    },
    {
      "cell_type": "code",
      "source": [
        "import warnings\n",
        "warnings.simplefilter(\"ignore\")"
      ],
      "metadata": {
        "id": "oANxb151YNwr"
      },
      "execution_count": null,
      "outputs": []
    },
    {
      "cell_type": "markdown",
      "source": [
        "## Import BeautifulSoup"
      ],
      "metadata": {
        "id": "XJfTi1CV7sxW"
      }
    },
    {
      "cell_type": "code",
      "source": [
        "from bs4 import BeautifulSoup"
      ],
      "metadata": {
        "id": "YgnDP2LqQvlZ"
      },
      "execution_count": null,
      "outputs": []
    },
    {
      "cell_type": "markdown",
      "source": [
        "## Install Selenium"
      ],
      "metadata": {
        "id": "MT_lG8VOPliI"
      }
    },
    {
      "cell_type": "code",
      "source": [
        "!pip install selenium"
      ],
      "metadata": {
        "colab": {
          "base_uri": "https://localhost:8080/"
        },
        "id": "zl1hqkIgiusJ",
        "outputId": "4e01a57f-ceef-4b47-d6cd-d30b880bc3eb"
      },
      "execution_count": null,
      "outputs": [
        {
          "output_type": "stream",
          "name": "stdout",
          "text": [
            "Collecting selenium\n",
            "  Downloading selenium-4.21.0-py3-none-any.whl (9.5 MB)\n",
            "\u001b[2K     \u001b[90m━━━━━━━━━━━━━━━━━━━━━━━━━━━━━━━━━━━━━━━━\u001b[0m \u001b[32m9.5/9.5 MB\u001b[0m \u001b[31m16.0 MB/s\u001b[0m eta \u001b[36m0:00:00\u001b[0m\n",
            "\u001b[?25hRequirement already satisfied: urllib3[socks]<3,>=1.26 in /usr/local/lib/python3.10/dist-packages (from selenium) (2.0.7)\n",
            "Collecting trio~=0.17 (from selenium)\n",
            "  Downloading trio-0.25.1-py3-none-any.whl (467 kB)\n",
            "\u001b[2K     \u001b[90m━━━━━━━━━━━━━━━━━━━━━━━━━━━━━━━━━━━━━━━━\u001b[0m \u001b[32m467.7/467.7 kB\u001b[0m \u001b[31m29.2 MB/s\u001b[0m eta \u001b[36m0:00:00\u001b[0m\n",
            "\u001b[?25hCollecting trio-websocket~=0.9 (from selenium)\n",
            "  Downloading trio_websocket-0.11.1-py3-none-any.whl (17 kB)\n",
            "Requirement already satisfied: certifi>=2021.10.8 in /usr/local/lib/python3.10/dist-packages (from selenium) (2024.6.2)\n",
            "Requirement already satisfied: typing_extensions>=4.9.0 in /usr/local/lib/python3.10/dist-packages (from selenium) (4.12.1)\n",
            "Requirement already satisfied: attrs>=23.2.0 in /usr/local/lib/python3.10/dist-packages (from trio~=0.17->selenium) (23.2.0)\n",
            "Requirement already satisfied: sortedcontainers in /usr/local/lib/python3.10/dist-packages (from trio~=0.17->selenium) (2.4.0)\n",
            "Requirement already satisfied: idna in /usr/local/lib/python3.10/dist-packages (from trio~=0.17->selenium) (3.7)\n",
            "Collecting outcome (from trio~=0.17->selenium)\n",
            "  Downloading outcome-1.3.0.post0-py2.py3-none-any.whl (10 kB)\n",
            "Requirement already satisfied: sniffio>=1.3.0 in /usr/local/lib/python3.10/dist-packages (from trio~=0.17->selenium) (1.3.1)\n",
            "Requirement already satisfied: exceptiongroup in /usr/local/lib/python3.10/dist-packages (from trio~=0.17->selenium) (1.2.1)\n",
            "Collecting wsproto>=0.14 (from trio-websocket~=0.9->selenium)\n",
            "  Downloading wsproto-1.2.0-py3-none-any.whl (24 kB)\n",
            "Requirement already satisfied: pysocks!=1.5.7,<2.0,>=1.5.6 in /usr/local/lib/python3.10/dist-packages (from urllib3[socks]<3,>=1.26->selenium) (1.7.1)\n",
            "Collecting h11<1,>=0.9.0 (from wsproto>=0.14->trio-websocket~=0.9->selenium)\n",
            "  Downloading h11-0.14.0-py3-none-any.whl (58 kB)\n",
            "\u001b[2K     \u001b[90m━━━━━━━━━━━━━━━━━━━━━━━━━━━━━━━━━━━━━━━━\u001b[0m \u001b[32m58.3/58.3 kB\u001b[0m \u001b[31m5.2 MB/s\u001b[0m eta \u001b[36m0:00:00\u001b[0m\n",
            "\u001b[?25hInstalling collected packages: outcome, h11, wsproto, trio, trio-websocket, selenium\n",
            "Successfully installed h11-0.14.0 outcome-1.3.0.post0 selenium-4.21.0 trio-0.25.1 trio-websocket-0.11.1 wsproto-1.2.0\n"
          ]
        }
      ]
    },
    {
      "cell_type": "code",
      "source": [
        "from selenium import webdriver\n",
        "from selenium.webdriver.support.ui import WebDriverWait\n",
        "from selenium.webdriver.support import expected_conditions\n",
        "from selenium.webdriver.common.by import By"
      ],
      "metadata": {
        "id": "qafxvFAZiphm"
      },
      "execution_count": null,
      "outputs": []
    },
    {
      "cell_type": "markdown",
      "source": [
        "## Install ChromeDriver Autoinstaller"
      ],
      "metadata": {
        "id": "CPgZ4cTWuVgz"
      }
    },
    {
      "cell_type": "code",
      "source": [
        "!mkdir Chrome"
      ],
      "metadata": {
        "id": "apw0bxFAkLcj"
      },
      "execution_count": null,
      "outputs": []
    },
    {
      "cell_type": "code",
      "source": [
        "cd /content/Chrome"
      ],
      "metadata": {
        "colab": {
          "base_uri": "https://localhost:8080/"
        },
        "id": "nAnKd9lxkGlx",
        "outputId": "c9b24ba9-b4a9-4865-f6da-df4bd8c59b36"
      },
      "execution_count": null,
      "outputs": [
        {
          "output_type": "stream",
          "name": "stdout",
          "text": [
            "/content/Chrome\n"
          ]
        }
      ]
    },
    {
      "cell_type": "code",
      "source": [
        "%%shell\n",
        "sudo apt -y update\n",
        "sudo apt install -y wget curl unzip\n",
        "wget http://archive.ubuntu.com/ubuntu/pool/main/libu/libu2f-host/libu2f-udev_1.1.4-1_all.deb\n",
        "dpkg -i libu2f-udev_1.1.4-1_all.deb\n",
        "wget https://dl.google.com/linux/direct/google-chrome-stable_current_amd64.deb\n",
        "dpkg -i google-chrome-stable_current_amd64.deb\n",
        "\n",
        "wget -N https://edgedl.me.gvt1.com/edgedl/chrome/chrome-for-testing/118.0.5993.70/linux64/chromedriver-linux64.zip -P /tmp/\n",
        "unzip -o /tmp/chromedriver-linux64.zip -d /tmp/\n",
        "chmod +x /tmp/chromedriver-linux64/chromedriver\n",
        "mv /tmp/chromedriver-linux64/chromedriver /usr/local/bin/chromedriver\n",
        "pip install selenium chromedriver_autoinstaller"
      ],
      "metadata": {
        "colab": {
          "base_uri": "https://localhost:8080/"
        },
        "id": "GATac7s1oIpf",
        "outputId": "9a04d51d-543e-4e1d-8533-eb38fc5f3d21"
      },
      "execution_count": null,
      "outputs": [
        {
          "output_type": "stream",
          "name": "stdout",
          "text": [
            "\u001b[33m\r0% [Working]\u001b[0m\r            \rHit:1 http://archive.ubuntu.com/ubuntu jammy InRelease\n",
            "Get:2 http://archive.ubuntu.com/ubuntu jammy-updates InRelease [128 kB]\n",
            "Get:3 https://developer.download.nvidia.com/compute/cuda/repos/ubuntu2204/x86_64  InRelease [1,581 B]\n",
            "Get:4 http://security.ubuntu.com/ubuntu jammy-security InRelease [129 kB]\n",
            "Get:5 http://archive.ubuntu.com/ubuntu jammy-backports InRelease [127 kB]\n",
            "Get:6 https://cloud.r-project.org/bin/linux/ubuntu jammy-cran40/ InRelease [3,626 B]\n",
            "Hit:7 https://ppa.launchpadcontent.net/c2d4u.team/c2d4u4.0+/ubuntu jammy InRelease\n",
            "Get:8 https://developer.download.nvidia.com/compute/cuda/repos/ubuntu2204/x86_64  Packages [917 kB]\n",
            "Get:9 https://ppa.launchpadcontent.net/deadsnakes/ppa/ubuntu jammy InRelease [18.1 kB]\n",
            "Get:10 https://ppa.launchpadcontent.net/graphics-drivers/ppa/ubuntu jammy InRelease [24.3 kB]\n",
            "Hit:11 https://ppa.launchpadcontent.net/ubuntugis/ppa/ubuntu jammy InRelease\n",
            "Get:12 http://archive.ubuntu.com/ubuntu jammy-updates/universe amd64 Packages [1,389 kB]\n",
            "Get:13 http://archive.ubuntu.com/ubuntu jammy-updates/main amd64 Packages [2,160 kB]\n",
            "Get:14 http://archive.ubuntu.com/ubuntu jammy-updates/multiverse amd64 Packages [51.5 kB]\n",
            "Get:15 http://archive.ubuntu.com/ubuntu jammy-backports/universe amd64 Packages [31.8 kB]\n",
            "Get:16 https://cloud.r-project.org/bin/linux/ubuntu jammy-cran40/ Packages [53.5 kB]\n",
            "Get:17 http://security.ubuntu.com/ubuntu jammy-security/restricted amd64 Packages [2,439 kB]\n",
            "Get:18 https://ppa.launchpadcontent.net/deadsnakes/ppa/ubuntu jammy/main amd64 Packages [27.8 kB]\n",
            "Get:19 https://ppa.launchpadcontent.net/graphics-drivers/ppa/ubuntu jammy/main amd64 Packages [47.9 kB]\n",
            "Get:20 http://security.ubuntu.com/ubuntu jammy-security/universe amd64 Packages [1,088 kB]\n",
            "Get:21 http://security.ubuntu.com/ubuntu jammy-security/main amd64 Packages [1,885 kB]\n",
            "Fetched 10.5 MB in 3s (3,320 kB/s)\n",
            "Reading package lists... Done\n",
            "Building dependency tree... Done\n",
            "Reading state information... Done\n",
            "49 packages can be upgraded. Run 'apt list --upgradable' to see them.\n",
            "Reading package lists... Done\n",
            "Building dependency tree... Done\n",
            "Reading state information... Done\n",
            "wget is already the newest version (1.21.2-2ubuntu1).\n",
            "curl is already the newest version (7.81.0-1ubuntu1.16).\n",
            "unzip is already the newest version (6.0-26ubuntu3.2).\n",
            "0 upgraded, 0 newly installed, 0 to remove and 49 not upgraded.\n",
            "--2024-06-09 12:23:57--  http://archive.ubuntu.com/ubuntu/pool/main/libu/libu2f-host/libu2f-udev_1.1.4-1_all.deb\n",
            "Resolving archive.ubuntu.com (archive.ubuntu.com)... 91.189.91.82, 185.125.190.39, 185.125.190.36, ...\n",
            "Connecting to archive.ubuntu.com (archive.ubuntu.com)|91.189.91.82|:80... connected.\n",
            "HTTP request sent, awaiting response... 200 OK\n",
            "Length: 3708 (3.6K) [application/vnd.debian.binary-package]\n",
            "Saving to: ‘libu2f-udev_1.1.4-1_all.deb’\n",
            "\n",
            "libu2f-udev_1.1.4-1 100%[===================>]   3.62K  --.-KB/s    in 0s      \n",
            "\n",
            "2024-06-09 12:23:57 (272 MB/s) - ‘libu2f-udev_1.1.4-1_all.deb’ saved [3708/3708]\n",
            "\n",
            "Selecting previously unselected package libu2f-udev.\n",
            "(Reading database ... 121913 files and directories currently installed.)\n",
            "Preparing to unpack libu2f-udev_1.1.4-1_all.deb ...\n",
            "Unpacking libu2f-udev (1.1.4-1) ...\n",
            "Setting up libu2f-udev (1.1.4-1) ...\n",
            "--2024-06-09 12:23:58--  https://dl.google.com/linux/direct/google-chrome-stable_current_amd64.deb\n",
            "Resolving dl.google.com (dl.google.com)... 173.194.217.93, 173.194.217.91, 173.194.217.136, ...\n",
            "Connecting to dl.google.com (dl.google.com)|173.194.217.93|:443... connected.\n",
            "HTTP request sent, awaiting response... 200 OK\n",
            "Length: 107630040 (103M) [application/x-debian-package]\n",
            "Saving to: ‘google-chrome-stable_current_amd64.deb’\n",
            "\n",
            "google-chrome-stabl 100%[===================>] 102.64M   193MB/s    in 0.5s    \n",
            "\n",
            "2024-06-09 12:23:58 (193 MB/s) - ‘google-chrome-stable_current_amd64.deb’ saved [107630040/107630040]\n",
            "\n",
            "Selecting previously unselected package google-chrome-stable.\n",
            "(Reading database ... 121917 files and directories currently installed.)\n",
            "Preparing to unpack google-chrome-stable_current_amd64.deb ...\n",
            "Unpacking google-chrome-stable (125.0.6422.141-1) ...\n",
            "\u001b[1mdpkg:\u001b[0m dependency problems prevent configuration of google-chrome-stable:\n",
            " google-chrome-stable depends on libvulkan1; however:\n",
            "  Package libvulkan1 is not installed.\n",
            "\n",
            "\u001b[1mdpkg:\u001b[0m error processing package google-chrome-stable (--install):\n",
            " dependency problems - leaving unconfigured\n",
            "Processing triggers for man-db (2.10.2-1) ...\n",
            "Errors were encountered while processing:\n",
            " google-chrome-stable\n",
            "--2024-06-09 12:24:13--  https://edgedl.me.gvt1.com/edgedl/chrome/chrome-for-testing/118.0.5993.70/linux64/chromedriver-linux64.zip\n",
            "Resolving edgedl.me.gvt1.com (edgedl.me.gvt1.com)... 34.104.35.123, 2600:1900:4110:86f::\n",
            "Connecting to edgedl.me.gvt1.com (edgedl.me.gvt1.com)|34.104.35.123|:443... connected.\n",
            "HTTP request sent, awaiting response... 200 OK\n",
            "Length: 8269742 (7.9M) [application/octet-stream]\n",
            "Saving to: ‘/tmp/chromedriver-linux64.zip’\n",
            "\n",
            "chromedriver-linux6 100%[===================>]   7.89M  36.6MB/s    in 0.2s    \n",
            "\n",
            "2024-06-09 12:24:14 (36.6 MB/s) - ‘/tmp/chromedriver-linux64.zip’ saved [8269742/8269742]\n",
            "\n",
            "Archive:  /tmp/chromedriver-linux64.zip\n",
            "  inflating: /tmp/chromedriver-linux64/LICENSE.chromedriver  \n",
            "  inflating: /tmp/chromedriver-linux64/chromedriver  \n",
            "Requirement already satisfied: selenium in /usr/local/lib/python3.10/dist-packages (4.21.0)\n",
            "Collecting chromedriver_autoinstaller\n",
            "  Downloading chromedriver_autoinstaller-0.6.4-py3-none-any.whl (7.6 kB)\n",
            "Requirement already satisfied: urllib3[socks]<3,>=1.26 in /usr/local/lib/python3.10/dist-packages (from selenium) (2.0.7)\n",
            "Requirement already satisfied: trio~=0.17 in /usr/local/lib/python3.10/dist-packages (from selenium) (0.25.1)\n",
            "Requirement already satisfied: trio-websocket~=0.9 in /usr/local/lib/python3.10/dist-packages (from selenium) (0.11.1)\n",
            "Requirement already satisfied: certifi>=2021.10.8 in /usr/local/lib/python3.10/dist-packages (from selenium) (2024.6.2)\n",
            "Requirement already satisfied: typing_extensions>=4.9.0 in /usr/local/lib/python3.10/dist-packages (from selenium) (4.12.1)\n",
            "Requirement already satisfied: packaging>=23.1 in /usr/local/lib/python3.10/dist-packages (from chromedriver_autoinstaller) (24.0)\n",
            "Requirement already satisfied: attrs>=23.2.0 in /usr/local/lib/python3.10/dist-packages (from trio~=0.17->selenium) (23.2.0)\n",
            "Requirement already satisfied: sortedcontainers in /usr/local/lib/python3.10/dist-packages (from trio~=0.17->selenium) (2.4.0)\n",
            "Requirement already satisfied: idna in /usr/local/lib/python3.10/dist-packages (from trio~=0.17->selenium) (3.7)\n",
            "Requirement already satisfied: outcome in /usr/local/lib/python3.10/dist-packages (from trio~=0.17->selenium) (1.3.0.post0)\n",
            "Requirement already satisfied: sniffio>=1.3.0 in /usr/local/lib/python3.10/dist-packages (from trio~=0.17->selenium) (1.3.1)\n",
            "Requirement already satisfied: exceptiongroup in /usr/local/lib/python3.10/dist-packages (from trio~=0.17->selenium) (1.2.1)\n",
            "Requirement already satisfied: wsproto>=0.14 in /usr/local/lib/python3.10/dist-packages (from trio-websocket~=0.9->selenium) (1.2.0)\n",
            "Requirement already satisfied: pysocks!=1.5.7,<2.0,>=1.5.6 in /usr/local/lib/python3.10/dist-packages (from urllib3[socks]<3,>=1.26->selenium) (1.7.1)\n",
            "Requirement already satisfied: h11<1,>=0.9.0 in /usr/local/lib/python3.10/dist-packages (from wsproto>=0.14->trio-websocket~=0.9->selenium) (0.14.0)\n",
            "Installing collected packages: chromedriver_autoinstaller\n",
            "Successfully installed chromedriver_autoinstaller-0.6.4\n"
          ]
        },
        {
          "output_type": "execute_result",
          "data": {
            "text/plain": []
          },
          "metadata": {},
          "execution_count": 12
        }
      ]
    },
    {
      "cell_type": "code",
      "source": [
        "cd .."
      ],
      "metadata": {
        "colab": {
          "base_uri": "https://localhost:8080/"
        },
        "id": "9z8UgWkbPgj8",
        "outputId": "42ffbcf6-ea43-4ce0-f110-11bd132a5643"
      },
      "execution_count": null,
      "outputs": [
        {
          "output_type": "stream",
          "name": "stdout",
          "text": [
            "/content\n"
          ]
        }
      ]
    },
    {
      "cell_type": "code",
      "source": [
        "sys.path.insert(0,'/usr/lib/chromium-browser/chromedriver')"
      ],
      "metadata": {
        "id": "RI_qn3JunkAn"
      },
      "execution_count": null,
      "outputs": []
    },
    {
      "cell_type": "code",
      "source": [
        "import chromedriver_autoinstaller"
      ],
      "metadata": {
        "id": "S3UfCGZ8-fPY"
      },
      "execution_count": null,
      "outputs": []
    },
    {
      "cell_type": "markdown",
      "source": [
        "## Import models"
      ],
      "metadata": {
        "id": "HePeB9KoP8UP"
      }
    },
    {
      "cell_type": "code",
      "source": [
        "from sklearn.model_selection import train_test_split"
      ],
      "metadata": {
        "id": "Yd_pb_BPXuKf"
      },
      "execution_count": null,
      "outputs": []
    },
    {
      "cell_type": "code",
      "source": [
        "from sklearn.cluster import KMeans"
      ],
      "metadata": {
        "id": "Z4MY_SX1Xy-1"
      },
      "execution_count": null,
      "outputs": []
    },
    {
      "cell_type": "code",
      "source": [
        "from sklearn.linear_model import LogisticRegression\n",
        "from sklearn.ensemble import RandomForestClassifier\n",
        "from sklearn.svm import SVC"
      ],
      "metadata": {
        "id": "mtsPKYeFQTti"
      },
      "execution_count": null,
      "outputs": []
    },
    {
      "cell_type": "code",
      "source": [
        "from sklearn.metrics import classification_report, confusion_matrix"
      ],
      "metadata": {
        "id": "FAjwUMrqQBd3"
      },
      "execution_count": null,
      "outputs": []
    },
    {
      "cell_type": "code",
      "source": [
        "from imblearn.pipeline import make_pipeline\n",
        "from imblearn.over_sampling import RandomOverSampler"
      ],
      "metadata": {
        "id": "ld2aB43po8H6"
      },
      "execution_count": null,
      "outputs": []
    },
    {
      "cell_type": "markdown",
      "source": [
        "# Crawl data"
      ],
      "metadata": {
        "id": "8tX1lrABG9Jr"
      }
    },
    {
      "cell_type": "code",
      "source": [
        "# !mkdir '/content/drive/MyDrive/UIT/HK4/Tiền xử lý và xây dựng bộ dữ liệu/Đồ án TXL&XDBDL/Data/Raw data'"
      ],
      "metadata": {
        "id": "SLIU3Hm6IvNk"
      },
      "execution_count": null,
      "outputs": []
    },
    {
      "cell_type": "code",
      "source": [
        "# !mkdir /content/drive/MyDrive/UIT/HK4/Tiền xử lý và xây dựng bộ dữ liệu/Đồ án TXL&XDBDL/Data/Raw data/Official'"
      ],
      "metadata": {
        "id": "KI3lE4_VW_nB"
      },
      "execution_count": null,
      "outputs": []
    },
    {
      "cell_type": "code",
      "source": [
        "cd '/content/drive/MyDrive/UIT/HK4/Tiền xử lý và xây dựng bộ dữ liệu/Đồ án TXL&XDBDL/Data/Raw data/Official'"
      ],
      "metadata": {
        "colab": {
          "base_uri": "https://localhost:8080/"
        },
        "id": "rT0wlAYjXDk6",
        "outputId": "0f0d0829-b398-4704-a930-38bb1799f83e"
      },
      "execution_count": null,
      "outputs": [
        {
          "output_type": "stream",
          "name": "stdout",
          "text": [
            "/content/drive/MyDrive/UIT/HK4/Tiền xử lý và xây dựng bộ dữ liệu/Đồ án TXL&XDBDL/Data/Raw data/Official\n"
          ]
        }
      ]
    },
    {
      "cell_type": "code",
      "source": [
        "# Tạo thư mục và thay đổi thư mục làm việc hiện tại thành thư mục được tạo\n",
        "def create_folder(folder_name):\n",
        "    # Lấy đường dẫn của thư mục hiện hành\n",
        "    current_directory = os.getcwd()\n",
        "\n",
        "    # Tạo đường dẫn tới thư mục được tạo\n",
        "    new_folder_path = os.path.join(current_directory, folder_name)\n",
        "\n",
        "    if not os.path.exists(new_folder_path):\n",
        "        # Tạo thư mục\n",
        "        os.mkdir(new_folder_path)\n",
        "\n",
        "        # Thay đổi thư mục hiện hành thành thư mục được tạo\n",
        "        os.chdir(new_folder_path)"
      ],
      "metadata": {
        "id": "7C7owXVwzVbb"
      },
      "execution_count": null,
      "outputs": []
    },
    {
      "cell_type": "code",
      "source": [
        "# Hoa cần crawl\n",
        "color_flowers = {\n",
        "    'red_flowers': ['Red Rosa', 'Red Tulipa', 'Red Lilium'],\n",
        "    'yellow_flowers': ['Helianthus Annuus'],\n",
        "    'blue_flowers': ['Evolvulus Alsinoides', 'Aster Amellus', 'Platycodon Grandiflorum'],\n",
        "    'purple_flowers': ['Lavandula Angustifolia'],\n",
        "    'white_flowers': ['Tanacetum Parthenium', 'Lilium Longiflorum', 'White Tulipa'],\n",
        "    'pink_flowers': ['Pink Tulipa', 'Pink Nelumbo Nucifera', 'Dianthus'],\n",
        "}"
      ],
      "metadata": {
        "id": "5FBCdVtaOY0O"
      },
      "execution_count": null,
      "outputs": []
    },
    {
      "cell_type": "code",
      "source": [
        "# Truy cập vào link ảnh và lưu ảnh đó vào thư mục hiện hành\n",
        "def save_image(link, file_name):\n",
        "    # Gửi yêu cầu HTTP GET đến link ảnh\n",
        "    response = requests.get(link, headers = {'User-Agent': 'Mozilla/5.0 (Windows NT 10.0; Win64; x64) AppleWebKit/537.36 (KHTML, like Gecko) Chrome/91.0.4472.114 Safari/537.36'})\n",
        "\n",
        "    if response.status_code == 200:\n",
        "        # Lưu ảnh\n",
        "        with open(f'{file_name}.jpg', 'wb') as file:\n",
        "            file.write(response.content)\n",
        "    else:\n",
        "        # In ra lỗi\n",
        "        print('Error:', response.status_code, response.text)"
      ],
      "metadata": {
        "id": "oIjSUIlfozXi"
      },
      "execution_count": null,
      "outputs": []
    },
    {
      "cell_type": "markdown",
      "source": [
        "## Crawl 1 (BeautifulSoup)"
      ],
      "metadata": {
        "id": "r2m4H3esza0C"
      }
    },
    {
      "cell_type": "code",
      "source": [
        "# !mkdir '/content/drive/MyDrive/UIT/HK4/Tiền xử lý và xây dựng bộ dữ liệu/Đồ án TXL&XDBDL/Data/Raw data/Official/Crawl 1'"
      ],
      "metadata": {
        "id": "NzIRea2gD5LT"
      },
      "execution_count": null,
      "outputs": []
    },
    {
      "cell_type": "code",
      "source": [
        "cd '/content/drive/MyDrive/UIT/HK4/Tiền xử lý và xây dựng bộ dữ liệu/Đồ án TXL&XDBDL/Data/Raw data/Official/Crawl 1'"
      ],
      "metadata": {
        "colab": {
          "base_uri": "https://localhost:8080/"
        },
        "id": "h9HZ1gjqD9Cb",
        "outputId": "218d7bd1-068b-4ef2-879a-d72b14440953"
      },
      "execution_count": null,
      "outputs": [
        {
          "output_type": "stream",
          "name": "stdout",
          "text": [
            "/content/drive/MyDrive/UIT/HK4/Tiền xử lý và xây dựng bộ dữ liệu/Đồ án TXL&XDBDL/Data/Raw data/Official/Crawl 1\n"
          ]
        }
      ]
    },
    {
      "cell_type": "code",
      "source": [
        "# Crawl ảnh bằng BeautifulSoup\n",
        "## Pexels\n",
        "def fetch_pexels_images_beautifulsoup(flower, file_name):\n",
        "    response_pexels = requests.get(f'https://api.pexels.com/v1/search?&query={flower}&per_page=100', headers = {'Authorization': 'sugq3B6XBSAGYujHhbI2qumhqv8a423tWm9TkMyluSfJx56H6owSmFEH'})\n",
        "\n",
        "    if response_pexels.status_code == 200:\n",
        "        # Chuyển đổi nội dung của kết quả trả về từ một định dạng dữ liệu JSON sang một cấu trúc dữ liệu Python\n",
        "        data_pexels = response_pexels.json()\n",
        "\n",
        "        # Duyệt qua các tag ảnh và lưu ảnh lại với tên là file_name (được đánh theo số thứ tự)\n",
        "        for tag in data_pexels['photos']:\n",
        "            save_image(tag['src']['original'], file_name)\n",
        "            file_name += 1\n",
        "    else:\n",
        "        print('Error:', response_pexels.status_code, response_pexels.text)\n",
        "\n",
        "    return file_name\n",
        "\n",
        "## Unsplash\n",
        "def fetch_unsplash_images_beautifulsoup(flower, file_name):\n",
        "    response_unsplash = requests.get(f'https://api.unsplash.com/search/photos?client_id=zsRoViNqmvwZN4CY8OTHju65zxeIAPrVz9k7-Bo6o3U&query={flower}')\n",
        "\n",
        "    if response_unsplash.status_code == 200:\n",
        "        data_unsplash = response_unsplash.json()\n",
        "\n",
        "        for tag in data_unsplash['results']:\n",
        "            save_image(tag['urls']['raw'], file_name)\n",
        "            file_name += 1\n",
        "    else:\n",
        "        print('Error:', response_unsplash.status_code, response_unsplash.text)\n",
        "\n",
        "    return file_name\n",
        "\n",
        "## Pixabay\n",
        "def fetch_pixabay_images_beautifulsoup(flower, file_name):\n",
        "    response_pixabay = requests.get(f'https://pixabay.com/api/?key=44260413-4924084fe971176f870456766&q={flower}&image_type=photo')\n",
        "\n",
        "    if response_pixabay.status_code == 200:\n",
        "        data_pixabay = response_pixabay.json()\n",
        "\n",
        "        for tag in data_pixabay['hits']:\n",
        "            save_image(tag['largeImageURL'], file_name)\n",
        "            file_name += 1\n",
        "    else:\n",
        "        print('Error:', response_pixabay.status_code, response_pixabay.text)\n",
        "\n",
        "    return file_name"
      ],
      "metadata": {
        "id": "iodktOSwWEbo"
      },
      "execution_count": null,
      "outputs": []
    },
    {
      "cell_type": "code",
      "source": [
        "for color in color_flowers:\n",
        "    create_folder(color)\n",
        "\n",
        "    for flower in color_flowers[color]:\n",
        "        create_folder(flower)\n",
        "\n",
        "        file_name = 0\n",
        "        file_name = fetch_pexels_images_beautifulsoup(flower, file_name)\n",
        "        file_name = fetch_unsplash_images_beautifulsoup(flower, file_name)\n",
        "        file_name = fetch_pixabay_images_beautifulsoup(flower, file_name)\n",
        "\n",
        "        os.chdir('..')\n",
        "\n",
        "    os.chdir('..')"
      ],
      "metadata": {
        "id": "bX6hUTEcONf_"
      },
      "execution_count": null,
      "outputs": []
    },
    {
      "cell_type": "markdown",
      "source": [
        "## Crawl 2 (Selenium)"
      ],
      "metadata": {
        "id": "Qmr3DsRghFZL"
      }
    },
    {
      "cell_type": "code",
      "source": [
        "# !mkdir '/content/drive/MyDrive/UIT/HK4/Tiền xử lý và xây dựng bộ dữ liệu/Đồ án TXL&XDBDL/Data/Raw data/Official/Crawl 2'"
      ],
      "metadata": {
        "id": "5zFiBvX3QhGA"
      },
      "execution_count": null,
      "outputs": []
    },
    {
      "cell_type": "code",
      "source": [
        "cd '/content/drive/MyDrive/UIT/HK4/Tiền xử lý và xây dựng bộ dữ liệu/Đồ án TXL&XDBDL/Data/Raw data/Official/Crawl 2'"
      ],
      "metadata": {
        "colab": {
          "base_uri": "https://localhost:8080/"
        },
        "id": "ukJWP_PaQ_-5",
        "outputId": "b2518179-e1a2-45b7-fd23-a0a87a372bd7"
      },
      "execution_count": null,
      "outputs": [
        {
          "output_type": "stream",
          "name": "stdout",
          "text": [
            "/content/drive/MyDrive/UIT/HK4/Tiền xử lý và xây dựng bộ dữ liệu/Đồ án TXL&XDBDL/Data/Raw data/Official/Crawl 2\n"
          ]
        }
      ]
    },
    {
      "cell_type": "code",
      "source": [
        "# Cài đặt chromedriver\n",
        "## Tạo đối tượng Chrome\n",
        "chrome_options = webdriver.ChromeOptions()\n",
        "\n",
        "## Thêm tùy chọn\n",
        "chrome_options.add_argument('--headless') # Trình duyệt không hiển thị khi chạy\n",
        "chrome_options.add_argument('--no-sandbox') # Tắt tính năng sandbox để chạy ChromeDriver trong môi trường khác (không phải môi trường sandbox)\n",
        "chrome_options.add_argument('--disable-dev-shm-usage') # Vô hiệu hóa việc sử dụng bộ nhớ chia sẻ khi chạy\n",
        "\n",
        "## Tự động cài đặt phiên bản ChromeDriver phù hợp với trình duyệt Chrome đã cài đặt trong hệ thống\n",
        "chromedriver_autoinstaller.install()"
      ],
      "metadata": {
        "colab": {
          "base_uri": "https://localhost:8080/",
          "height": 36
        },
        "id": "rtJ98FPxuHej",
        "outputId": "7ed4ef56-130c-400e-a93c-1a25eeaad2b7"
      },
      "execution_count": null,
      "outputs": [
        {
          "output_type": "execute_result",
          "data": {
            "text/plain": [
              "'/usr/local/lib/python3.10/dist-packages/chromedriver_autoinstaller/125/chromedriver'"
            ],
            "application/vnd.google.colaboratory.intrinsic+json": {
              "type": "string"
            }
          },
          "metadata": {},
          "execution_count": 16
        }
      ]
    },
    {
      "cell_type": "code",
      "source": [
        "# Crawl ảnh bằng selenium (Wikimedia commons)\n",
        "def fetch_wikimedia_commons_images_selenium(flower):\n",
        "    # Tạo phiên bản của WebDriver cho trình duyện Chrome\n",
        "    driver = webdriver.Chrome(options = chrome_options)\n",
        "\n",
        "    # Mở đường dẫn trong WebDriver\n",
        "    driver.get(f'https://commons.wikimedia.org/w/index.php?search={flower}&title=Special:MediaSearch&fulltext=Search&type=image')\n",
        "    time.sleep(1) # Chương trình tạm dừng để trang web có thời gian để tải\n",
        "\n",
        "    # Tải tất cả ảnh từ đường dẫn\n",
        "    while True:\n",
        "        try:\n",
        "            ## Click vào Load More để tải thêm ảnh\n",
        "            wait = WebDriverWait(driver, 100) # Tạo đối tượng WebDriverWait\n",
        "            button = wait.until(expected_conditions.element_to_be_clickable((By.CSS_SELECTOR, '.cdx-button.cdx-button--action-progressive.cdx-button--weight-normal.cdx-button--size-medium.cdx-button--framed.sdms-load-more'))) # Tìm phần tử Load More và lưu vào button\n",
        "            button.click() # Click vào button\n",
        "\n",
        "            ## Kéo xuống cuối trang\n",
        "            ### Lấy chiều cao của toàn bộ nội dung hiện tại và lưu vào biến last_height\n",
        "            last_height = driver.execute_script(\"return document.body.scrollHeight\")\n",
        "\n",
        "            while True:\n",
        "                ### Cuộn trang xuống dưới cùng\n",
        "                driver.execute_script(\"window.scrollTo(0, document.body.scrollHeight);\")\n",
        "                time.sleep(0.5)\n",
        "\n",
        "                ### Lấy chiều cao của toàn bộ nội dung sau khi cuộn trang và lưu vào biến new_height\n",
        "                new_height = driver.execute_script(\"return document.body.scrollHeight\")\n",
        "\n",
        "                ### Nếu đã cuộn trang xuống dưới cùng thì break\n",
        "                if new_height == last_height:\n",
        "                    break\n",
        "\n",
        "                ### Gán chiều cao hiện tại thành chiều cao sau khi cuộn trang\n",
        "                last_height = new_height\n",
        "        except:\n",
        "            break\n",
        "\n",
        "    # Tìm tất cả các phần tử có chứa ảnh\n",
        "    elements = driver.find_elements(By.CLASS_NAME, 'sd-image')\n",
        "\n",
        "    # Tìm link ảnh thuộc các phần tử đó\n",
        "    links = [element.get_attribute('data-src') for element in elements]\n",
        "\n",
        "    # Truy cập vào link ảnh và lưu ảnh\n",
        "    file_name = 0\n",
        "    for link in links:\n",
        "        save_image(link, file_name)\n",
        "        file_name += 1\n",
        "\n",
        "    # Đóng tất cả các cửa sổ và kết thúc phiên làm việc của WebDriver\n",
        "    driver.quit()"
      ],
      "metadata": {
        "id": "KGpNuEi2hIPp"
      },
      "execution_count": null,
      "outputs": []
    },
    {
      "cell_type": "code",
      "source": [
        "for color in color_flowers:\n",
        "    create_folder(color)\n",
        "\n",
        "    for flower in color_flowers[color]:\n",
        "        create_folder(flower)\n",
        "\n",
        "        fetch_wikimedia_commons_images_selenium(flower)\n",
        "\n",
        "        os.chdir('..')\n",
        "\n",
        "    os.chdir('..')"
      ],
      "metadata": {
        "id": "_bWzJ87zTALb"
      },
      "execution_count": null,
      "outputs": []
    },
    {
      "cell_type": "markdown",
      "source": [
        "# Preprocess image data"
      ],
      "metadata": {
        "id": "tBZtdxPAPjTz"
      }
    },
    {
      "cell_type": "markdown",
      "source": [
        "## Format data"
      ],
      "metadata": {
        "id": "8ai-6ELZl9qI"
      }
    },
    {
      "cell_type": "code",
      "source": [
        "filtered_data_path = '/content/drive/MyDrive/UIT/HK4/Tiền xử lý và xây dựng bộ dữ liệu/Đồ án TXL&XDBDL/Data/Filtered data/Filtered 2'"
      ],
      "metadata": {
        "id": "PB6xdBVYmCKO"
      },
      "execution_count": null,
      "outputs": []
    },
    {
      "cell_type": "code",
      "source": [
        "# !mkdir '/content/drive/MyDrive/UIT/HK4/Tiền xử lý và xây dựng bộ dữ liệu/Đồ án TXL&XDBDL/Data/Official data/Tidy data'"
      ],
      "metadata": {
        "id": "K0PnhjtlmEtf"
      },
      "execution_count": null,
      "outputs": []
    },
    {
      "cell_type": "code",
      "source": [
        "data_path = '/content/drive/MyDrive/UIT/HK4/Tiền xử lý và xây dựng bộ dữ liệu/Đồ án TXL&XDBDL/Data/Official data/Tidy data'"
      ],
      "metadata": {
        "id": "CxjFNRr0YDc8"
      },
      "execution_count": null,
      "outputs": []
    },
    {
      "cell_type": "code",
      "source": [
        "# Lưu và đặt lại tên tất cả ảnh đã lọc vào thư mục Tidy data\n",
        "index = 0\n",
        "for color in os.listdir(filtered_data_path):\n",
        "    for flower in os.listdir(os.path.join(filtered_data_path, color)):\n",
        "        for image in os.listdir(os.path.join(filtered_data_path, color, flower)):\n",
        "            temp_image = cv2.imread(os.path.join(filtered_data_path, color, flower, image))\n",
        "            file_name = os.path.join(data_path, flower + '_' + str(index) + '.jpg')\n",
        "            cv2.imwrite(file_name, temp_image)\n",
        "            index += 1"
      ],
      "metadata": {
        "id": "3obi8TYyl_Mx"
      },
      "execution_count": null,
      "outputs": []
    },
    {
      "cell_type": "markdown",
      "source": [
        "## Delete background"
      ],
      "metadata": {
        "id": "AtBsB_DLPlKR"
      }
    },
    {
      "cell_type": "code",
      "source": [
        "# !mkdir '/content/drive/MyDrive/UIT/HK4/Tiền xử lý và xây dựng bộ dữ liệu/Đồ án TXL&XDBDL/Data/Official data/Background-deleted data'"
      ],
      "metadata": {
        "id": "_AvXg6CaZmPn"
      },
      "execution_count": null,
      "outputs": []
    },
    {
      "cell_type": "code",
      "source": [
        "preprocessed_data_path = '/content/drive/MyDrive/UIT/HK4/Tiền xử lý và xây dựng bộ dữ liệu/Đồ án TXL&XDBDL/Data/Official data/Background-deleted data'"
      ],
      "metadata": {
        "id": "B8cd5RXpYDZW"
      },
      "execution_count": null,
      "outputs": []
    },
    {
      "cell_type": "code",
      "source": [
        "def kmeans_lab_otsu_mask(image_path):\n",
        "    # Đọc ảnh\n",
        "    image = cv2.imread(image_path)\n",
        "\n",
        "    # Resize ảnh\n",
        "    image = cv2.resize(image, (128, 128))\n",
        "\n",
        "    # Filter median (5x5)\n",
        "    filtered_image = cv2.medianBlur(image, 5)\n",
        "\n",
        "    # Phân đoạn ảnh\n",
        "    ## Dùng model KMeans\n",
        "    nrow, ncol, nchl = filtered_image.shape\n",
        "    g = filtered_image.reshape(nrow * ncol, nchl)\n",
        "\n",
        "    k_means = KMeans(n_clusters = 6, random_state = 0)\n",
        "    k_means.fit(g)\n",
        "\n",
        "    t = k_means.cluster_centers_[k_means.labels_]\n",
        "\n",
        "    image_kmeans = t.reshape(nrow, ncol, nchl)\n",
        "    image_kmeans = image_kmeans.astype(np.uint8)\n",
        "\n",
        "    ## Chuyển ảnh từ hệ màu RGB sang hệ màu LAB rồi chuyển đến hệ màu Grayscale\n",
        "    image_kmeans = cv2.cvtColor(image_kmeans, cv2.COLOR_RGB2LAB)\n",
        "    gray_image = cv2.cvtColor(image_kmeans, cv2.COLOR_RGB2GRAY)\n",
        "\n",
        "    ## Áp dụng Otsu's thresholding\n",
        "    thresh = cv2.threshold(gray_image, 0, 255, cv2.THRESH_BINARY + cv2.THRESH_OTSU)[1]\n",
        "\n",
        "    ## Tạo mask từ ảnh phân đoạn\n",
        "    mask = cv2.inRange(thresh, 255, 255)\n",
        "\n",
        "    ## In ảnh ban đầu lên vùng đã mask của ảnh K-Means\n",
        "    background_deleted_image = cv2.bitwise_and(image, image, mask = mask)\n",
        "\n",
        "    return background_deleted_image"
      ],
      "metadata": {
        "id": "_2CF9tQuPrR-"
      },
      "execution_count": null,
      "outputs": []
    },
    {
      "cell_type": "code",
      "source": [
        "for image in os.listdir(os.path.join(data_path)):\n",
        "    temp_image = kmeans_lab_otsu_mask(os.path.join(data_path, image))\n",
        "    file_name = os.path.join(preprocessed_data_path, image)\n",
        "    cv2.imwrite(file_name, temp_image)"
      ],
      "metadata": {
        "id": "BJ_b8vGVecpc"
      },
      "execution_count": null,
      "outputs": []
    },
    {
      "cell_type": "markdown",
      "source": [
        "## Extract features"
      ],
      "metadata": {
        "id": "cd4KRYO9PE9A"
      }
    },
    {
      "cell_type": "markdown",
      "source": [
        "### Load label"
      ],
      "metadata": {
        "id": "HBX2zSY0WpbG"
      }
    },
    {
      "cell_type": "code",
      "source": [
        "def load_dataset(path):\n",
        "    # Tạo list lưu ảnh và label\n",
        "    X_image = []\n",
        "    y = []\n",
        "\n",
        "    nrow, ncol = 227, 227\n",
        "\n",
        "    for image in os.listdir(path):\n",
        "        file_name = image.split('_')\n",
        "        name = file_name[0]\n",
        "\n",
        "        X_image.append(image)\n",
        "        y.append(name)\n",
        "\n",
        "    X_image = np.array(X_image)\n",
        "    y = np.array(y)\n",
        "\n",
        "    return X_image, y"
      ],
      "metadata": {
        "id": "EqFwFljTPH-j"
      },
      "execution_count": null,
      "outputs": []
    },
    {
      "cell_type": "code",
      "source": [
        "X_image, y = load_dataset(preprocessed_data_path)"
      ],
      "metadata": {
        "id": "9RJ1btMbc-De"
      },
      "execution_count": null,
      "outputs": []
    },
    {
      "cell_type": "code",
      "source": [
        "X_image"
      ],
      "metadata": {
        "colab": {
          "base_uri": "https://localhost:8080/"
        },
        "id": "IkERPw8mdM6n",
        "outputId": "52b88802-fa96-4d7a-fcf0-5135e2164ee0"
      },
      "execution_count": null,
      "outputs": [
        {
          "output_type": "execute_result",
          "data": {
            "text/plain": [
              "array(['Platycodon Grandiflorum_0.jpg', 'Platycodon Grandiflorum_1.jpg',\n",
              "       'Platycodon Grandiflorum_2.jpg', ..., 'White Tulipa_1664.jpg',\n",
              "       'White Tulipa_1665.jpg', 'White Tulipa_1666.jpg'], dtype='<U31')"
            ]
          },
          "metadata": {},
          "execution_count": 46
        }
      ]
    },
    {
      "cell_type": "code",
      "source": [
        "y"
      ],
      "metadata": {
        "colab": {
          "base_uri": "https://localhost:8080/"
        },
        "id": "M-pk70k3dPXh",
        "outputId": "7ce1a782-7cc8-4d4e-9650-5985c72b2806"
      },
      "execution_count": null,
      "outputs": [
        {
          "output_type": "execute_result",
          "data": {
            "text/plain": [
              "array(['Platycodon Grandiflorum', 'Platycodon Grandiflorum',\n",
              "       'Platycodon Grandiflorum', ..., 'White Tulipa', 'White Tulipa',\n",
              "       'White Tulipa'], dtype='<U23')"
            ]
          },
          "metadata": {},
          "execution_count": 47
        }
      ]
    },
    {
      "cell_type": "markdown",
      "source": [
        "### Extract features of colors"
      ],
      "metadata": {
        "id": "XXTLje1YWsCj"
      }
    },
    {
      "cell_type": "code",
      "source": [
        "# Lấy các màu chủ đạo của ảnh\n",
        "def get_dominant_colors(image_path):\n",
        "    # Đọc ảnh\n",
        "    image = mpimg.imread(image_path)\n",
        "    w, h, d = tuple(image.shape) # Trích xuất chiều rộng, chiều cao và kênh màu của ảnh\n",
        "    pixels = np.reshape(image, (w * h, d)) # Biến đổi mảng thành mảng 2 chiều (hàng là điểm ảnh, cột là kênh màu)\n",
        "\n",
        "    # Dùng model KMeans\n",
        "    k_means = KMeans(n_clusters = 2, random_state = 42)\n",
        "    k_means.fit(pixels)\n",
        "\n",
        "    # Lưu các màu chủ đạo\n",
        "    palette = np.uint8(k_means.cluster_centers_)\n",
        "\n",
        "    return palette\n",
        "\n",
        "# Lấy màu của hoa\n",
        "def get_flower_color(colors):\n",
        "    black = [0, 0, 0]\n",
        "    distances = []\n",
        "\n",
        "    for color in colors:\n",
        "      # Tính khoảng cách Euclidean giữa các màu với màu đen\n",
        "      distance = np.linalg.norm(np.array(color) - np.array(black))\n",
        "      distances.append(distance)\n",
        "\n",
        "    # Tìm vị trí của màu có khoảng cách xa nhất\n",
        "    further_color_index = distances.index(max(distances))\n",
        "\n",
        "    return colors[further_color_index]\n",
        "\n",
        "# Trích xuất đặc trưng màu\n",
        "def extract_color_feature(X_images, path):\n",
        "    # Tạo list lưu giá trị các biến màu của các hệ màu\n",
        "    ## Hệ màu LAB\n",
        "    X_l = []\n",
        "    X_a = []\n",
        "    X_b = []\n",
        "\n",
        "    ## Hệ màu HSV\n",
        "    X_h = []\n",
        "    X_s = []\n",
        "    X_v = []\n",
        "\n",
        "    for image in X_images:\n",
        "        # Lấy màu của hoa\n",
        "        palette = get_dominant_colors(os.path.join(path, image))\n",
        "        flower_color = get_flower_color(palette)\n",
        "\n",
        "        # Chuyển đổi sang 2 hệ màu LAB và HSV\n",
        "        flower_color = np.array(flower_color, dtype = np.uint8).reshape(1, 1, 3)\n",
        "        lab = cv2.cvtColor(flower_color, cv2.COLOR_RGB2LAB)\n",
        "        lab = lab[0][0]\n",
        "        hsv = cv2.cvtColor(flower_color, cv2.COLOR_RGB2HSV)\n",
        "        hsv = hsv[0][0]\n",
        "\n",
        "        # Lưu giá trị của các biến màu của các hệ màu\n",
        "        X_l.append(np.array(lab[0]))\n",
        "        X_a.append(np.array(lab[1]))\n",
        "        X_b.append(np.array(lab[2]))\n",
        "        X_h.append(np.array(hsv[0]))\n",
        "        X_s.append(np.array(hsv[1]))\n",
        "        X_v.append(np.array(hsv[2]))\n",
        "\n",
        "    # Chuyển sang mảng array\n",
        "    X_l = np.array(X_l)\n",
        "    X_a = np.array(X_a)\n",
        "    X_b = np.array(X_b)\n",
        "    X_h = np.array(X_h)\n",
        "    X_s = np.array(X_s)\n",
        "    X_v = np.array(X_v)\n",
        "\n",
        "    return X_l, X_a, X_b, X_h, X_s, X_v"
      ],
      "metadata": {
        "id": "Vg7OgKnSTTaR"
      },
      "execution_count": null,
      "outputs": []
    },
    {
      "cell_type": "code",
      "source": [
        "X_l, X_a, X_b, X_h, X_s, X_v = extract_color_feature(X_image, preprocessed_data_path)"
      ],
      "metadata": {
        "id": "NrDFP-bxeEN1"
      },
      "execution_count": null,
      "outputs": []
    },
    {
      "cell_type": "markdown",
      "source": [
        "### Extract features of edge"
      ],
      "metadata": {
        "id": "wyjK-XLlZzJ3"
      }
    },
    {
      "cell_type": "code",
      "source": [
        "# Dùng bộ lọc Sobel\n",
        "def sobel_filters(image):\n",
        "    # Tạo ma trận bộ lọc Sobel\n",
        "    Sx = np.array([[-1, 0, 1], [-2, 0, 2], [-1, 0, 1]], np.float32) # Theo hướng x\n",
        "    Sy = np.array([[1, 2, 1], [0, 0, 0], [-1, -2, -1]], np.float32) # Theo hướng y\n",
        "\n",
        "    # Áp dụng bộ lọc Sobel lên ảnh\n",
        "    Ix = cv2.filter2D(image, -1, Sx)\n",
        "    Iy = cv2.filter2D(image, -1, Sy)\n",
        "\n",
        "    # Tính gradient\n",
        "    G = np.hypot(Ix, Iy) # Tính biên độ của gradient\n",
        "    G = G / G.max() * 255 # Chuẩn hóa biên độ của gradient\n",
        "    theta = np.arctan2(Iy, Ix) # Tính toán hướng của gradient\n",
        "\n",
        "    return Ix, Iy, G, theta\n",
        "\n",
        "# Tính toán vector đặc trưng\n",
        "def calculate_sobel_feature_vector(image_source):\n",
        "    image_destination = image_source.copy()\n",
        "    image_destination = cv2.resize(image_destination, (256, 256))\n",
        "    Ix, Iy, G, theta  = sobel_filters(image_destination)\n",
        "\n",
        "    # Tính tổng của giá trị biên độ gradient\n",
        "    feature = []\n",
        "\n",
        "    ## Theo hàng\n",
        "    for i in range(G.shape[0]):\n",
        "        temp = 0\n",
        "        for j in range(G.shape[1]):\n",
        "            temp = temp + G[i, j]\n",
        "        feature.append(temp)\n",
        "\n",
        "    ## Theo cột\n",
        "    for j in range(G.shape[1]):\n",
        "        temp = 0\n",
        "        for i in range(G.shape[0]):\n",
        "            temp = temp + G[i, j]\n",
        "        feature.append(temp)\n",
        "\n",
        "    return feature\n",
        "\n",
        "# Trích xuất đặc trưng cạnh\n",
        "def extract_features_of_edge_sobel(X_image, path):\n",
        "    X_edge = []\n",
        "\n",
        "    for image in X_image:\n",
        "      image_source = cv2.imread(os.path.join(path, image), 0)\n",
        "      edge = calculate_sobel_feature_vector(image_source)\n",
        "\n",
        "      # Lưu giá trị các biến cạnh\n",
        "      X_edge.append(np.array(edge))\n",
        "\n",
        "    X_edge = np.array(X_edge)\n",
        "\n",
        "    return X_edge"
      ],
      "metadata": {
        "id": "bSMws3bKZ1qO"
      },
      "execution_count": null,
      "outputs": []
    },
    {
      "cell_type": "code",
      "source": [
        "X_edge_sobel = extract_features_of_edge_sobel(X_image, preprocessed_data_path)"
      ],
      "metadata": {
        "id": "1hHAEwUFfl01"
      },
      "execution_count": null,
      "outputs": []
    },
    {
      "cell_type": "code",
      "source": [
        "# Dùng bộ lọc Prewitt\n",
        "def prewitt_filters(image):\n",
        "    # Tạo ma trận bộ lọc Prewitt\n",
        "    Sx = np.array([[-1, 0, 1], [-1, 0, 1], [-1, 0, 1]], np.float32) # Theo hướng x\n",
        "    Sy = np.array([[1, 1, 1], [0, 0, 0], [-1, -1, -1]], np.float32) # Theo hướng y\n",
        "\n",
        "    # Áp dụng bộ lọc Prewitt lên ảnh\n",
        "    Ix = cv2.filter2D(image, -1, Sx)\n",
        "    Iy = cv2.filter2D(image, -1, Sy)\n",
        "\n",
        "    # Tính gradient\n",
        "    G = np.hypot(Ix, Iy)\n",
        "    G = G / G.max() * 255\n",
        "    theta = np.arctan2(Iy, Ix)\n",
        "\n",
        "    return Ix, Iy, G, theta\n",
        "\n",
        "# Tính toán vector đặc trưng\n",
        "def calculate_prewitt_feature_vector(image_source):\n",
        "    image_destination = image_source.copy()\n",
        "    image_destination = cv2.resize(image_destination, (256, 256))\n",
        "    Ix, Iy, G, theta  = prewitt_filters(image_destination)\n",
        "\n",
        "    # Tính tổng của giá trị biên độ gradient\n",
        "    feature = []\n",
        "\n",
        "    ## Theo hàng\n",
        "    for i in range(G.shape[0]):\n",
        "        temp = 0\n",
        "        for j in range(G.shape[1]):\n",
        "            temp = temp + G[i, j]\n",
        "        feature.append(temp)\n",
        "\n",
        "    ## Theo cột\n",
        "    for j in range(G.shape[1]):\n",
        "        temp = 0\n",
        "        for i in range(G.shape[0]):\n",
        "            temp = temp + G[i, j]\n",
        "        feature.append(temp)\n",
        "\n",
        "    return feature\n",
        "\n",
        "# Trích xuất đặc trưng cạnh\n",
        "def extract_features_of_edge_prewitt(X_image, path):\n",
        "    X_edge = []\n",
        "\n",
        "    for image in X_image:\n",
        "      image_source = cv2.imread(os.path.join(path, image), 0)\n",
        "      edge = calculate_prewitt_feature_vector(image_source)\n",
        "\n",
        "      # Lưu giá trị các biến cạnh\n",
        "      X_edge.append(np.array(edge))\n",
        "\n",
        "    X_edge = np.array(X_edge)\n",
        "\n",
        "    return X_edge"
      ],
      "metadata": {
        "id": "3GKCrPLJ9khQ"
      },
      "execution_count": null,
      "outputs": []
    },
    {
      "cell_type": "code",
      "source": [
        "X_edge_prewitt = extract_features_of_edge_prewitt(X_image, preprocessed_data_path)"
      ],
      "metadata": {
        "id": "ZYhfxpoY-x6M"
      },
      "execution_count": null,
      "outputs": []
    },
    {
      "cell_type": "code",
      "source": [
        "# Dùng bộ lọc Scharr\n",
        "def scharr_filters(image):\n",
        "    # Tạo ma trận bộ lọc Scharr\n",
        "    Sx = np.array([[3, 0, -3], [10, 0, -10], [3, 0, -3]], np.float32)  # Theo hướng x\n",
        "    Sy = np.array([[3, 10, 3], [0, 0, 0], [-3, -10, -3]], np.float32)  # Theo hướng y\n",
        "\n",
        "    # Áp dụng bộ lọc Scharr lên ảnh\n",
        "    Ix = cv2.filter2D(image, -1, Sx)\n",
        "    Iy = cv2.filter2D(image, -1, Sy)\n",
        "\n",
        "    # Tính gradient\n",
        "    G = np.hypot(Ix, Iy)\n",
        "    G = G / G.max() * 255\n",
        "    theta = np.arctan2(Iy, Ix)\n",
        "\n",
        "    return Ix, Iy, G, theta\n",
        "\n",
        "# Tính toán vector đặc trưng\n",
        "def calculate_scharr_feature_vector(image_source):\n",
        "    image_destination = image_source.copy()\n",
        "    image_destination = cv2.resize(image_destination, (256, 256))\n",
        "    Ix, Iy, G, theta  = scharr_filters(image_destination)\n",
        "\n",
        "    # Tính tổng của giá trị biên độ gradient\n",
        "    feature = []\n",
        "\n",
        "    ## Theo hàng\n",
        "    for i in range(G.shape[0]):\n",
        "        temp = 0\n",
        "        for j in range(G.shape[1]):\n",
        "            temp = temp + G[i, j]\n",
        "        feature.append(temp)\n",
        "\n",
        "    ## Theo cột\n",
        "    for j in range(G.shape[1]):\n",
        "        temp = 0\n",
        "        for i in range(G.shape[0]):\n",
        "            temp = temp + G[i, j]\n",
        "        feature.append(temp)\n",
        "\n",
        "    return feature\n",
        "\n",
        "# Trích xuất đặc trưng cạnh\n",
        "def extract_features_of_edge_scharr(X_image, path):\n",
        "    X_edge = []\n",
        "\n",
        "    for image in X_image:\n",
        "      image_source = cv2.imread(os.path.join(path, image), 0)\n",
        "      edge = calculate_scharr_feature_vector(image_source)\n",
        "\n",
        "      # Lưu giá trị các biến cạnh\n",
        "      X_edge.append(np.array(edge))\n",
        "\n",
        "    X_edge = np.array(X_edge)\n",
        "\n",
        "    return X_edge"
      ],
      "metadata": {
        "id": "ropRdriV-1py"
      },
      "execution_count": null,
      "outputs": []
    },
    {
      "cell_type": "code",
      "source": [
        "X_edge_scharr = extract_features_of_edge_scharr(X_image, preprocessed_data_path)"
      ],
      "metadata": {
        "id": "Tewjl3QR_GaY"
      },
      "execution_count": null,
      "outputs": []
    },
    {
      "cell_type": "markdown",
      "source": [
        "# Data"
      ],
      "metadata": {
        "id": "tWfcrs7jnTno"
      }
    },
    {
      "cell_type": "code",
      "source": [
        "X = pd.concat([pd.DataFrame(X_l),\n",
        "               pd.DataFrame(X_a),\n",
        "               pd.DataFrame(X_b),\n",
        "               pd.DataFrame(X_h),\n",
        "               pd.DataFrame(X_s),\n",
        "               pd.DataFrame(X_v),\n",
        "               pd.DataFrame(X_edge_sobel)],\n",
        "              axis = 1)\n",
        "X.columns = [i for i in range(X.shape[1])]"
      ],
      "metadata": {
        "id": "idpj7xxPgaD1"
      },
      "execution_count": null,
      "outputs": []
    },
    {
      "cell_type": "code",
      "source": [
        "X_prewitt = pd.concat([pd.DataFrame(X_l),\n",
        "               pd.DataFrame(X_a),\n",
        "               pd.DataFrame(X_b),\n",
        "               pd.DataFrame(X_h),\n",
        "               pd.DataFrame(X_s),\n",
        "               pd.DataFrame(X_v),\n",
        "               pd.DataFrame(X_edge_prewitt)],\n",
        "              axis = 1)\n",
        "X_prewitt.columns = [i for i in range(X.shape[1])]"
      ],
      "metadata": {
        "id": "bHEukEU8DLJq"
      },
      "execution_count": null,
      "outputs": []
    },
    {
      "cell_type": "code",
      "source": [
        "X_scharr = pd.concat([pd.DataFrame(X_l),\n",
        "               pd.DataFrame(X_a),\n",
        "               pd.DataFrame(X_b),\n",
        "               pd.DataFrame(X_h),\n",
        "               pd.DataFrame(X_s),\n",
        "               pd.DataFrame(X_v),\n",
        "               pd.DataFrame(X_edge_scharr)],\n",
        "              axis = 1)\n",
        "X_scharr.columns = [i for i in range(X.shape[1])]"
      ],
      "metadata": {
        "id": "Asymx6pMDRmY"
      },
      "execution_count": null,
      "outputs": []
    },
    {
      "cell_type": "code",
      "source": [
        "X"
      ],
      "metadata": {
        "colab": {
          "base_uri": "https://localhost:8080/",
          "height": 443
        },
        "id": "-4-tnQrXgbzl",
        "outputId": "b6627990-e3b0-4bac-d94c-614d1399859f"
      },
      "execution_count": null,
      "outputs": [
        {
          "output_type": "execute_result",
          "data": {
            "text/plain": [
              "      0    1    2    3    4    5            6            7            8    \\\n",
              "0     164  142  102  125   67  202  2589.644531  3548.564453  3969.148438   \n",
              "1     149  152   99  134   84  191  4153.683594  4890.416016  5098.943359   \n",
              "2     124  156   81  124  122  195     0.000000     0.000000     0.000000   \n",
              "3     135  151   94  129   96  184  1974.898438  3777.822266  4099.376953   \n",
              "4     171  139  104  121   59  207  1353.160156  1740.273438  1795.685547   \n",
              "...   ...  ...  ...  ...  ...  ...          ...          ...          ...   \n",
              "1662  167  127  133   27   18  160  2434.589844  2628.755859  2802.861328   \n",
              "1663  194  123  139   33   30  189   263.082031   507.150391   529.236328   \n",
              "1664  185  123  126   92   24  182    25.453125    34.828125    82.179688   \n",
              "1665  185  126  132   37   13  179    32.527344    51.166016    78.359375   \n",
              "1666  177  125  133   36   15  170  1118.835938  1880.048828  1927.888672   \n",
              "\n",
              "              9    ...          508          509          510          511  \\\n",
              "0     4410.107422  ...  4154.255859  3523.597656  2768.615234  2252.742188   \n",
              "1     4688.347656  ...  1077.972656  1225.533203   926.642578   737.685547   \n",
              "2        0.000000  ...     0.000000     0.000000     0.000000     0.000000   \n",
              "3     3835.964844  ...   467.509766   123.625000    48.078125    39.576172   \n",
              "4     1749.365234  ...  5072.384766  5735.917969  5678.136719  4310.005859   \n",
              "...           ...  ...          ...          ...          ...          ...   \n",
              "1662  3192.779297  ...  7574.564453  7645.705078  7777.117188  7427.884766   \n",
              "1663   630.558594  ...   881.994141   860.810547   853.404297   854.123047   \n",
              "1664   317.515625  ...     0.000000     0.000000     0.000000     0.000000   \n",
              "1665   229.404297  ...  1267.019531   982.644531   506.083984   216.525391   \n",
              "1666  1659.378906  ...     0.000000     0.000000     0.000000     0.000000   \n",
              "\n",
              "              512          513          514          515          516  \\\n",
              "0     2022.808594  2087.765625  1961.517578  1680.625000  1552.306641   \n",
              "1      895.429688  1411.603516  2220.298828  2517.167969  2415.894531   \n",
              "2        0.000000     0.000000     0.000000     0.000000     0.000000   \n",
              "3       39.125000    53.281250    55.962891    58.931641    60.607422   \n",
              "4     3509.644531  2094.259766  1751.933594  1908.498047  2403.416016   \n",
              "...           ...          ...          ...          ...          ...   \n",
              "1662  7303.757812  7342.726562  7211.632812  6707.675781  5389.449219   \n",
              "1663   852.400391   833.712891   820.242188   822.904297   826.595703   \n",
              "1664     0.000000     0.000000     0.000000     0.000000     0.000000   \n",
              "1665   171.658203   151.767578   113.488281   117.480469   109.160156   \n",
              "1666     0.000000     0.000000     0.000000     0.000000     0.000000   \n",
              "\n",
              "              517  \n",
              "0     1427.386719  \n",
              "1     1479.160156  \n",
              "2        0.000000  \n",
              "3       43.847656  \n",
              "4     1925.445312  \n",
              "...           ...  \n",
              "1662  2157.371094  \n",
              "1663   809.906250  \n",
              "1664     0.000000  \n",
              "1665    72.125000  \n",
              "1666     0.000000  \n",
              "\n",
              "[1667 rows x 518 columns]"
            ],
            "text/html": [
              "\n",
              "  <div id=\"df-cf2f09a2-9843-4d6c-af67-71bf42a2d99d\" class=\"colab-df-container\">\n",
              "    <div>\n",
              "<style scoped>\n",
              "    .dataframe tbody tr th:only-of-type {\n",
              "        vertical-align: middle;\n",
              "    }\n",
              "\n",
              "    .dataframe tbody tr th {\n",
              "        vertical-align: top;\n",
              "    }\n",
              "\n",
              "    .dataframe thead th {\n",
              "        text-align: right;\n",
              "    }\n",
              "</style>\n",
              "<table border=\"1\" class=\"dataframe\">\n",
              "  <thead>\n",
              "    <tr style=\"text-align: right;\">\n",
              "      <th></th>\n",
              "      <th>0</th>\n",
              "      <th>1</th>\n",
              "      <th>2</th>\n",
              "      <th>3</th>\n",
              "      <th>4</th>\n",
              "      <th>5</th>\n",
              "      <th>6</th>\n",
              "      <th>7</th>\n",
              "      <th>8</th>\n",
              "      <th>9</th>\n",
              "      <th>...</th>\n",
              "      <th>508</th>\n",
              "      <th>509</th>\n",
              "      <th>510</th>\n",
              "      <th>511</th>\n",
              "      <th>512</th>\n",
              "      <th>513</th>\n",
              "      <th>514</th>\n",
              "      <th>515</th>\n",
              "      <th>516</th>\n",
              "      <th>517</th>\n",
              "    </tr>\n",
              "  </thead>\n",
              "  <tbody>\n",
              "    <tr>\n",
              "      <th>0</th>\n",
              "      <td>164</td>\n",
              "      <td>142</td>\n",
              "      <td>102</td>\n",
              "      <td>125</td>\n",
              "      <td>67</td>\n",
              "      <td>202</td>\n",
              "      <td>2589.644531</td>\n",
              "      <td>3548.564453</td>\n",
              "      <td>3969.148438</td>\n",
              "      <td>4410.107422</td>\n",
              "      <td>...</td>\n",
              "      <td>4154.255859</td>\n",
              "      <td>3523.597656</td>\n",
              "      <td>2768.615234</td>\n",
              "      <td>2252.742188</td>\n",
              "      <td>2022.808594</td>\n",
              "      <td>2087.765625</td>\n",
              "      <td>1961.517578</td>\n",
              "      <td>1680.625000</td>\n",
              "      <td>1552.306641</td>\n",
              "      <td>1427.386719</td>\n",
              "    </tr>\n",
              "    <tr>\n",
              "      <th>1</th>\n",
              "      <td>149</td>\n",
              "      <td>152</td>\n",
              "      <td>99</td>\n",
              "      <td>134</td>\n",
              "      <td>84</td>\n",
              "      <td>191</td>\n",
              "      <td>4153.683594</td>\n",
              "      <td>4890.416016</td>\n",
              "      <td>5098.943359</td>\n",
              "      <td>4688.347656</td>\n",
              "      <td>...</td>\n",
              "      <td>1077.972656</td>\n",
              "      <td>1225.533203</td>\n",
              "      <td>926.642578</td>\n",
              "      <td>737.685547</td>\n",
              "      <td>895.429688</td>\n",
              "      <td>1411.603516</td>\n",
              "      <td>2220.298828</td>\n",
              "      <td>2517.167969</td>\n",
              "      <td>2415.894531</td>\n",
              "      <td>1479.160156</td>\n",
              "    </tr>\n",
              "    <tr>\n",
              "      <th>2</th>\n",
              "      <td>124</td>\n",
              "      <td>156</td>\n",
              "      <td>81</td>\n",
              "      <td>124</td>\n",
              "      <td>122</td>\n",
              "      <td>195</td>\n",
              "      <td>0.000000</td>\n",
              "      <td>0.000000</td>\n",
              "      <td>0.000000</td>\n",
              "      <td>0.000000</td>\n",
              "      <td>...</td>\n",
              "      <td>0.000000</td>\n",
              "      <td>0.000000</td>\n",
              "      <td>0.000000</td>\n",
              "      <td>0.000000</td>\n",
              "      <td>0.000000</td>\n",
              "      <td>0.000000</td>\n",
              "      <td>0.000000</td>\n",
              "      <td>0.000000</td>\n",
              "      <td>0.000000</td>\n",
              "      <td>0.000000</td>\n",
              "    </tr>\n",
              "    <tr>\n",
              "      <th>3</th>\n",
              "      <td>135</td>\n",
              "      <td>151</td>\n",
              "      <td>94</td>\n",
              "      <td>129</td>\n",
              "      <td>96</td>\n",
              "      <td>184</td>\n",
              "      <td>1974.898438</td>\n",
              "      <td>3777.822266</td>\n",
              "      <td>4099.376953</td>\n",
              "      <td>3835.964844</td>\n",
              "      <td>...</td>\n",
              "      <td>467.509766</td>\n",
              "      <td>123.625000</td>\n",
              "      <td>48.078125</td>\n",
              "      <td>39.576172</td>\n",
              "      <td>39.125000</td>\n",
              "      <td>53.281250</td>\n",
              "      <td>55.962891</td>\n",
              "      <td>58.931641</td>\n",
              "      <td>60.607422</td>\n",
              "      <td>43.847656</td>\n",
              "    </tr>\n",
              "    <tr>\n",
              "      <th>4</th>\n",
              "      <td>171</td>\n",
              "      <td>139</td>\n",
              "      <td>104</td>\n",
              "      <td>121</td>\n",
              "      <td>59</td>\n",
              "      <td>207</td>\n",
              "      <td>1353.160156</td>\n",
              "      <td>1740.273438</td>\n",
              "      <td>1795.685547</td>\n",
              "      <td>1749.365234</td>\n",
              "      <td>...</td>\n",
              "      <td>5072.384766</td>\n",
              "      <td>5735.917969</td>\n",
              "      <td>5678.136719</td>\n",
              "      <td>4310.005859</td>\n",
              "      <td>3509.644531</td>\n",
              "      <td>2094.259766</td>\n",
              "      <td>1751.933594</td>\n",
              "      <td>1908.498047</td>\n",
              "      <td>2403.416016</td>\n",
              "      <td>1925.445312</td>\n",
              "    </tr>\n",
              "    <tr>\n",
              "      <th>...</th>\n",
              "      <td>...</td>\n",
              "      <td>...</td>\n",
              "      <td>...</td>\n",
              "      <td>...</td>\n",
              "      <td>...</td>\n",
              "      <td>...</td>\n",
              "      <td>...</td>\n",
              "      <td>...</td>\n",
              "      <td>...</td>\n",
              "      <td>...</td>\n",
              "      <td>...</td>\n",
              "      <td>...</td>\n",
              "      <td>...</td>\n",
              "      <td>...</td>\n",
              "      <td>...</td>\n",
              "      <td>...</td>\n",
              "      <td>...</td>\n",
              "      <td>...</td>\n",
              "      <td>...</td>\n",
              "      <td>...</td>\n",
              "      <td>...</td>\n",
              "    </tr>\n",
              "    <tr>\n",
              "      <th>1662</th>\n",
              "      <td>167</td>\n",
              "      <td>127</td>\n",
              "      <td>133</td>\n",
              "      <td>27</td>\n",
              "      <td>18</td>\n",
              "      <td>160</td>\n",
              "      <td>2434.589844</td>\n",
              "      <td>2628.755859</td>\n",
              "      <td>2802.861328</td>\n",
              "      <td>3192.779297</td>\n",
              "      <td>...</td>\n",
              "      <td>7574.564453</td>\n",
              "      <td>7645.705078</td>\n",
              "      <td>7777.117188</td>\n",
              "      <td>7427.884766</td>\n",
              "      <td>7303.757812</td>\n",
              "      <td>7342.726562</td>\n",
              "      <td>7211.632812</td>\n",
              "      <td>6707.675781</td>\n",
              "      <td>5389.449219</td>\n",
              "      <td>2157.371094</td>\n",
              "    </tr>\n",
              "    <tr>\n",
              "      <th>1663</th>\n",
              "      <td>194</td>\n",
              "      <td>123</td>\n",
              "      <td>139</td>\n",
              "      <td>33</td>\n",
              "      <td>30</td>\n",
              "      <td>189</td>\n",
              "      <td>263.082031</td>\n",
              "      <td>507.150391</td>\n",
              "      <td>529.236328</td>\n",
              "      <td>630.558594</td>\n",
              "      <td>...</td>\n",
              "      <td>881.994141</td>\n",
              "      <td>860.810547</td>\n",
              "      <td>853.404297</td>\n",
              "      <td>854.123047</td>\n",
              "      <td>852.400391</td>\n",
              "      <td>833.712891</td>\n",
              "      <td>820.242188</td>\n",
              "      <td>822.904297</td>\n",
              "      <td>826.595703</td>\n",
              "      <td>809.906250</td>\n",
              "    </tr>\n",
              "    <tr>\n",
              "      <th>1664</th>\n",
              "      <td>185</td>\n",
              "      <td>123</td>\n",
              "      <td>126</td>\n",
              "      <td>92</td>\n",
              "      <td>24</td>\n",
              "      <td>182</td>\n",
              "      <td>25.453125</td>\n",
              "      <td>34.828125</td>\n",
              "      <td>82.179688</td>\n",
              "      <td>317.515625</td>\n",
              "      <td>...</td>\n",
              "      <td>0.000000</td>\n",
              "      <td>0.000000</td>\n",
              "      <td>0.000000</td>\n",
              "      <td>0.000000</td>\n",
              "      <td>0.000000</td>\n",
              "      <td>0.000000</td>\n",
              "      <td>0.000000</td>\n",
              "      <td>0.000000</td>\n",
              "      <td>0.000000</td>\n",
              "      <td>0.000000</td>\n",
              "    </tr>\n",
              "    <tr>\n",
              "      <th>1665</th>\n",
              "      <td>185</td>\n",
              "      <td>126</td>\n",
              "      <td>132</td>\n",
              "      <td>37</td>\n",
              "      <td>13</td>\n",
              "      <td>179</td>\n",
              "      <td>32.527344</td>\n",
              "      <td>51.166016</td>\n",
              "      <td>78.359375</td>\n",
              "      <td>229.404297</td>\n",
              "      <td>...</td>\n",
              "      <td>1267.019531</td>\n",
              "      <td>982.644531</td>\n",
              "      <td>506.083984</td>\n",
              "      <td>216.525391</td>\n",
              "      <td>171.658203</td>\n",
              "      <td>151.767578</td>\n",
              "      <td>113.488281</td>\n",
              "      <td>117.480469</td>\n",
              "      <td>109.160156</td>\n",
              "      <td>72.125000</td>\n",
              "    </tr>\n",
              "    <tr>\n",
              "      <th>1666</th>\n",
              "      <td>177</td>\n",
              "      <td>125</td>\n",
              "      <td>133</td>\n",
              "      <td>36</td>\n",
              "      <td>15</td>\n",
              "      <td>170</td>\n",
              "      <td>1118.835938</td>\n",
              "      <td>1880.048828</td>\n",
              "      <td>1927.888672</td>\n",
              "      <td>1659.378906</td>\n",
              "      <td>...</td>\n",
              "      <td>0.000000</td>\n",
              "      <td>0.000000</td>\n",
              "      <td>0.000000</td>\n",
              "      <td>0.000000</td>\n",
              "      <td>0.000000</td>\n",
              "      <td>0.000000</td>\n",
              "      <td>0.000000</td>\n",
              "      <td>0.000000</td>\n",
              "      <td>0.000000</td>\n",
              "      <td>0.000000</td>\n",
              "    </tr>\n",
              "  </tbody>\n",
              "</table>\n",
              "<p>1667 rows × 518 columns</p>\n",
              "</div>\n",
              "    <div class=\"colab-df-buttons\">\n",
              "\n",
              "  <div class=\"colab-df-container\">\n",
              "    <button class=\"colab-df-convert\" onclick=\"convertToInteractive('df-cf2f09a2-9843-4d6c-af67-71bf42a2d99d')\"\n",
              "            title=\"Convert this dataframe to an interactive table.\"\n",
              "            style=\"display:none;\">\n",
              "\n",
              "  <svg xmlns=\"http://www.w3.org/2000/svg\" height=\"24px\" viewBox=\"0 -960 960 960\">\n",
              "    <path d=\"M120-120v-720h720v720H120Zm60-500h600v-160H180v160Zm220 220h160v-160H400v160Zm0 220h160v-160H400v160ZM180-400h160v-160H180v160Zm440 0h160v-160H620v160ZM180-180h160v-160H180v160Zm440 0h160v-160H620v160Z\"/>\n",
              "  </svg>\n",
              "    </button>\n",
              "\n",
              "  <style>\n",
              "    .colab-df-container {\n",
              "      display:flex;\n",
              "      gap: 12px;\n",
              "    }\n",
              "\n",
              "    .colab-df-convert {\n",
              "      background-color: #E8F0FE;\n",
              "      border: none;\n",
              "      border-radius: 50%;\n",
              "      cursor: pointer;\n",
              "      display: none;\n",
              "      fill: #1967D2;\n",
              "      height: 32px;\n",
              "      padding: 0 0 0 0;\n",
              "      width: 32px;\n",
              "    }\n",
              "\n",
              "    .colab-df-convert:hover {\n",
              "      background-color: #E2EBFA;\n",
              "      box-shadow: 0px 1px 2px rgba(60, 64, 67, 0.3), 0px 1px 3px 1px rgba(60, 64, 67, 0.15);\n",
              "      fill: #174EA6;\n",
              "    }\n",
              "\n",
              "    .colab-df-buttons div {\n",
              "      margin-bottom: 4px;\n",
              "    }\n",
              "\n",
              "    [theme=dark] .colab-df-convert {\n",
              "      background-color: #3B4455;\n",
              "      fill: #D2E3FC;\n",
              "    }\n",
              "\n",
              "    [theme=dark] .colab-df-convert:hover {\n",
              "      background-color: #434B5C;\n",
              "      box-shadow: 0px 1px 3px 1px rgba(0, 0, 0, 0.15);\n",
              "      filter: drop-shadow(0px 1px 2px rgba(0, 0, 0, 0.3));\n",
              "      fill: #FFFFFF;\n",
              "    }\n",
              "  </style>\n",
              "\n",
              "    <script>\n",
              "      const buttonEl =\n",
              "        document.querySelector('#df-cf2f09a2-9843-4d6c-af67-71bf42a2d99d button.colab-df-convert');\n",
              "      buttonEl.style.display =\n",
              "        google.colab.kernel.accessAllowed ? 'block' : 'none';\n",
              "\n",
              "      async function convertToInteractive(key) {\n",
              "        const element = document.querySelector('#df-cf2f09a2-9843-4d6c-af67-71bf42a2d99d');\n",
              "        const dataTable =\n",
              "          await google.colab.kernel.invokeFunction('convertToInteractive',\n",
              "                                                    [key], {});\n",
              "        if (!dataTable) return;\n",
              "\n",
              "        const docLinkHtml = 'Like what you see? Visit the ' +\n",
              "          '<a target=\"_blank\" href=https://colab.research.google.com/notebooks/data_table.ipynb>data table notebook</a>'\n",
              "          + ' to learn more about interactive tables.';\n",
              "        element.innerHTML = '';\n",
              "        dataTable['output_type'] = 'display_data';\n",
              "        await google.colab.output.renderOutput(dataTable, element);\n",
              "        const docLink = document.createElement('div');\n",
              "        docLink.innerHTML = docLinkHtml;\n",
              "        element.appendChild(docLink);\n",
              "      }\n",
              "    </script>\n",
              "  </div>\n",
              "\n",
              "\n",
              "<div id=\"df-93fcb5c7-bced-4bc4-b5d7-86c4fc275300\">\n",
              "  <button class=\"colab-df-quickchart\" onclick=\"quickchart('df-93fcb5c7-bced-4bc4-b5d7-86c4fc275300')\"\n",
              "            title=\"Suggest charts\"\n",
              "            style=\"display:none;\">\n",
              "\n",
              "<svg xmlns=\"http://www.w3.org/2000/svg\" height=\"24px\"viewBox=\"0 0 24 24\"\n",
              "     width=\"24px\">\n",
              "    <g>\n",
              "        <path d=\"M19 3H5c-1.1 0-2 .9-2 2v14c0 1.1.9 2 2 2h14c1.1 0 2-.9 2-2V5c0-1.1-.9-2-2-2zM9 17H7v-7h2v7zm4 0h-2V7h2v10zm4 0h-2v-4h2v4z\"/>\n",
              "    </g>\n",
              "</svg>\n",
              "  </button>\n",
              "\n",
              "<style>\n",
              "  .colab-df-quickchart {\n",
              "      --bg-color: #E8F0FE;\n",
              "      --fill-color: #1967D2;\n",
              "      --hover-bg-color: #E2EBFA;\n",
              "      --hover-fill-color: #174EA6;\n",
              "      --disabled-fill-color: #AAA;\n",
              "      --disabled-bg-color: #DDD;\n",
              "  }\n",
              "\n",
              "  [theme=dark] .colab-df-quickchart {\n",
              "      --bg-color: #3B4455;\n",
              "      --fill-color: #D2E3FC;\n",
              "      --hover-bg-color: #434B5C;\n",
              "      --hover-fill-color: #FFFFFF;\n",
              "      --disabled-bg-color: #3B4455;\n",
              "      --disabled-fill-color: #666;\n",
              "  }\n",
              "\n",
              "  .colab-df-quickchart {\n",
              "    background-color: var(--bg-color);\n",
              "    border: none;\n",
              "    border-radius: 50%;\n",
              "    cursor: pointer;\n",
              "    display: none;\n",
              "    fill: var(--fill-color);\n",
              "    height: 32px;\n",
              "    padding: 0;\n",
              "    width: 32px;\n",
              "  }\n",
              "\n",
              "  .colab-df-quickchart:hover {\n",
              "    background-color: var(--hover-bg-color);\n",
              "    box-shadow: 0 1px 2px rgba(60, 64, 67, 0.3), 0 1px 3px 1px rgba(60, 64, 67, 0.15);\n",
              "    fill: var(--button-hover-fill-color);\n",
              "  }\n",
              "\n",
              "  .colab-df-quickchart-complete:disabled,\n",
              "  .colab-df-quickchart-complete:disabled:hover {\n",
              "    background-color: var(--disabled-bg-color);\n",
              "    fill: var(--disabled-fill-color);\n",
              "    box-shadow: none;\n",
              "  }\n",
              "\n",
              "  .colab-df-spinner {\n",
              "    border: 2px solid var(--fill-color);\n",
              "    border-color: transparent;\n",
              "    border-bottom-color: var(--fill-color);\n",
              "    animation:\n",
              "      spin 1s steps(1) infinite;\n",
              "  }\n",
              "\n",
              "  @keyframes spin {\n",
              "    0% {\n",
              "      border-color: transparent;\n",
              "      border-bottom-color: var(--fill-color);\n",
              "      border-left-color: var(--fill-color);\n",
              "    }\n",
              "    20% {\n",
              "      border-color: transparent;\n",
              "      border-left-color: var(--fill-color);\n",
              "      border-top-color: var(--fill-color);\n",
              "    }\n",
              "    30% {\n",
              "      border-color: transparent;\n",
              "      border-left-color: var(--fill-color);\n",
              "      border-top-color: var(--fill-color);\n",
              "      border-right-color: var(--fill-color);\n",
              "    }\n",
              "    40% {\n",
              "      border-color: transparent;\n",
              "      border-right-color: var(--fill-color);\n",
              "      border-top-color: var(--fill-color);\n",
              "    }\n",
              "    60% {\n",
              "      border-color: transparent;\n",
              "      border-right-color: var(--fill-color);\n",
              "    }\n",
              "    80% {\n",
              "      border-color: transparent;\n",
              "      border-right-color: var(--fill-color);\n",
              "      border-bottom-color: var(--fill-color);\n",
              "    }\n",
              "    90% {\n",
              "      border-color: transparent;\n",
              "      border-bottom-color: var(--fill-color);\n",
              "    }\n",
              "  }\n",
              "</style>\n",
              "\n",
              "  <script>\n",
              "    async function quickchart(key) {\n",
              "      const quickchartButtonEl =\n",
              "        document.querySelector('#' + key + ' button');\n",
              "      quickchartButtonEl.disabled = true;  // To prevent multiple clicks.\n",
              "      quickchartButtonEl.classList.add('colab-df-spinner');\n",
              "      try {\n",
              "        const charts = await google.colab.kernel.invokeFunction(\n",
              "            'suggestCharts', [key], {});\n",
              "      } catch (error) {\n",
              "        console.error('Error during call to suggestCharts:', error);\n",
              "      }\n",
              "      quickchartButtonEl.classList.remove('colab-df-spinner');\n",
              "      quickchartButtonEl.classList.add('colab-df-quickchart-complete');\n",
              "    }\n",
              "    (() => {\n",
              "      let quickchartButtonEl =\n",
              "        document.querySelector('#df-93fcb5c7-bced-4bc4-b5d7-86c4fc275300 button');\n",
              "      quickchartButtonEl.style.display =\n",
              "        google.colab.kernel.accessAllowed ? 'block' : 'none';\n",
              "    })();\n",
              "  </script>\n",
              "</div>\n",
              "\n",
              "  <div id=\"id_6bbf370b-b563-4570-946e-ddca5592e9b8\">\n",
              "    <style>\n",
              "      .colab-df-generate {\n",
              "        background-color: #E8F0FE;\n",
              "        border: none;\n",
              "        border-radius: 50%;\n",
              "        cursor: pointer;\n",
              "        display: none;\n",
              "        fill: #1967D2;\n",
              "        height: 32px;\n",
              "        padding: 0 0 0 0;\n",
              "        width: 32px;\n",
              "      }\n",
              "\n",
              "      .colab-df-generate:hover {\n",
              "        background-color: #E2EBFA;\n",
              "        box-shadow: 0px 1px 2px rgba(60, 64, 67, 0.3), 0px 1px 3px 1px rgba(60, 64, 67, 0.15);\n",
              "        fill: #174EA6;\n",
              "      }\n",
              "\n",
              "      [theme=dark] .colab-df-generate {\n",
              "        background-color: #3B4455;\n",
              "        fill: #D2E3FC;\n",
              "      }\n",
              "\n",
              "      [theme=dark] .colab-df-generate:hover {\n",
              "        background-color: #434B5C;\n",
              "        box-shadow: 0px 1px 3px 1px rgba(0, 0, 0, 0.15);\n",
              "        filter: drop-shadow(0px 1px 2px rgba(0, 0, 0, 0.3));\n",
              "        fill: #FFFFFF;\n",
              "      }\n",
              "    </style>\n",
              "    <button class=\"colab-df-generate\" onclick=\"generateWithVariable('X')\"\n",
              "            title=\"Generate code using this dataframe.\"\n",
              "            style=\"display:none;\">\n",
              "\n",
              "  <svg xmlns=\"http://www.w3.org/2000/svg\" height=\"24px\"viewBox=\"0 0 24 24\"\n",
              "       width=\"24px\">\n",
              "    <path d=\"M7,19H8.4L18.45,9,17,7.55,7,17.6ZM5,21V16.75L18.45,3.32a2,2,0,0,1,2.83,0l1.4,1.43a1.91,1.91,0,0,1,.58,1.4,1.91,1.91,0,0,1-.58,1.4L9.25,21ZM18.45,9,17,7.55Zm-12,3A5.31,5.31,0,0,0,4.9,8.1,5.31,5.31,0,0,0,1,6.5,5.31,5.31,0,0,0,4.9,4.9,5.31,5.31,0,0,0,6.5,1,5.31,5.31,0,0,0,8.1,4.9,5.31,5.31,0,0,0,12,6.5,5.46,5.46,0,0,0,6.5,12Z\"/>\n",
              "  </svg>\n",
              "    </button>\n",
              "    <script>\n",
              "      (() => {\n",
              "      const buttonEl =\n",
              "        document.querySelector('#id_6bbf370b-b563-4570-946e-ddca5592e9b8 button.colab-df-generate');\n",
              "      buttonEl.style.display =\n",
              "        google.colab.kernel.accessAllowed ? 'block' : 'none';\n",
              "\n",
              "      buttonEl.onclick = () => {\n",
              "        google.colab.notebook.generateWithVariable('X');\n",
              "      }\n",
              "      })();\n",
              "    </script>\n",
              "  </div>\n",
              "\n",
              "    </div>\n",
              "  </div>\n"
            ],
            "application/vnd.google.colaboratory.intrinsic+json": {
              "type": "dataframe",
              "variable_name": "X"
            }
          },
          "metadata": {},
          "execution_count": 69
        }
      ]
    },
    {
      "cell_type": "code",
      "source": [
        "y"
      ],
      "metadata": {
        "colab": {
          "base_uri": "https://localhost:8080/"
        },
        "id": "3eRUhP4Xgc3R",
        "outputId": "046ed7d5-fff4-40db-fba1-980329946478"
      },
      "execution_count": null,
      "outputs": [
        {
          "output_type": "execute_result",
          "data": {
            "text/plain": [
              "array(['Platycodon Grandiflorum', 'Platycodon Grandiflorum',\n",
              "       'Platycodon Grandiflorum', ..., 'White Tulipa', 'White Tulipa',\n",
              "       'White Tulipa'], dtype='<U23')"
            ]
          },
          "metadata": {},
          "execution_count": 70
        }
      ]
    },
    {
      "cell_type": "code",
      "source": [
        "data_prewitt = pd.concat([X_prewitt, pd.DataFrame(y, columns = ['Label'])], axis = 1)\n",
        "data_prewitt.to_csv('/content/drive/MyDrive/UIT/HK4/Tiền xử lý và xây dựng bộ dữ liệu/Đồ án TXL&XDBDL/Data/Official data/Data.csv')"
      ],
      "metadata": {
        "id": "aRYkcYelDe5o"
      },
      "execution_count": null,
      "outputs": []
    },
    {
      "cell_type": "code",
      "source": [
        "data_scharr = pd.concat([X, pd.DataFrame(y, columns = ['Label'])], axis = 1)\n",
        "data_scharr.to_csv('/content/drive/MyDrive/UIT/HK4/Tiền xử lý và xây dựng bộ dữ liệu/Đồ án TXL&XDBDL/Data/Official data/Data.csv')"
      ],
      "metadata": {
        "id": "0-eGnxGEDgel"
      },
      "execution_count": null,
      "outputs": []
    },
    {
      "cell_type": "code",
      "source": [
        "data = pd.concat([X, pd.DataFrame(y, columns = ['Label'])], axis = 1)\n",
        "data.to_csv('/content/drive/MyDrive/UIT/HK4/Tiền xử lý và xây dựng bộ dữ liệu/Đồ án TXL&XDBDL/Data/Official data/Data.csv')"
      ],
      "metadata": {
        "id": "oS1_ffFjh_F4"
      },
      "execution_count": null,
      "outputs": []
    },
    {
      "cell_type": "code",
      "source": [
        "data = pd.read_csv('/content/drive/MyDrive/UIT/HK4/Tiền xử lý và xây dựng bộ dữ liệu/Đồ án TXL&XDBDL/Data/Official data/Data.csv')"
      ],
      "metadata": {
        "id": "XrHcaqlZSYDa"
      },
      "execution_count": null,
      "outputs": []
    },
    {
      "cell_type": "code",
      "source": [
        "data"
      ],
      "metadata": {
        "colab": {
          "base_uri": "https://localhost:8080/",
          "height": 547
        },
        "id": "Q09we8vcTrYT",
        "outputId": "3812c299-a9bf-4c65-ba96-8f71b53c4576"
      },
      "execution_count": null,
      "outputs": [
        {
          "output_type": "execute_result",
          "data": {
            "text/plain": [
              "      Unnamed: 0    0    1    2    3    4    5            6            7  \\\n",
              "0              0  164  142  102  125   67  202  2589.644531  3548.564453   \n",
              "1              1  149  152   99  134   84  191  4153.683594  4890.416016   \n",
              "2              2  124  156   81  124  122  195     0.000000     0.000000   \n",
              "3              3  135  151   94  129   96  184  1974.898438  3777.822266   \n",
              "4              4  171  139  104  121   59  207  1353.160156  1740.273438   \n",
              "...          ...  ...  ...  ...  ...  ...  ...          ...          ...   \n",
              "1662        1662  167  127  133   27   18  160  2434.589844  2628.755859   \n",
              "1663        1663  194  123  139   33   30  189   263.082031   507.150391   \n",
              "1664        1664  185  123  126   92   24  182    25.453125    34.828125   \n",
              "1665        1665  185  126  132   37   13  179    32.527344    51.166016   \n",
              "1666        1666  177  125  133   36   15  170  1118.835938  1880.048828   \n",
              "\n",
              "                8  ...          509          510          511          512  \\\n",
              "0     3969.148438  ...  3523.597656  2768.615234  2252.742188  2022.808594   \n",
              "1     5098.943359  ...  1225.533203   926.642578   737.685547   895.429688   \n",
              "2        0.000000  ...     0.000000     0.000000     0.000000     0.000000   \n",
              "3     4099.376953  ...   123.625000    48.078125    39.576172    39.125000   \n",
              "4     1795.685547  ...  5735.917969  5678.136719  4310.005859  3509.644531   \n",
              "...           ...  ...          ...          ...          ...          ...   \n",
              "1662  2802.861328  ...  7645.705078  7777.117188  7427.884766  7303.757812   \n",
              "1663   529.236328  ...   860.810547   853.404297   854.123047   852.400391   \n",
              "1664    82.179688  ...     0.000000     0.000000     0.000000     0.000000   \n",
              "1665    78.359375  ...   982.644531   506.083984   216.525391   171.658203   \n",
              "1666  1927.888672  ...     0.000000     0.000000     0.000000     0.000000   \n",
              "\n",
              "              513          514          515          516          517  \\\n",
              "0     2087.765625  1961.517578  1680.625000  1552.306641  1427.386719   \n",
              "1     1411.603516  2220.298828  2517.167969  2415.894531  1479.160156   \n",
              "2        0.000000     0.000000     0.000000     0.000000     0.000000   \n",
              "3       53.281250    55.962891    58.931641    60.607422    43.847656   \n",
              "4     2094.259766  1751.933594  1908.498047  2403.416016  1925.445312   \n",
              "...           ...          ...          ...          ...          ...   \n",
              "1662  7342.726562  7211.632812  6707.675781  5389.449219  2157.371094   \n",
              "1663   833.712891   820.242188   822.904297   826.595703   809.906250   \n",
              "1664     0.000000     0.000000     0.000000     0.000000     0.000000   \n",
              "1665   151.767578   113.488281   117.480469   109.160156    72.125000   \n",
              "1666     0.000000     0.000000     0.000000     0.000000     0.000000   \n",
              "\n",
              "                        Label  \n",
              "0     Platycodon Grandiflorum  \n",
              "1     Platycodon Grandiflorum  \n",
              "2     Platycodon Grandiflorum  \n",
              "3     Platycodon Grandiflorum  \n",
              "4     Platycodon Grandiflorum  \n",
              "...                       ...  \n",
              "1662             White Tulipa  \n",
              "1663             White Tulipa  \n",
              "1664             White Tulipa  \n",
              "1665             White Tulipa  \n",
              "1666             White Tulipa  \n",
              "\n",
              "[1667 rows x 520 columns]"
            ],
            "text/html": [
              "\n",
              "  <div id=\"df-72d3de3a-abf2-4c57-b7c8-4d52202ab683\" class=\"colab-df-container\">\n",
              "    <div>\n",
              "<style scoped>\n",
              "    .dataframe tbody tr th:only-of-type {\n",
              "        vertical-align: middle;\n",
              "    }\n",
              "\n",
              "    .dataframe tbody tr th {\n",
              "        vertical-align: top;\n",
              "    }\n",
              "\n",
              "    .dataframe thead th {\n",
              "        text-align: right;\n",
              "    }\n",
              "</style>\n",
              "<table border=\"1\" class=\"dataframe\">\n",
              "  <thead>\n",
              "    <tr style=\"text-align: right;\">\n",
              "      <th></th>\n",
              "      <th>Unnamed: 0</th>\n",
              "      <th>0</th>\n",
              "      <th>1</th>\n",
              "      <th>2</th>\n",
              "      <th>3</th>\n",
              "      <th>4</th>\n",
              "      <th>5</th>\n",
              "      <th>6</th>\n",
              "      <th>7</th>\n",
              "      <th>8</th>\n",
              "      <th>...</th>\n",
              "      <th>509</th>\n",
              "      <th>510</th>\n",
              "      <th>511</th>\n",
              "      <th>512</th>\n",
              "      <th>513</th>\n",
              "      <th>514</th>\n",
              "      <th>515</th>\n",
              "      <th>516</th>\n",
              "      <th>517</th>\n",
              "      <th>Label</th>\n",
              "    </tr>\n",
              "  </thead>\n",
              "  <tbody>\n",
              "    <tr>\n",
              "      <th>0</th>\n",
              "      <td>0</td>\n",
              "      <td>164</td>\n",
              "      <td>142</td>\n",
              "      <td>102</td>\n",
              "      <td>125</td>\n",
              "      <td>67</td>\n",
              "      <td>202</td>\n",
              "      <td>2589.644531</td>\n",
              "      <td>3548.564453</td>\n",
              "      <td>3969.148438</td>\n",
              "      <td>...</td>\n",
              "      <td>3523.597656</td>\n",
              "      <td>2768.615234</td>\n",
              "      <td>2252.742188</td>\n",
              "      <td>2022.808594</td>\n",
              "      <td>2087.765625</td>\n",
              "      <td>1961.517578</td>\n",
              "      <td>1680.625000</td>\n",
              "      <td>1552.306641</td>\n",
              "      <td>1427.386719</td>\n",
              "      <td>Platycodon Grandiflorum</td>\n",
              "    </tr>\n",
              "    <tr>\n",
              "      <th>1</th>\n",
              "      <td>1</td>\n",
              "      <td>149</td>\n",
              "      <td>152</td>\n",
              "      <td>99</td>\n",
              "      <td>134</td>\n",
              "      <td>84</td>\n",
              "      <td>191</td>\n",
              "      <td>4153.683594</td>\n",
              "      <td>4890.416016</td>\n",
              "      <td>5098.943359</td>\n",
              "      <td>...</td>\n",
              "      <td>1225.533203</td>\n",
              "      <td>926.642578</td>\n",
              "      <td>737.685547</td>\n",
              "      <td>895.429688</td>\n",
              "      <td>1411.603516</td>\n",
              "      <td>2220.298828</td>\n",
              "      <td>2517.167969</td>\n",
              "      <td>2415.894531</td>\n",
              "      <td>1479.160156</td>\n",
              "      <td>Platycodon Grandiflorum</td>\n",
              "    </tr>\n",
              "    <tr>\n",
              "      <th>2</th>\n",
              "      <td>2</td>\n",
              "      <td>124</td>\n",
              "      <td>156</td>\n",
              "      <td>81</td>\n",
              "      <td>124</td>\n",
              "      <td>122</td>\n",
              "      <td>195</td>\n",
              "      <td>0.000000</td>\n",
              "      <td>0.000000</td>\n",
              "      <td>0.000000</td>\n",
              "      <td>...</td>\n",
              "      <td>0.000000</td>\n",
              "      <td>0.000000</td>\n",
              "      <td>0.000000</td>\n",
              "      <td>0.000000</td>\n",
              "      <td>0.000000</td>\n",
              "      <td>0.000000</td>\n",
              "      <td>0.000000</td>\n",
              "      <td>0.000000</td>\n",
              "      <td>0.000000</td>\n",
              "      <td>Platycodon Grandiflorum</td>\n",
              "    </tr>\n",
              "    <tr>\n",
              "      <th>3</th>\n",
              "      <td>3</td>\n",
              "      <td>135</td>\n",
              "      <td>151</td>\n",
              "      <td>94</td>\n",
              "      <td>129</td>\n",
              "      <td>96</td>\n",
              "      <td>184</td>\n",
              "      <td>1974.898438</td>\n",
              "      <td>3777.822266</td>\n",
              "      <td>4099.376953</td>\n",
              "      <td>...</td>\n",
              "      <td>123.625000</td>\n",
              "      <td>48.078125</td>\n",
              "      <td>39.576172</td>\n",
              "      <td>39.125000</td>\n",
              "      <td>53.281250</td>\n",
              "      <td>55.962891</td>\n",
              "      <td>58.931641</td>\n",
              "      <td>60.607422</td>\n",
              "      <td>43.847656</td>\n",
              "      <td>Platycodon Grandiflorum</td>\n",
              "    </tr>\n",
              "    <tr>\n",
              "      <th>4</th>\n",
              "      <td>4</td>\n",
              "      <td>171</td>\n",
              "      <td>139</td>\n",
              "      <td>104</td>\n",
              "      <td>121</td>\n",
              "      <td>59</td>\n",
              "      <td>207</td>\n",
              "      <td>1353.160156</td>\n",
              "      <td>1740.273438</td>\n",
              "      <td>1795.685547</td>\n",
              "      <td>...</td>\n",
              "      <td>5735.917969</td>\n",
              "      <td>5678.136719</td>\n",
              "      <td>4310.005859</td>\n",
              "      <td>3509.644531</td>\n",
              "      <td>2094.259766</td>\n",
              "      <td>1751.933594</td>\n",
              "      <td>1908.498047</td>\n",
              "      <td>2403.416016</td>\n",
              "      <td>1925.445312</td>\n",
              "      <td>Platycodon Grandiflorum</td>\n",
              "    </tr>\n",
              "    <tr>\n",
              "      <th>...</th>\n",
              "      <td>...</td>\n",
              "      <td>...</td>\n",
              "      <td>...</td>\n",
              "      <td>...</td>\n",
              "      <td>...</td>\n",
              "      <td>...</td>\n",
              "      <td>...</td>\n",
              "      <td>...</td>\n",
              "      <td>...</td>\n",
              "      <td>...</td>\n",
              "      <td>...</td>\n",
              "      <td>...</td>\n",
              "      <td>...</td>\n",
              "      <td>...</td>\n",
              "      <td>...</td>\n",
              "      <td>...</td>\n",
              "      <td>...</td>\n",
              "      <td>...</td>\n",
              "      <td>...</td>\n",
              "      <td>...</td>\n",
              "      <td>...</td>\n",
              "    </tr>\n",
              "    <tr>\n",
              "      <th>1662</th>\n",
              "      <td>1662</td>\n",
              "      <td>167</td>\n",
              "      <td>127</td>\n",
              "      <td>133</td>\n",
              "      <td>27</td>\n",
              "      <td>18</td>\n",
              "      <td>160</td>\n",
              "      <td>2434.589844</td>\n",
              "      <td>2628.755859</td>\n",
              "      <td>2802.861328</td>\n",
              "      <td>...</td>\n",
              "      <td>7645.705078</td>\n",
              "      <td>7777.117188</td>\n",
              "      <td>7427.884766</td>\n",
              "      <td>7303.757812</td>\n",
              "      <td>7342.726562</td>\n",
              "      <td>7211.632812</td>\n",
              "      <td>6707.675781</td>\n",
              "      <td>5389.449219</td>\n",
              "      <td>2157.371094</td>\n",
              "      <td>White Tulipa</td>\n",
              "    </tr>\n",
              "    <tr>\n",
              "      <th>1663</th>\n",
              "      <td>1663</td>\n",
              "      <td>194</td>\n",
              "      <td>123</td>\n",
              "      <td>139</td>\n",
              "      <td>33</td>\n",
              "      <td>30</td>\n",
              "      <td>189</td>\n",
              "      <td>263.082031</td>\n",
              "      <td>507.150391</td>\n",
              "      <td>529.236328</td>\n",
              "      <td>...</td>\n",
              "      <td>860.810547</td>\n",
              "      <td>853.404297</td>\n",
              "      <td>854.123047</td>\n",
              "      <td>852.400391</td>\n",
              "      <td>833.712891</td>\n",
              "      <td>820.242188</td>\n",
              "      <td>822.904297</td>\n",
              "      <td>826.595703</td>\n",
              "      <td>809.906250</td>\n",
              "      <td>White Tulipa</td>\n",
              "    </tr>\n",
              "    <tr>\n",
              "      <th>1664</th>\n",
              "      <td>1664</td>\n",
              "      <td>185</td>\n",
              "      <td>123</td>\n",
              "      <td>126</td>\n",
              "      <td>92</td>\n",
              "      <td>24</td>\n",
              "      <td>182</td>\n",
              "      <td>25.453125</td>\n",
              "      <td>34.828125</td>\n",
              "      <td>82.179688</td>\n",
              "      <td>...</td>\n",
              "      <td>0.000000</td>\n",
              "      <td>0.000000</td>\n",
              "      <td>0.000000</td>\n",
              "      <td>0.000000</td>\n",
              "      <td>0.000000</td>\n",
              "      <td>0.000000</td>\n",
              "      <td>0.000000</td>\n",
              "      <td>0.000000</td>\n",
              "      <td>0.000000</td>\n",
              "      <td>White Tulipa</td>\n",
              "    </tr>\n",
              "    <tr>\n",
              "      <th>1665</th>\n",
              "      <td>1665</td>\n",
              "      <td>185</td>\n",
              "      <td>126</td>\n",
              "      <td>132</td>\n",
              "      <td>37</td>\n",
              "      <td>13</td>\n",
              "      <td>179</td>\n",
              "      <td>32.527344</td>\n",
              "      <td>51.166016</td>\n",
              "      <td>78.359375</td>\n",
              "      <td>...</td>\n",
              "      <td>982.644531</td>\n",
              "      <td>506.083984</td>\n",
              "      <td>216.525391</td>\n",
              "      <td>171.658203</td>\n",
              "      <td>151.767578</td>\n",
              "      <td>113.488281</td>\n",
              "      <td>117.480469</td>\n",
              "      <td>109.160156</td>\n",
              "      <td>72.125000</td>\n",
              "      <td>White Tulipa</td>\n",
              "    </tr>\n",
              "    <tr>\n",
              "      <th>1666</th>\n",
              "      <td>1666</td>\n",
              "      <td>177</td>\n",
              "      <td>125</td>\n",
              "      <td>133</td>\n",
              "      <td>36</td>\n",
              "      <td>15</td>\n",
              "      <td>170</td>\n",
              "      <td>1118.835938</td>\n",
              "      <td>1880.048828</td>\n",
              "      <td>1927.888672</td>\n",
              "      <td>...</td>\n",
              "      <td>0.000000</td>\n",
              "      <td>0.000000</td>\n",
              "      <td>0.000000</td>\n",
              "      <td>0.000000</td>\n",
              "      <td>0.000000</td>\n",
              "      <td>0.000000</td>\n",
              "      <td>0.000000</td>\n",
              "      <td>0.000000</td>\n",
              "      <td>0.000000</td>\n",
              "      <td>White Tulipa</td>\n",
              "    </tr>\n",
              "  </tbody>\n",
              "</table>\n",
              "<p>1667 rows × 520 columns</p>\n",
              "</div>\n",
              "    <div class=\"colab-df-buttons\">\n",
              "\n",
              "  <div class=\"colab-df-container\">\n",
              "    <button class=\"colab-df-convert\" onclick=\"convertToInteractive('df-72d3de3a-abf2-4c57-b7c8-4d52202ab683')\"\n",
              "            title=\"Convert this dataframe to an interactive table.\"\n",
              "            style=\"display:none;\">\n",
              "\n",
              "  <svg xmlns=\"http://www.w3.org/2000/svg\" height=\"24px\" viewBox=\"0 -960 960 960\">\n",
              "    <path d=\"M120-120v-720h720v720H120Zm60-500h600v-160H180v160Zm220 220h160v-160H400v160Zm0 220h160v-160H400v160ZM180-400h160v-160H180v160Zm440 0h160v-160H620v160ZM180-180h160v-160H180v160Zm440 0h160v-160H620v160Z\"/>\n",
              "  </svg>\n",
              "    </button>\n",
              "\n",
              "  <style>\n",
              "    .colab-df-container {\n",
              "      display:flex;\n",
              "      gap: 12px;\n",
              "    }\n",
              "\n",
              "    .colab-df-convert {\n",
              "      background-color: #E8F0FE;\n",
              "      border: none;\n",
              "      border-radius: 50%;\n",
              "      cursor: pointer;\n",
              "      display: none;\n",
              "      fill: #1967D2;\n",
              "      height: 32px;\n",
              "      padding: 0 0 0 0;\n",
              "      width: 32px;\n",
              "    }\n",
              "\n",
              "    .colab-df-convert:hover {\n",
              "      background-color: #E2EBFA;\n",
              "      box-shadow: 0px 1px 2px rgba(60, 64, 67, 0.3), 0px 1px 3px 1px rgba(60, 64, 67, 0.15);\n",
              "      fill: #174EA6;\n",
              "    }\n",
              "\n",
              "    .colab-df-buttons div {\n",
              "      margin-bottom: 4px;\n",
              "    }\n",
              "\n",
              "    [theme=dark] .colab-df-convert {\n",
              "      background-color: #3B4455;\n",
              "      fill: #D2E3FC;\n",
              "    }\n",
              "\n",
              "    [theme=dark] .colab-df-convert:hover {\n",
              "      background-color: #434B5C;\n",
              "      box-shadow: 0px 1px 3px 1px rgba(0, 0, 0, 0.15);\n",
              "      filter: drop-shadow(0px 1px 2px rgba(0, 0, 0, 0.3));\n",
              "      fill: #FFFFFF;\n",
              "    }\n",
              "  </style>\n",
              "\n",
              "    <script>\n",
              "      const buttonEl =\n",
              "        document.querySelector('#df-72d3de3a-abf2-4c57-b7c8-4d52202ab683 button.colab-df-convert');\n",
              "      buttonEl.style.display =\n",
              "        google.colab.kernel.accessAllowed ? 'block' : 'none';\n",
              "\n",
              "      async function convertToInteractive(key) {\n",
              "        const element = document.querySelector('#df-72d3de3a-abf2-4c57-b7c8-4d52202ab683');\n",
              "        const dataTable =\n",
              "          await google.colab.kernel.invokeFunction('convertToInteractive',\n",
              "                                                    [key], {});\n",
              "        if (!dataTable) return;\n",
              "\n",
              "        const docLinkHtml = 'Like what you see? Visit the ' +\n",
              "          '<a target=\"_blank\" href=https://colab.research.google.com/notebooks/data_table.ipynb>data table notebook</a>'\n",
              "          + ' to learn more about interactive tables.';\n",
              "        element.innerHTML = '';\n",
              "        dataTable['output_type'] = 'display_data';\n",
              "        await google.colab.output.renderOutput(dataTable, element);\n",
              "        const docLink = document.createElement('div');\n",
              "        docLink.innerHTML = docLinkHtml;\n",
              "        element.appendChild(docLink);\n",
              "      }\n",
              "    </script>\n",
              "  </div>\n",
              "\n",
              "\n",
              "<div id=\"df-8472dd70-e78c-46bb-9db9-1ee7e5a09eaa\">\n",
              "  <button class=\"colab-df-quickchart\" onclick=\"quickchart('df-8472dd70-e78c-46bb-9db9-1ee7e5a09eaa')\"\n",
              "            title=\"Suggest charts\"\n",
              "            style=\"display:none;\">\n",
              "\n",
              "<svg xmlns=\"http://www.w3.org/2000/svg\" height=\"24px\"viewBox=\"0 0 24 24\"\n",
              "     width=\"24px\">\n",
              "    <g>\n",
              "        <path d=\"M19 3H5c-1.1 0-2 .9-2 2v14c0 1.1.9 2 2 2h14c1.1 0 2-.9 2-2V5c0-1.1-.9-2-2-2zM9 17H7v-7h2v7zm4 0h-2V7h2v10zm4 0h-2v-4h2v4z\"/>\n",
              "    </g>\n",
              "</svg>\n",
              "  </button>\n",
              "\n",
              "<style>\n",
              "  .colab-df-quickchart {\n",
              "      --bg-color: #E8F0FE;\n",
              "      --fill-color: #1967D2;\n",
              "      --hover-bg-color: #E2EBFA;\n",
              "      --hover-fill-color: #174EA6;\n",
              "      --disabled-fill-color: #AAA;\n",
              "      --disabled-bg-color: #DDD;\n",
              "  }\n",
              "\n",
              "  [theme=dark] .colab-df-quickchart {\n",
              "      --bg-color: #3B4455;\n",
              "      --fill-color: #D2E3FC;\n",
              "      --hover-bg-color: #434B5C;\n",
              "      --hover-fill-color: #FFFFFF;\n",
              "      --disabled-bg-color: #3B4455;\n",
              "      --disabled-fill-color: #666;\n",
              "  }\n",
              "\n",
              "  .colab-df-quickchart {\n",
              "    background-color: var(--bg-color);\n",
              "    border: none;\n",
              "    border-radius: 50%;\n",
              "    cursor: pointer;\n",
              "    display: none;\n",
              "    fill: var(--fill-color);\n",
              "    height: 32px;\n",
              "    padding: 0;\n",
              "    width: 32px;\n",
              "  }\n",
              "\n",
              "  .colab-df-quickchart:hover {\n",
              "    background-color: var(--hover-bg-color);\n",
              "    box-shadow: 0 1px 2px rgba(60, 64, 67, 0.3), 0 1px 3px 1px rgba(60, 64, 67, 0.15);\n",
              "    fill: var(--button-hover-fill-color);\n",
              "  }\n",
              "\n",
              "  .colab-df-quickchart-complete:disabled,\n",
              "  .colab-df-quickchart-complete:disabled:hover {\n",
              "    background-color: var(--disabled-bg-color);\n",
              "    fill: var(--disabled-fill-color);\n",
              "    box-shadow: none;\n",
              "  }\n",
              "\n",
              "  .colab-df-spinner {\n",
              "    border: 2px solid var(--fill-color);\n",
              "    border-color: transparent;\n",
              "    border-bottom-color: var(--fill-color);\n",
              "    animation:\n",
              "      spin 1s steps(1) infinite;\n",
              "  }\n",
              "\n",
              "  @keyframes spin {\n",
              "    0% {\n",
              "      border-color: transparent;\n",
              "      border-bottom-color: var(--fill-color);\n",
              "      border-left-color: var(--fill-color);\n",
              "    }\n",
              "    20% {\n",
              "      border-color: transparent;\n",
              "      border-left-color: var(--fill-color);\n",
              "      border-top-color: var(--fill-color);\n",
              "    }\n",
              "    30% {\n",
              "      border-color: transparent;\n",
              "      border-left-color: var(--fill-color);\n",
              "      border-top-color: var(--fill-color);\n",
              "      border-right-color: var(--fill-color);\n",
              "    }\n",
              "    40% {\n",
              "      border-color: transparent;\n",
              "      border-right-color: var(--fill-color);\n",
              "      border-top-color: var(--fill-color);\n",
              "    }\n",
              "    60% {\n",
              "      border-color: transparent;\n",
              "      border-right-color: var(--fill-color);\n",
              "    }\n",
              "    80% {\n",
              "      border-color: transparent;\n",
              "      border-right-color: var(--fill-color);\n",
              "      border-bottom-color: var(--fill-color);\n",
              "    }\n",
              "    90% {\n",
              "      border-color: transparent;\n",
              "      border-bottom-color: var(--fill-color);\n",
              "    }\n",
              "  }\n",
              "</style>\n",
              "\n",
              "  <script>\n",
              "    async function quickchart(key) {\n",
              "      const quickchartButtonEl =\n",
              "        document.querySelector('#' + key + ' button');\n",
              "      quickchartButtonEl.disabled = true;  // To prevent multiple clicks.\n",
              "      quickchartButtonEl.classList.add('colab-df-spinner');\n",
              "      try {\n",
              "        const charts = await google.colab.kernel.invokeFunction(\n",
              "            'suggestCharts', [key], {});\n",
              "      } catch (error) {\n",
              "        console.error('Error during call to suggestCharts:', error);\n",
              "      }\n",
              "      quickchartButtonEl.classList.remove('colab-df-spinner');\n",
              "      quickchartButtonEl.classList.add('colab-df-quickchart-complete');\n",
              "    }\n",
              "    (() => {\n",
              "      let quickchartButtonEl =\n",
              "        document.querySelector('#df-8472dd70-e78c-46bb-9db9-1ee7e5a09eaa button');\n",
              "      quickchartButtonEl.style.display =\n",
              "        google.colab.kernel.accessAllowed ? 'block' : 'none';\n",
              "    })();\n",
              "  </script>\n",
              "</div>\n",
              "\n",
              "  <div id=\"id_d7bf5a43-352f-465a-bb71-f17265017d9c\">\n",
              "    <style>\n",
              "      .colab-df-generate {\n",
              "        background-color: #E8F0FE;\n",
              "        border: none;\n",
              "        border-radius: 50%;\n",
              "        cursor: pointer;\n",
              "        display: none;\n",
              "        fill: #1967D2;\n",
              "        height: 32px;\n",
              "        padding: 0 0 0 0;\n",
              "        width: 32px;\n",
              "      }\n",
              "\n",
              "      .colab-df-generate:hover {\n",
              "        background-color: #E2EBFA;\n",
              "        box-shadow: 0px 1px 2px rgba(60, 64, 67, 0.3), 0px 1px 3px 1px rgba(60, 64, 67, 0.15);\n",
              "        fill: #174EA6;\n",
              "      }\n",
              "\n",
              "      [theme=dark] .colab-df-generate {\n",
              "        background-color: #3B4455;\n",
              "        fill: #D2E3FC;\n",
              "      }\n",
              "\n",
              "      [theme=dark] .colab-df-generate:hover {\n",
              "        background-color: #434B5C;\n",
              "        box-shadow: 0px 1px 3px 1px rgba(0, 0, 0, 0.15);\n",
              "        filter: drop-shadow(0px 1px 2px rgba(0, 0, 0, 0.3));\n",
              "        fill: #FFFFFF;\n",
              "      }\n",
              "    </style>\n",
              "    <button class=\"colab-df-generate\" onclick=\"generateWithVariable('data')\"\n",
              "            title=\"Generate code using this dataframe.\"\n",
              "            style=\"display:none;\">\n",
              "\n",
              "  <svg xmlns=\"http://www.w3.org/2000/svg\" height=\"24px\"viewBox=\"0 0 24 24\"\n",
              "       width=\"24px\">\n",
              "    <path d=\"M7,19H8.4L18.45,9,17,7.55,7,17.6ZM5,21V16.75L18.45,3.32a2,2,0,0,1,2.83,0l1.4,1.43a1.91,1.91,0,0,1,.58,1.4,1.91,1.91,0,0,1-.58,1.4L9.25,21ZM18.45,9,17,7.55Zm-12,3A5.31,5.31,0,0,0,4.9,8.1,5.31,5.31,0,0,0,1,6.5,5.31,5.31,0,0,0,4.9,4.9,5.31,5.31,0,0,0,6.5,1,5.31,5.31,0,0,0,8.1,4.9,5.31,5.31,0,0,0,12,6.5,5.46,5.46,0,0,0,6.5,12Z\"/>\n",
              "  </svg>\n",
              "    </button>\n",
              "    <script>\n",
              "      (() => {\n",
              "      const buttonEl =\n",
              "        document.querySelector('#id_d7bf5a43-352f-465a-bb71-f17265017d9c button.colab-df-generate');\n",
              "      buttonEl.style.display =\n",
              "        google.colab.kernel.accessAllowed ? 'block' : 'none';\n",
              "\n",
              "      buttonEl.onclick = () => {\n",
              "        google.colab.notebook.generateWithVariable('data');\n",
              "      }\n",
              "      })();\n",
              "    </script>\n",
              "  </div>\n",
              "\n",
              "    </div>\n",
              "  </div>\n"
            ],
            "application/vnd.google.colaboratory.intrinsic+json": {
              "type": "dataframe",
              "variable_name": "data"
            }
          },
          "metadata": {},
          "execution_count": 113
        }
      ]
    },
    {
      "cell_type": "code",
      "source": [
        "data.drop(columns = ['Unnamed: 0'], inplace = True)"
      ],
      "metadata": {
        "id": "_aAzfN0FSsGD"
      },
      "execution_count": null,
      "outputs": []
    },
    {
      "cell_type": "code",
      "source": [
        "data.to_csv('/content/drive/MyDrive/UIT/HK4/Tiền xử lý và xây dựng bộ dữ liệu/Đồ án TXL&XDBDL/Data/Official data/Data.csv')"
      ],
      "metadata": {
        "id": "0teixBMZTnUI"
      },
      "execution_count": null,
      "outputs": []
    },
    {
      "cell_type": "markdown",
      "source": [
        "## Overview"
      ],
      "metadata": {
        "id": "YLcN6SFmpPUf"
      }
    },
    {
      "cell_type": "code",
      "source": [
        "data.describe()"
      ],
      "metadata": {
        "colab": {
          "base_uri": "https://localhost:8080/",
          "height": 349
        },
        "id": "hLYqIoovpR4o",
        "outputId": "2bb6a858-4ad7-40e5-9bfb-4a1a92ae4964"
      },
      "execution_count": null,
      "outputs": [
        {
          "output_type": "execute_result",
          "data": {
            "text/plain": [
              "               0            1            2            3            4    \\\n",
              "count  1667.000000  1667.000000  1667.000000  1667.000000  1667.000000   \n",
              "mean    159.013797   147.052789   133.112178    85.207558    94.263347   \n",
              "std      31.906608    23.814577    24.942792    66.538340    63.917336   \n",
              "min      83.000000   100.000000    61.000000     0.000000     0.000000   \n",
              "25%     137.000000   127.000000   116.000000    23.000000    39.000000   \n",
              "50%     157.000000   141.000000   134.000000    89.000000    85.000000   \n",
              "75%     180.000000   165.000000   149.000000   153.000000   142.000000   \n",
              "max     253.000000   212.000000   211.000000   179.000000   249.000000   \n",
              "\n",
              "               5             6             7             8             9    \\\n",
              "count  1667.000000   1667.000000   1667.000000   1667.000000   1667.000000   \n",
              "mean    189.464907   2028.261008   3247.499723   3501.836608   3555.604433   \n",
              "std      27.460904   2170.542766   3709.522689   3957.147029   3919.124787   \n",
              "min      87.000000      0.000000      0.000000      0.000000      0.000000   \n",
              "25%     170.000000     22.626953     33.076172     36.415039     41.477539   \n",
              "50%     191.000000   1359.566406   2092.705078   2220.710938   2301.609375   \n",
              "75%     211.000000   3410.570312   5324.872070   5693.281250   5738.341797   \n",
              "max     253.000000  10136.960938  46176.000000  46176.000000  28632.416016   \n",
              "\n",
              "       ...           508           509           510           511  \\\n",
              "count  ...   1667.000000   1667.000000   1667.000000   1667.000000   \n",
              "mean   ...   3462.890617   3423.579943   3404.666671   3359.485681   \n",
              "std    ...   3723.911628   3652.651066   3658.908914   3666.223592   \n",
              "min    ...      0.000000      0.000000      0.000000      0.000000   \n",
              "25%    ...     25.314453     27.287109     26.280273     24.888672   \n",
              "50%    ...   2335.787109   2320.916016   2240.214844   2231.173828   \n",
              "75%    ...   5520.353516   5455.443359   5534.853516   5397.473633   \n",
              "max    ...  18231.656250  16580.250000  19031.703125  20802.744141   \n",
              "\n",
              "                512           513           514           515           516  \\\n",
              "count   1667.000000   1667.000000   1667.000000   1667.000000   1667.000000   \n",
              "mean    3367.473967   3339.897387   3313.433692   3261.311822   3066.174545   \n",
              "std     3705.388417   3673.099730   3644.100370   3602.286997   3416.178616   \n",
              "min        0.000000      0.000000      0.000000      0.000000      0.000000   \n",
              "25%       25.261719     31.639648     33.852539     28.366699     30.719727   \n",
              "50%     2198.564453   2108.425781   2089.716797   2023.390625   1874.085938   \n",
              "75%     5483.016602   5470.479492   5383.638672   5277.517578   4957.665039   \n",
              "max    21000.675781  21366.921875  19497.166016  17717.603516  17825.582031   \n",
              "\n",
              "                517  \n",
              "count   1667.000000  \n",
              "mean    1885.087862  \n",
              "std     2015.451881  \n",
              "min        0.000000  \n",
              "25%       16.972656  \n",
              "50%     1290.230469  \n",
              "75%     3048.927734  \n",
              "max    10869.691406  \n",
              "\n",
              "[8 rows x 518 columns]"
            ],
            "text/html": [
              "\n",
              "  <div id=\"df-fd4534ee-1fb9-4bcb-8a46-3a9f231aadd7\" class=\"colab-df-container\">\n",
              "    <div>\n",
              "<style scoped>\n",
              "    .dataframe tbody tr th:only-of-type {\n",
              "        vertical-align: middle;\n",
              "    }\n",
              "\n",
              "    .dataframe tbody tr th {\n",
              "        vertical-align: top;\n",
              "    }\n",
              "\n",
              "    .dataframe thead th {\n",
              "        text-align: right;\n",
              "    }\n",
              "</style>\n",
              "<table border=\"1\" class=\"dataframe\">\n",
              "  <thead>\n",
              "    <tr style=\"text-align: right;\">\n",
              "      <th></th>\n",
              "      <th>0</th>\n",
              "      <th>1</th>\n",
              "      <th>2</th>\n",
              "      <th>3</th>\n",
              "      <th>4</th>\n",
              "      <th>5</th>\n",
              "      <th>6</th>\n",
              "      <th>7</th>\n",
              "      <th>8</th>\n",
              "      <th>9</th>\n",
              "      <th>...</th>\n",
              "      <th>508</th>\n",
              "      <th>509</th>\n",
              "      <th>510</th>\n",
              "      <th>511</th>\n",
              "      <th>512</th>\n",
              "      <th>513</th>\n",
              "      <th>514</th>\n",
              "      <th>515</th>\n",
              "      <th>516</th>\n",
              "      <th>517</th>\n",
              "    </tr>\n",
              "  </thead>\n",
              "  <tbody>\n",
              "    <tr>\n",
              "      <th>count</th>\n",
              "      <td>1667.000000</td>\n",
              "      <td>1667.000000</td>\n",
              "      <td>1667.000000</td>\n",
              "      <td>1667.000000</td>\n",
              "      <td>1667.000000</td>\n",
              "      <td>1667.000000</td>\n",
              "      <td>1667.000000</td>\n",
              "      <td>1667.000000</td>\n",
              "      <td>1667.000000</td>\n",
              "      <td>1667.000000</td>\n",
              "      <td>...</td>\n",
              "      <td>1667.000000</td>\n",
              "      <td>1667.000000</td>\n",
              "      <td>1667.000000</td>\n",
              "      <td>1667.000000</td>\n",
              "      <td>1667.000000</td>\n",
              "      <td>1667.000000</td>\n",
              "      <td>1667.000000</td>\n",
              "      <td>1667.000000</td>\n",
              "      <td>1667.000000</td>\n",
              "      <td>1667.000000</td>\n",
              "    </tr>\n",
              "    <tr>\n",
              "      <th>mean</th>\n",
              "      <td>159.013797</td>\n",
              "      <td>147.052789</td>\n",
              "      <td>133.112178</td>\n",
              "      <td>85.207558</td>\n",
              "      <td>94.263347</td>\n",
              "      <td>189.464907</td>\n",
              "      <td>2028.261008</td>\n",
              "      <td>3247.499723</td>\n",
              "      <td>3501.836608</td>\n",
              "      <td>3555.604433</td>\n",
              "      <td>...</td>\n",
              "      <td>3462.890617</td>\n",
              "      <td>3423.579943</td>\n",
              "      <td>3404.666671</td>\n",
              "      <td>3359.485681</td>\n",
              "      <td>3367.473967</td>\n",
              "      <td>3339.897387</td>\n",
              "      <td>3313.433692</td>\n",
              "      <td>3261.311822</td>\n",
              "      <td>3066.174545</td>\n",
              "      <td>1885.087862</td>\n",
              "    </tr>\n",
              "    <tr>\n",
              "      <th>std</th>\n",
              "      <td>31.906608</td>\n",
              "      <td>23.814577</td>\n",
              "      <td>24.942792</td>\n",
              "      <td>66.538340</td>\n",
              "      <td>63.917336</td>\n",
              "      <td>27.460904</td>\n",
              "      <td>2170.542766</td>\n",
              "      <td>3709.522689</td>\n",
              "      <td>3957.147029</td>\n",
              "      <td>3919.124787</td>\n",
              "      <td>...</td>\n",
              "      <td>3723.911628</td>\n",
              "      <td>3652.651066</td>\n",
              "      <td>3658.908914</td>\n",
              "      <td>3666.223592</td>\n",
              "      <td>3705.388417</td>\n",
              "      <td>3673.099730</td>\n",
              "      <td>3644.100370</td>\n",
              "      <td>3602.286997</td>\n",
              "      <td>3416.178616</td>\n",
              "      <td>2015.451881</td>\n",
              "    </tr>\n",
              "    <tr>\n",
              "      <th>min</th>\n",
              "      <td>83.000000</td>\n",
              "      <td>100.000000</td>\n",
              "      <td>61.000000</td>\n",
              "      <td>0.000000</td>\n",
              "      <td>0.000000</td>\n",
              "      <td>87.000000</td>\n",
              "      <td>0.000000</td>\n",
              "      <td>0.000000</td>\n",
              "      <td>0.000000</td>\n",
              "      <td>0.000000</td>\n",
              "      <td>...</td>\n",
              "      <td>0.000000</td>\n",
              "      <td>0.000000</td>\n",
              "      <td>0.000000</td>\n",
              "      <td>0.000000</td>\n",
              "      <td>0.000000</td>\n",
              "      <td>0.000000</td>\n",
              "      <td>0.000000</td>\n",
              "      <td>0.000000</td>\n",
              "      <td>0.000000</td>\n",
              "      <td>0.000000</td>\n",
              "    </tr>\n",
              "    <tr>\n",
              "      <th>25%</th>\n",
              "      <td>137.000000</td>\n",
              "      <td>127.000000</td>\n",
              "      <td>116.000000</td>\n",
              "      <td>23.000000</td>\n",
              "      <td>39.000000</td>\n",
              "      <td>170.000000</td>\n",
              "      <td>22.626953</td>\n",
              "      <td>33.076172</td>\n",
              "      <td>36.415039</td>\n",
              "      <td>41.477539</td>\n",
              "      <td>...</td>\n",
              "      <td>25.314453</td>\n",
              "      <td>27.287109</td>\n",
              "      <td>26.280273</td>\n",
              "      <td>24.888672</td>\n",
              "      <td>25.261719</td>\n",
              "      <td>31.639648</td>\n",
              "      <td>33.852539</td>\n",
              "      <td>28.366699</td>\n",
              "      <td>30.719727</td>\n",
              "      <td>16.972656</td>\n",
              "    </tr>\n",
              "    <tr>\n",
              "      <th>50%</th>\n",
              "      <td>157.000000</td>\n",
              "      <td>141.000000</td>\n",
              "      <td>134.000000</td>\n",
              "      <td>89.000000</td>\n",
              "      <td>85.000000</td>\n",
              "      <td>191.000000</td>\n",
              "      <td>1359.566406</td>\n",
              "      <td>2092.705078</td>\n",
              "      <td>2220.710938</td>\n",
              "      <td>2301.609375</td>\n",
              "      <td>...</td>\n",
              "      <td>2335.787109</td>\n",
              "      <td>2320.916016</td>\n",
              "      <td>2240.214844</td>\n",
              "      <td>2231.173828</td>\n",
              "      <td>2198.564453</td>\n",
              "      <td>2108.425781</td>\n",
              "      <td>2089.716797</td>\n",
              "      <td>2023.390625</td>\n",
              "      <td>1874.085938</td>\n",
              "      <td>1290.230469</td>\n",
              "    </tr>\n",
              "    <tr>\n",
              "      <th>75%</th>\n",
              "      <td>180.000000</td>\n",
              "      <td>165.000000</td>\n",
              "      <td>149.000000</td>\n",
              "      <td>153.000000</td>\n",
              "      <td>142.000000</td>\n",
              "      <td>211.000000</td>\n",
              "      <td>3410.570312</td>\n",
              "      <td>5324.872070</td>\n",
              "      <td>5693.281250</td>\n",
              "      <td>5738.341797</td>\n",
              "      <td>...</td>\n",
              "      <td>5520.353516</td>\n",
              "      <td>5455.443359</td>\n",
              "      <td>5534.853516</td>\n",
              "      <td>5397.473633</td>\n",
              "      <td>5483.016602</td>\n",
              "      <td>5470.479492</td>\n",
              "      <td>5383.638672</td>\n",
              "      <td>5277.517578</td>\n",
              "      <td>4957.665039</td>\n",
              "      <td>3048.927734</td>\n",
              "    </tr>\n",
              "    <tr>\n",
              "      <th>max</th>\n",
              "      <td>253.000000</td>\n",
              "      <td>212.000000</td>\n",
              "      <td>211.000000</td>\n",
              "      <td>179.000000</td>\n",
              "      <td>249.000000</td>\n",
              "      <td>253.000000</td>\n",
              "      <td>10136.960938</td>\n",
              "      <td>46176.000000</td>\n",
              "      <td>46176.000000</td>\n",
              "      <td>28632.416016</td>\n",
              "      <td>...</td>\n",
              "      <td>18231.656250</td>\n",
              "      <td>16580.250000</td>\n",
              "      <td>19031.703125</td>\n",
              "      <td>20802.744141</td>\n",
              "      <td>21000.675781</td>\n",
              "      <td>21366.921875</td>\n",
              "      <td>19497.166016</td>\n",
              "      <td>17717.603516</td>\n",
              "      <td>17825.582031</td>\n",
              "      <td>10869.691406</td>\n",
              "    </tr>\n",
              "  </tbody>\n",
              "</table>\n",
              "<p>8 rows × 518 columns</p>\n",
              "</div>\n",
              "    <div class=\"colab-df-buttons\">\n",
              "\n",
              "  <div class=\"colab-df-container\">\n",
              "    <button class=\"colab-df-convert\" onclick=\"convertToInteractive('df-fd4534ee-1fb9-4bcb-8a46-3a9f231aadd7')\"\n",
              "            title=\"Convert this dataframe to an interactive table.\"\n",
              "            style=\"display:none;\">\n",
              "\n",
              "  <svg xmlns=\"http://www.w3.org/2000/svg\" height=\"24px\" viewBox=\"0 -960 960 960\">\n",
              "    <path d=\"M120-120v-720h720v720H120Zm60-500h600v-160H180v160Zm220 220h160v-160H400v160Zm0 220h160v-160H400v160ZM180-400h160v-160H180v160Zm440 0h160v-160H620v160ZM180-180h160v-160H180v160Zm440 0h160v-160H620v160Z\"/>\n",
              "  </svg>\n",
              "    </button>\n",
              "\n",
              "  <style>\n",
              "    .colab-df-container {\n",
              "      display:flex;\n",
              "      gap: 12px;\n",
              "    }\n",
              "\n",
              "    .colab-df-convert {\n",
              "      background-color: #E8F0FE;\n",
              "      border: none;\n",
              "      border-radius: 50%;\n",
              "      cursor: pointer;\n",
              "      display: none;\n",
              "      fill: #1967D2;\n",
              "      height: 32px;\n",
              "      padding: 0 0 0 0;\n",
              "      width: 32px;\n",
              "    }\n",
              "\n",
              "    .colab-df-convert:hover {\n",
              "      background-color: #E2EBFA;\n",
              "      box-shadow: 0px 1px 2px rgba(60, 64, 67, 0.3), 0px 1px 3px 1px rgba(60, 64, 67, 0.15);\n",
              "      fill: #174EA6;\n",
              "    }\n",
              "\n",
              "    .colab-df-buttons div {\n",
              "      margin-bottom: 4px;\n",
              "    }\n",
              "\n",
              "    [theme=dark] .colab-df-convert {\n",
              "      background-color: #3B4455;\n",
              "      fill: #D2E3FC;\n",
              "    }\n",
              "\n",
              "    [theme=dark] .colab-df-convert:hover {\n",
              "      background-color: #434B5C;\n",
              "      box-shadow: 0px 1px 3px 1px rgba(0, 0, 0, 0.15);\n",
              "      filter: drop-shadow(0px 1px 2px rgba(0, 0, 0, 0.3));\n",
              "      fill: #FFFFFF;\n",
              "    }\n",
              "  </style>\n",
              "\n",
              "    <script>\n",
              "      const buttonEl =\n",
              "        document.querySelector('#df-fd4534ee-1fb9-4bcb-8a46-3a9f231aadd7 button.colab-df-convert');\n",
              "      buttonEl.style.display =\n",
              "        google.colab.kernel.accessAllowed ? 'block' : 'none';\n",
              "\n",
              "      async function convertToInteractive(key) {\n",
              "        const element = document.querySelector('#df-fd4534ee-1fb9-4bcb-8a46-3a9f231aadd7');\n",
              "        const dataTable =\n",
              "          await google.colab.kernel.invokeFunction('convertToInteractive',\n",
              "                                                    [key], {});\n",
              "        if (!dataTable) return;\n",
              "\n",
              "        const docLinkHtml = 'Like what you see? Visit the ' +\n",
              "          '<a target=\"_blank\" href=https://colab.research.google.com/notebooks/data_table.ipynb>data table notebook</a>'\n",
              "          + ' to learn more about interactive tables.';\n",
              "        element.innerHTML = '';\n",
              "        dataTable['output_type'] = 'display_data';\n",
              "        await google.colab.output.renderOutput(dataTable, element);\n",
              "        const docLink = document.createElement('div');\n",
              "        docLink.innerHTML = docLinkHtml;\n",
              "        element.appendChild(docLink);\n",
              "      }\n",
              "    </script>\n",
              "  </div>\n",
              "\n",
              "\n",
              "<div id=\"df-c1f4fc51-786e-45be-abe9-848b2381b83d\">\n",
              "  <button class=\"colab-df-quickchart\" onclick=\"quickchart('df-c1f4fc51-786e-45be-abe9-848b2381b83d')\"\n",
              "            title=\"Suggest charts\"\n",
              "            style=\"display:none;\">\n",
              "\n",
              "<svg xmlns=\"http://www.w3.org/2000/svg\" height=\"24px\"viewBox=\"0 0 24 24\"\n",
              "     width=\"24px\">\n",
              "    <g>\n",
              "        <path d=\"M19 3H5c-1.1 0-2 .9-2 2v14c0 1.1.9 2 2 2h14c1.1 0 2-.9 2-2V5c0-1.1-.9-2-2-2zM9 17H7v-7h2v7zm4 0h-2V7h2v10zm4 0h-2v-4h2v4z\"/>\n",
              "    </g>\n",
              "</svg>\n",
              "  </button>\n",
              "\n",
              "<style>\n",
              "  .colab-df-quickchart {\n",
              "      --bg-color: #E8F0FE;\n",
              "      --fill-color: #1967D2;\n",
              "      --hover-bg-color: #E2EBFA;\n",
              "      --hover-fill-color: #174EA6;\n",
              "      --disabled-fill-color: #AAA;\n",
              "      --disabled-bg-color: #DDD;\n",
              "  }\n",
              "\n",
              "  [theme=dark] .colab-df-quickchart {\n",
              "      --bg-color: #3B4455;\n",
              "      --fill-color: #D2E3FC;\n",
              "      --hover-bg-color: #434B5C;\n",
              "      --hover-fill-color: #FFFFFF;\n",
              "      --disabled-bg-color: #3B4455;\n",
              "      --disabled-fill-color: #666;\n",
              "  }\n",
              "\n",
              "  .colab-df-quickchart {\n",
              "    background-color: var(--bg-color);\n",
              "    border: none;\n",
              "    border-radius: 50%;\n",
              "    cursor: pointer;\n",
              "    display: none;\n",
              "    fill: var(--fill-color);\n",
              "    height: 32px;\n",
              "    padding: 0;\n",
              "    width: 32px;\n",
              "  }\n",
              "\n",
              "  .colab-df-quickchart:hover {\n",
              "    background-color: var(--hover-bg-color);\n",
              "    box-shadow: 0 1px 2px rgba(60, 64, 67, 0.3), 0 1px 3px 1px rgba(60, 64, 67, 0.15);\n",
              "    fill: var(--button-hover-fill-color);\n",
              "  }\n",
              "\n",
              "  .colab-df-quickchart-complete:disabled,\n",
              "  .colab-df-quickchart-complete:disabled:hover {\n",
              "    background-color: var(--disabled-bg-color);\n",
              "    fill: var(--disabled-fill-color);\n",
              "    box-shadow: none;\n",
              "  }\n",
              "\n",
              "  .colab-df-spinner {\n",
              "    border: 2px solid var(--fill-color);\n",
              "    border-color: transparent;\n",
              "    border-bottom-color: var(--fill-color);\n",
              "    animation:\n",
              "      spin 1s steps(1) infinite;\n",
              "  }\n",
              "\n",
              "  @keyframes spin {\n",
              "    0% {\n",
              "      border-color: transparent;\n",
              "      border-bottom-color: var(--fill-color);\n",
              "      border-left-color: var(--fill-color);\n",
              "    }\n",
              "    20% {\n",
              "      border-color: transparent;\n",
              "      border-left-color: var(--fill-color);\n",
              "      border-top-color: var(--fill-color);\n",
              "    }\n",
              "    30% {\n",
              "      border-color: transparent;\n",
              "      border-left-color: var(--fill-color);\n",
              "      border-top-color: var(--fill-color);\n",
              "      border-right-color: var(--fill-color);\n",
              "    }\n",
              "    40% {\n",
              "      border-color: transparent;\n",
              "      border-right-color: var(--fill-color);\n",
              "      border-top-color: var(--fill-color);\n",
              "    }\n",
              "    60% {\n",
              "      border-color: transparent;\n",
              "      border-right-color: var(--fill-color);\n",
              "    }\n",
              "    80% {\n",
              "      border-color: transparent;\n",
              "      border-right-color: var(--fill-color);\n",
              "      border-bottom-color: var(--fill-color);\n",
              "    }\n",
              "    90% {\n",
              "      border-color: transparent;\n",
              "      border-bottom-color: var(--fill-color);\n",
              "    }\n",
              "  }\n",
              "</style>\n",
              "\n",
              "  <script>\n",
              "    async function quickchart(key) {\n",
              "      const quickchartButtonEl =\n",
              "        document.querySelector('#' + key + ' button');\n",
              "      quickchartButtonEl.disabled = true;  // To prevent multiple clicks.\n",
              "      quickchartButtonEl.classList.add('colab-df-spinner');\n",
              "      try {\n",
              "        const charts = await google.colab.kernel.invokeFunction(\n",
              "            'suggestCharts', [key], {});\n",
              "      } catch (error) {\n",
              "        console.error('Error during call to suggestCharts:', error);\n",
              "      }\n",
              "      quickchartButtonEl.classList.remove('colab-df-spinner');\n",
              "      quickchartButtonEl.classList.add('colab-df-quickchart-complete');\n",
              "    }\n",
              "    (() => {\n",
              "      let quickchartButtonEl =\n",
              "        document.querySelector('#df-c1f4fc51-786e-45be-abe9-848b2381b83d button');\n",
              "      quickchartButtonEl.style.display =\n",
              "        google.colab.kernel.accessAllowed ? 'block' : 'none';\n",
              "    })();\n",
              "  </script>\n",
              "</div>\n",
              "\n",
              "    </div>\n",
              "  </div>\n"
            ],
            "application/vnd.google.colaboratory.intrinsic+json": {
              "type": "dataframe"
            }
          },
          "metadata": {},
          "execution_count": 73
        }
      ]
    },
    {
      "cell_type": "code",
      "source": [
        "y_unique_values, y_value_counts = np.unique(data['Label'], return_counts = True)\n",
        "\n",
        "fig = go.Figure()\n",
        "fig.add_trace(go.Pie(labels = y_unique_values,\n",
        "                     values = y_value_counts))\n",
        "fig.update_traces(marker = dict(line = dict(color = '#000000', width = 2)),\n",
        "                  textposition = 'inside',\n",
        "                  textinfo = 'percent + label')\n",
        "fig.show()"
      ],
      "metadata": {
        "colab": {
          "base_uri": "https://localhost:8080/",
          "height": 542
        },
        "id": "U2LqhOizpR1E",
        "outputId": "7226020c-9927-4bc6-8508-bfb0e9ef5fe9"
      },
      "execution_count": null,
      "outputs": [
        {
          "output_type": "display_data",
          "data": {
            "text/html": [
              "<html>\n",
              "<head><meta charset=\"utf-8\" /></head>\n",
              "<body>\n",
              "    <div>            <script src=\"https://cdnjs.cloudflare.com/ajax/libs/mathjax/2.7.5/MathJax.js?config=TeX-AMS-MML_SVG\"></script><script type=\"text/javascript\">if (window.MathJax && window.MathJax.Hub && window.MathJax.Hub.Config) {window.MathJax.Hub.Config({SVG: {font: \"STIX-Web\"}});}</script>                <script type=\"text/javascript\">window.PlotlyConfig = {MathJaxConfig: 'local'};</script>\n",
              "        <script charset=\"utf-8\" src=\"https://cdn.plot.ly/plotly-2.24.1.min.js\"></script>                <div id=\"f21d2e54-d2d3-41d1-8cc0-c1cd6ddf06cb\" class=\"plotly-graph-div\" style=\"height:525px; width:100%;\"></div>            <script type=\"text/javascript\">                                    window.PLOTLYENV=window.PLOTLYENV || {};                                    if (document.getElementById(\"f21d2e54-d2d3-41d1-8cc0-c1cd6ddf06cb\")) {                    Plotly.newPlot(                        \"f21d2e54-d2d3-41d1-8cc0-c1cd6ddf06cb\",                        [{\"labels\":[\"Aster Amellus\",\"Dianthus\",\"Evolvulus Alsinoides\",\"Helianthus Annuus\",\"Lavandula Angustifolia\",\"Lilium Longiflorum\",\"Pink Nelumbo Nucifera\",\"Pink Tulipa\",\"Platycodon Grandiflorum\",\"Red Lilium\",\"Red Rosa\",\"Red Tulipa\",\"Tanacetum Parthenium\",\"White Tulipa\"],\"values\":[59,189,51,200,199,63,91,68,63,81,200,200,55,148],\"type\":\"pie\",\"marker\":{\"line\":{\"color\":\"#000000\",\"width\":2}},\"textinfo\":\"percent+label\",\"textposition\":\"inside\"}],                        {\"template\":{\"data\":{\"histogram2dcontour\":[{\"type\":\"histogram2dcontour\",\"colorbar\":{\"outlinewidth\":0,\"ticks\":\"\"},\"colorscale\":[[0.0,\"#0d0887\"],[0.1111111111111111,\"#46039f\"],[0.2222222222222222,\"#7201a8\"],[0.3333333333333333,\"#9c179e\"],[0.4444444444444444,\"#bd3786\"],[0.5555555555555556,\"#d8576b\"],[0.6666666666666666,\"#ed7953\"],[0.7777777777777778,\"#fb9f3a\"],[0.8888888888888888,\"#fdca26\"],[1.0,\"#f0f921\"]]}],\"choropleth\":[{\"type\":\"choropleth\",\"colorbar\":{\"outlinewidth\":0,\"ticks\":\"\"}}],\"histogram2d\":[{\"type\":\"histogram2d\",\"colorbar\":{\"outlinewidth\":0,\"ticks\":\"\"},\"colorscale\":[[0.0,\"#0d0887\"],[0.1111111111111111,\"#46039f\"],[0.2222222222222222,\"#7201a8\"],[0.3333333333333333,\"#9c179e\"],[0.4444444444444444,\"#bd3786\"],[0.5555555555555556,\"#d8576b\"],[0.6666666666666666,\"#ed7953\"],[0.7777777777777778,\"#fb9f3a\"],[0.8888888888888888,\"#fdca26\"],[1.0,\"#f0f921\"]]}],\"heatmap\":[{\"type\":\"heatmap\",\"colorbar\":{\"outlinewidth\":0,\"ticks\":\"\"},\"colorscale\":[[0.0,\"#0d0887\"],[0.1111111111111111,\"#46039f\"],[0.2222222222222222,\"#7201a8\"],[0.3333333333333333,\"#9c179e\"],[0.4444444444444444,\"#bd3786\"],[0.5555555555555556,\"#d8576b\"],[0.6666666666666666,\"#ed7953\"],[0.7777777777777778,\"#fb9f3a\"],[0.8888888888888888,\"#fdca26\"],[1.0,\"#f0f921\"]]}],\"heatmapgl\":[{\"type\":\"heatmapgl\",\"colorbar\":{\"outlinewidth\":0,\"ticks\":\"\"},\"colorscale\":[[0.0,\"#0d0887\"],[0.1111111111111111,\"#46039f\"],[0.2222222222222222,\"#7201a8\"],[0.3333333333333333,\"#9c179e\"],[0.4444444444444444,\"#bd3786\"],[0.5555555555555556,\"#d8576b\"],[0.6666666666666666,\"#ed7953\"],[0.7777777777777778,\"#fb9f3a\"],[0.8888888888888888,\"#fdca26\"],[1.0,\"#f0f921\"]]}],\"contourcarpet\":[{\"type\":\"contourcarpet\",\"colorbar\":{\"outlinewidth\":0,\"ticks\":\"\"}}],\"contour\":[{\"type\":\"contour\",\"colorbar\":{\"outlinewidth\":0,\"ticks\":\"\"},\"colorscale\":[[0.0,\"#0d0887\"],[0.1111111111111111,\"#46039f\"],[0.2222222222222222,\"#7201a8\"],[0.3333333333333333,\"#9c179e\"],[0.4444444444444444,\"#bd3786\"],[0.5555555555555556,\"#d8576b\"],[0.6666666666666666,\"#ed7953\"],[0.7777777777777778,\"#fb9f3a\"],[0.8888888888888888,\"#fdca26\"],[1.0,\"#f0f921\"]]}],\"surface\":[{\"type\":\"surface\",\"colorbar\":{\"outlinewidth\":0,\"ticks\":\"\"},\"colorscale\":[[0.0,\"#0d0887\"],[0.1111111111111111,\"#46039f\"],[0.2222222222222222,\"#7201a8\"],[0.3333333333333333,\"#9c179e\"],[0.4444444444444444,\"#bd3786\"],[0.5555555555555556,\"#d8576b\"],[0.6666666666666666,\"#ed7953\"],[0.7777777777777778,\"#fb9f3a\"],[0.8888888888888888,\"#fdca26\"],[1.0,\"#f0f921\"]]}],\"mesh3d\":[{\"type\":\"mesh3d\",\"colorbar\":{\"outlinewidth\":0,\"ticks\":\"\"}}],\"scatter\":[{\"fillpattern\":{\"fillmode\":\"overlay\",\"size\":10,\"solidity\":0.2},\"type\":\"scatter\"}],\"parcoords\":[{\"type\":\"parcoords\",\"line\":{\"colorbar\":{\"outlinewidth\":0,\"ticks\":\"\"}}}],\"scatterpolargl\":[{\"type\":\"scatterpolargl\",\"marker\":{\"colorbar\":{\"outlinewidth\":0,\"ticks\":\"\"}}}],\"bar\":[{\"error_x\":{\"color\":\"#2a3f5f\"},\"error_y\":{\"color\":\"#2a3f5f\"},\"marker\":{\"line\":{\"color\":\"#E5ECF6\",\"width\":0.5},\"pattern\":{\"fillmode\":\"overlay\",\"size\":10,\"solidity\":0.2}},\"type\":\"bar\"}],\"scattergeo\":[{\"type\":\"scattergeo\",\"marker\":{\"colorbar\":{\"outlinewidth\":0,\"ticks\":\"\"}}}],\"scatterpolar\":[{\"type\":\"scatterpolar\",\"marker\":{\"colorbar\":{\"outlinewidth\":0,\"ticks\":\"\"}}}],\"histogram\":[{\"marker\":{\"pattern\":{\"fillmode\":\"overlay\",\"size\":10,\"solidity\":0.2}},\"type\":\"histogram\"}],\"scattergl\":[{\"type\":\"scattergl\",\"marker\":{\"colorbar\":{\"outlinewidth\":0,\"ticks\":\"\"}}}],\"scatter3d\":[{\"type\":\"scatter3d\",\"line\":{\"colorbar\":{\"outlinewidth\":0,\"ticks\":\"\"}},\"marker\":{\"colorbar\":{\"outlinewidth\":0,\"ticks\":\"\"}}}],\"scattermapbox\":[{\"type\":\"scattermapbox\",\"marker\":{\"colorbar\":{\"outlinewidth\":0,\"ticks\":\"\"}}}],\"scatterternary\":[{\"type\":\"scatterternary\",\"marker\":{\"colorbar\":{\"outlinewidth\":0,\"ticks\":\"\"}}}],\"scattercarpet\":[{\"type\":\"scattercarpet\",\"marker\":{\"colorbar\":{\"outlinewidth\":0,\"ticks\":\"\"}}}],\"carpet\":[{\"aaxis\":{\"endlinecolor\":\"#2a3f5f\",\"gridcolor\":\"white\",\"linecolor\":\"white\",\"minorgridcolor\":\"white\",\"startlinecolor\":\"#2a3f5f\"},\"baxis\":{\"endlinecolor\":\"#2a3f5f\",\"gridcolor\":\"white\",\"linecolor\":\"white\",\"minorgridcolor\":\"white\",\"startlinecolor\":\"#2a3f5f\"},\"type\":\"carpet\"}],\"table\":[{\"cells\":{\"fill\":{\"color\":\"#EBF0F8\"},\"line\":{\"color\":\"white\"}},\"header\":{\"fill\":{\"color\":\"#C8D4E3\"},\"line\":{\"color\":\"white\"}},\"type\":\"table\"}],\"barpolar\":[{\"marker\":{\"line\":{\"color\":\"#E5ECF6\",\"width\":0.5},\"pattern\":{\"fillmode\":\"overlay\",\"size\":10,\"solidity\":0.2}},\"type\":\"barpolar\"}],\"pie\":[{\"automargin\":true,\"type\":\"pie\"}]},\"layout\":{\"autotypenumbers\":\"strict\",\"colorway\":[\"#636efa\",\"#EF553B\",\"#00cc96\",\"#ab63fa\",\"#FFA15A\",\"#19d3f3\",\"#FF6692\",\"#B6E880\",\"#FF97FF\",\"#FECB52\"],\"font\":{\"color\":\"#2a3f5f\"},\"hovermode\":\"closest\",\"hoverlabel\":{\"align\":\"left\"},\"paper_bgcolor\":\"white\",\"plot_bgcolor\":\"#E5ECF6\",\"polar\":{\"bgcolor\":\"#E5ECF6\",\"angularaxis\":{\"gridcolor\":\"white\",\"linecolor\":\"white\",\"ticks\":\"\"},\"radialaxis\":{\"gridcolor\":\"white\",\"linecolor\":\"white\",\"ticks\":\"\"}},\"ternary\":{\"bgcolor\":\"#E5ECF6\",\"aaxis\":{\"gridcolor\":\"white\",\"linecolor\":\"white\",\"ticks\":\"\"},\"baxis\":{\"gridcolor\":\"white\",\"linecolor\":\"white\",\"ticks\":\"\"},\"caxis\":{\"gridcolor\":\"white\",\"linecolor\":\"white\",\"ticks\":\"\"}},\"coloraxis\":{\"colorbar\":{\"outlinewidth\":0,\"ticks\":\"\"}},\"colorscale\":{\"sequential\":[[0.0,\"#0d0887\"],[0.1111111111111111,\"#46039f\"],[0.2222222222222222,\"#7201a8\"],[0.3333333333333333,\"#9c179e\"],[0.4444444444444444,\"#bd3786\"],[0.5555555555555556,\"#d8576b\"],[0.6666666666666666,\"#ed7953\"],[0.7777777777777778,\"#fb9f3a\"],[0.8888888888888888,\"#fdca26\"],[1.0,\"#f0f921\"]],\"sequentialminus\":[[0.0,\"#0d0887\"],[0.1111111111111111,\"#46039f\"],[0.2222222222222222,\"#7201a8\"],[0.3333333333333333,\"#9c179e\"],[0.4444444444444444,\"#bd3786\"],[0.5555555555555556,\"#d8576b\"],[0.6666666666666666,\"#ed7953\"],[0.7777777777777778,\"#fb9f3a\"],[0.8888888888888888,\"#fdca26\"],[1.0,\"#f0f921\"]],\"diverging\":[[0,\"#8e0152\"],[0.1,\"#c51b7d\"],[0.2,\"#de77ae\"],[0.3,\"#f1b6da\"],[0.4,\"#fde0ef\"],[0.5,\"#f7f7f7\"],[0.6,\"#e6f5d0\"],[0.7,\"#b8e186\"],[0.8,\"#7fbc41\"],[0.9,\"#4d9221\"],[1,\"#276419\"]]},\"xaxis\":{\"gridcolor\":\"white\",\"linecolor\":\"white\",\"ticks\":\"\",\"title\":{\"standoff\":15},\"zerolinecolor\":\"white\",\"automargin\":true,\"zerolinewidth\":2},\"yaxis\":{\"gridcolor\":\"white\",\"linecolor\":\"white\",\"ticks\":\"\",\"title\":{\"standoff\":15},\"zerolinecolor\":\"white\",\"automargin\":true,\"zerolinewidth\":2},\"scene\":{\"xaxis\":{\"backgroundcolor\":\"#E5ECF6\",\"gridcolor\":\"white\",\"linecolor\":\"white\",\"showbackground\":true,\"ticks\":\"\",\"zerolinecolor\":\"white\",\"gridwidth\":2},\"yaxis\":{\"backgroundcolor\":\"#E5ECF6\",\"gridcolor\":\"white\",\"linecolor\":\"white\",\"showbackground\":true,\"ticks\":\"\",\"zerolinecolor\":\"white\",\"gridwidth\":2},\"zaxis\":{\"backgroundcolor\":\"#E5ECF6\",\"gridcolor\":\"white\",\"linecolor\":\"white\",\"showbackground\":true,\"ticks\":\"\",\"zerolinecolor\":\"white\",\"gridwidth\":2}},\"shapedefaults\":{\"line\":{\"color\":\"#2a3f5f\"}},\"annotationdefaults\":{\"arrowcolor\":\"#2a3f5f\",\"arrowhead\":0,\"arrowwidth\":1},\"geo\":{\"bgcolor\":\"white\",\"landcolor\":\"#E5ECF6\",\"subunitcolor\":\"white\",\"showland\":true,\"showlakes\":true,\"lakecolor\":\"white\"},\"title\":{\"x\":0.05},\"mapbox\":{\"style\":\"light\"}}}},                        {\"responsive\": true}                    ).then(function(){\n",
              "                            \n",
              "var gd = document.getElementById('f21d2e54-d2d3-41d1-8cc0-c1cd6ddf06cb');\n",
              "var x = new MutationObserver(function (mutations, observer) {{\n",
              "        var display = window.getComputedStyle(gd).display;\n",
              "        if (!display || display === 'none') {{\n",
              "            console.log([gd, 'removed!']);\n",
              "            Plotly.purge(gd);\n",
              "            observer.disconnect();\n",
              "        }}\n",
              "}});\n",
              "\n",
              "// Listen for the removal of the full notebook cells\n",
              "var notebookContainer = gd.closest('#notebook-container');\n",
              "if (notebookContainer) {{\n",
              "    x.observe(notebookContainer, {childList: true});\n",
              "}}\n",
              "\n",
              "// Listen for the clearing of the current output cell\n",
              "var outputEl = gd.closest('.output');\n",
              "if (outputEl) {{\n",
              "    x.observe(outputEl, {childList: true});\n",
              "}}\n",
              "\n",
              "                        })                };                            </script>        </div>\n",
              "</body>\n",
              "</html>"
            ]
          },
          "metadata": {}
        }
      ]
    },
    {
      "cell_type": "markdown",
      "source": [
        "## Split train test"
      ],
      "metadata": {
        "id": "XuKkHCUlgYqp"
      }
    },
    {
      "cell_type": "code",
      "source": [
        "X_train, X_test, y_train, y_test = train_test_split(data.iloc[:, :-1], data['Label'], test_size = 0.2, random_state = 42)"
      ],
      "metadata": {
        "id": "QR4xkC0bgdfd"
      },
      "execution_count": null,
      "outputs": []
    },
    {
      "cell_type": "code",
      "source": [
        "#Prewitt\n",
        "X_train_p, X_test_p, y_train_p, y_test_p = train_test_split(data_prewitt.iloc[:, :-1], data_prewitt['Label'], test_size = 0.2, random_state = 42)"
      ],
      "metadata": {
        "id": "rGzq_L8qDzcu"
      },
      "execution_count": null,
      "outputs": []
    },
    {
      "cell_type": "code",
      "source": [
        "#Scharr\n",
        "X_train_s, X_test_s, y_train_s, y_test_s = train_test_split(data_scharr.iloc[:, :-1], data_scharr['Label'], test_size = 0.2, random_state = 42)"
      ],
      "metadata": {
        "id": "pZaeUWdEELmq"
      },
      "execution_count": null,
      "outputs": []
    },
    {
      "cell_type": "markdown",
      "source": [
        "# Model"
      ],
      "metadata": {
        "id": "suKmXLCFPr2j"
      }
    },
    {
      "cell_type": "markdown",
      "source": [
        "## Original data"
      ],
      "metadata": {
        "id": "-9biuVZUnz-d"
      }
    },
    {
      "cell_type": "markdown",
      "source": [
        "### SVC"
      ],
      "metadata": {
        "id": "XG7Hr9Adn3XI"
      }
    },
    {
      "cell_type": "code",
      "source": [
        "svc = SVC()\n",
        "svc.fit(X_train, y_train)"
      ],
      "metadata": {
        "colab": {
          "base_uri": "https://localhost:8080/",
          "height": 74
        },
        "id": "wUNjufRUlXkS",
        "outputId": "d7fa1483-9d23-4e01-bf91-6ba05855891b"
      },
      "execution_count": null,
      "outputs": [
        {
          "output_type": "execute_result",
          "data": {
            "text/plain": [
              "SVC()"
            ],
            "text/html": [
              "<style>#sk-container-id-23 {color: black;background-color: white;}#sk-container-id-23 pre{padding: 0;}#sk-container-id-23 div.sk-toggleable {background-color: white;}#sk-container-id-23 label.sk-toggleable__label {cursor: pointer;display: block;width: 100%;margin-bottom: 0;padding: 0.3em;box-sizing: border-box;text-align: center;}#sk-container-id-23 label.sk-toggleable__label-arrow:before {content: \"▸\";float: left;margin-right: 0.25em;color: #696969;}#sk-container-id-23 label.sk-toggleable__label-arrow:hover:before {color: black;}#sk-container-id-23 div.sk-estimator:hover label.sk-toggleable__label-arrow:before {color: black;}#sk-container-id-23 div.sk-toggleable__content {max-height: 0;max-width: 0;overflow: hidden;text-align: left;background-color: #f0f8ff;}#sk-container-id-23 div.sk-toggleable__content pre {margin: 0.2em;color: black;border-radius: 0.25em;background-color: #f0f8ff;}#sk-container-id-23 input.sk-toggleable__control:checked~div.sk-toggleable__content {max-height: 200px;max-width: 100%;overflow: auto;}#sk-container-id-23 input.sk-toggleable__control:checked~label.sk-toggleable__label-arrow:before {content: \"▾\";}#sk-container-id-23 div.sk-estimator input.sk-toggleable__control:checked~label.sk-toggleable__label {background-color: #d4ebff;}#sk-container-id-23 div.sk-label input.sk-toggleable__control:checked~label.sk-toggleable__label {background-color: #d4ebff;}#sk-container-id-23 input.sk-hidden--visually {border: 0;clip: rect(1px 1px 1px 1px);clip: rect(1px, 1px, 1px, 1px);height: 1px;margin: -1px;overflow: hidden;padding: 0;position: absolute;width: 1px;}#sk-container-id-23 div.sk-estimator {font-family: monospace;background-color: #f0f8ff;border: 1px dotted black;border-radius: 0.25em;box-sizing: border-box;margin-bottom: 0.5em;}#sk-container-id-23 div.sk-estimator:hover {background-color: #d4ebff;}#sk-container-id-23 div.sk-parallel-item::after {content: \"\";width: 100%;border-bottom: 1px solid gray;flex-grow: 1;}#sk-container-id-23 div.sk-label:hover label.sk-toggleable__label {background-color: #d4ebff;}#sk-container-id-23 div.sk-serial::before {content: \"\";position: absolute;border-left: 1px solid gray;box-sizing: border-box;top: 0;bottom: 0;left: 50%;z-index: 0;}#sk-container-id-23 div.sk-serial {display: flex;flex-direction: column;align-items: center;background-color: white;padding-right: 0.2em;padding-left: 0.2em;position: relative;}#sk-container-id-23 div.sk-item {position: relative;z-index: 1;}#sk-container-id-23 div.sk-parallel {display: flex;align-items: stretch;justify-content: center;background-color: white;position: relative;}#sk-container-id-23 div.sk-item::before, #sk-container-id-23 div.sk-parallel-item::before {content: \"\";position: absolute;border-left: 1px solid gray;box-sizing: border-box;top: 0;bottom: 0;left: 50%;z-index: -1;}#sk-container-id-23 div.sk-parallel-item {display: flex;flex-direction: column;z-index: 1;position: relative;background-color: white;}#sk-container-id-23 div.sk-parallel-item:first-child::after {align-self: flex-end;width: 50%;}#sk-container-id-23 div.sk-parallel-item:last-child::after {align-self: flex-start;width: 50%;}#sk-container-id-23 div.sk-parallel-item:only-child::after {width: 0;}#sk-container-id-23 div.sk-dashed-wrapped {border: 1px dashed gray;margin: 0 0.4em 0.5em 0.4em;box-sizing: border-box;padding-bottom: 0.4em;background-color: white;}#sk-container-id-23 div.sk-label label {font-family: monospace;font-weight: bold;display: inline-block;line-height: 1.2em;}#sk-container-id-23 div.sk-label-container {text-align: center;}#sk-container-id-23 div.sk-container {/* jupyter's `normalize.less` sets `[hidden] { display: none; }` but bootstrap.min.css set `[hidden] { display: none !important; }` so we also need the `!important` here to be able to override the default hidden behavior on the sphinx rendered scikit-learn.org. See: https://github.com/scikit-learn/scikit-learn/issues/21755 */display: inline-block !important;position: relative;}#sk-container-id-23 div.sk-text-repr-fallback {display: none;}</style><div id=\"sk-container-id-23\" class=\"sk-top-container\"><div class=\"sk-text-repr-fallback\"><pre>SVC()</pre><b>In a Jupyter environment, please rerun this cell to show the HTML representation or trust the notebook. <br />On GitHub, the HTML representation is unable to render, please try loading this page with nbviewer.org.</b></div><div class=\"sk-container\" hidden><div class=\"sk-item\"><div class=\"sk-estimator sk-toggleable\"><input class=\"sk-toggleable__control sk-hidden--visually\" id=\"sk-estimator-id-47\" type=\"checkbox\" checked><label for=\"sk-estimator-id-47\" class=\"sk-toggleable__label sk-toggleable__label-arrow\">SVC</label><div class=\"sk-toggleable__content\"><pre>SVC()</pre></div></div></div></div></div>"
            ]
          },
          "metadata": {},
          "execution_count": 133
        }
      ]
    },
    {
      "cell_type": "code",
      "source": [
        "#Sobel\n",
        "print(classification_report(y_test, svc.predict(X_test)))"
      ],
      "metadata": {
        "colab": {
          "base_uri": "https://localhost:8080/"
        },
        "id": "cmaZrudglXg5",
        "outputId": "be2f51ee-f683-4abe-e82b-5f7e6237de63"
      },
      "execution_count": null,
      "outputs": [
        {
          "output_type": "stream",
          "name": "stdout",
          "text": [
            "                         precision    recall  f1-score   support\n",
            "\n",
            "          Aster Amellus       0.33      0.08      0.12        13\n",
            "               Dianthus       0.43      0.83      0.57        46\n",
            "   Evolvulus Alsinoides       0.00      0.00      0.00         9\n",
            "      Helianthus Annuus       0.55      0.38      0.45        42\n",
            " Lavandula Angustifolia       0.41      0.74      0.53        39\n",
            "     Lilium Longiflorum       0.00      0.00      0.00         6\n",
            "  Pink Nelumbo Nucifera       0.33      0.06      0.10        17\n",
            "            Pink Tulipa       0.00      0.00      0.00        16\n",
            "Platycodon Grandiflorum       0.00      0.00      0.00        11\n",
            "             Red Lilium       0.00      0.00      0.00        19\n",
            "               Red Rosa       0.19      0.33      0.24        40\n",
            "             Red Tulipa       0.39      0.39      0.39        44\n",
            "   Tanacetum Parthenium       0.00      0.00      0.00         9\n",
            "           White Tulipa       0.14      0.17      0.16        23\n",
            "\n",
            "               accuracy                           0.36       334\n",
            "              macro avg       0.20      0.21      0.18       334\n",
            "           weighted avg       0.29      0.36      0.30       334\n",
            "\n"
          ]
        }
      ]
    },
    {
      "cell_type": "code",
      "source": [
        "plt.figure()\n",
        "sns.heatmap(confusion_matrix(y_test, svc.predict(X_test)), annot = True, cmap = 'coolwarm')\n",
        "plt.show()"
      ],
      "metadata": {
        "colab": {
          "base_uri": "https://localhost:8080/",
          "height": 430
        },
        "id": "WRZGh8Yt7O-I",
        "outputId": "009eaa3a-0f01-4054-d1d6-b52963dcc4ef"
      },
      "execution_count": null,
      "outputs": [
        {
          "output_type": "display_data",
          "data": {
            "text/plain": [
              "<Figure size 640x480 with 2 Axes>"
            ],
            "image/png": "[encoded data removed]"
          },
          "metadata": {}
        }
      ]
    },
    {
      "cell_type": "code",
      "source": [
        "#Prewitt\n",
        "print(classification_report(y_test_p, svc.predict(X_test_p)))"
      ],
      "metadata": {
        "colab": {
          "base_uri": "https://localhost:8080/"
        },
        "id": "wSdbXSYGAQCR",
        "outputId": "0ccb3a3c-cc6f-4680-f15b-eb2667b4d8f8"
      },
      "execution_count": null,
      "outputs": [
        {
          "output_type": "stream",
          "name": "stdout",
          "text": [
            "                         precision    recall  f1-score   support\n",
            "\n",
            "          Aster Amellus       0.50      0.10      0.17        10\n",
            "               Dianthus       0.28      0.68      0.40        34\n",
            "   Evolvulus Alsinoides       0.00      0.00      0.00        11\n",
            "      Helianthus Annuus       0.64      0.50      0.56        50\n",
            " Lavandula Angustifolia       0.36      0.65      0.47        43\n",
            "     Lilium Longiflorum       0.00      0.00      0.00        10\n",
            "  Pink Nelumbo Nucifera       0.33      0.11      0.17         9\n",
            "            Pink Tulipa       0.00      0.00      0.00        20\n",
            "Platycodon Grandiflorum       0.00      0.00      0.00        13\n",
            "             Red Lilium       0.00      0.00      0.00        12\n",
            "               Red Rosa       0.14      0.23      0.17        40\n",
            "             Red Tulipa       0.28      0.32      0.30        38\n",
            "   Tanacetum Parthenium       0.00      0.00      0.00        14\n",
            "           White Tulipa       0.21      0.17      0.19        30\n",
            "\n",
            "               accuracy                           0.31       334\n",
            "              macro avg       0.20      0.20      0.17       334\n",
            "           weighted avg       0.26      0.31      0.27       334\n",
            "\n"
          ]
        }
      ]
    },
    {
      "cell_type": "code",
      "source": [
        "#Scharr\n",
        "print(classification_report(y_test_s, svc.predict(X_test_s)))"
      ],
      "metadata": {
        "colab": {
          "base_uri": "https://localhost:8080/"
        },
        "id": "9HifgxNR-k5D",
        "outputId": "b10a3cf9-c797-474b-a094-56ed8e7b99f4"
      },
      "execution_count": null,
      "outputs": [
        {
          "output_type": "stream",
          "name": "stdout",
          "text": [
            "                         precision    recall  f1-score   support\n",
            "\n",
            "          Aster Amellus       0.00      0.00      0.00        10\n",
            "               Dianthus       0.29      0.65      0.40        34\n",
            "   Evolvulus Alsinoides       0.00      0.00      0.00        11\n",
            "      Helianthus Annuus       0.64      0.42      0.51        50\n",
            " Lavandula Angustifolia       0.47      0.51      0.49        43\n",
            "     Lilium Longiflorum       0.00      0.00      0.00        10\n",
            "  Pink Nelumbo Nucifera       0.50      0.11      0.18         9\n",
            "            Pink Tulipa       0.00      0.00      0.00        20\n",
            "Platycodon Grandiflorum       0.00      0.00      0.00        13\n",
            "             Red Lilium       0.00      0.00      0.00        12\n",
            "               Red Rosa       0.22      0.47      0.30        40\n",
            "             Red Tulipa       0.24      0.34      0.28        38\n",
            "   Tanacetum Parthenium       0.00      0.00      0.00        14\n",
            "           White Tulipa       0.18      0.20      0.19        30\n",
            "\n",
            "               accuracy                           0.31       334\n",
            "              macro avg       0.18      0.19      0.17       334\n",
            "           weighted avg       0.27      0.31      0.27       334\n",
            "\n"
          ]
        }
      ]
    },
    {
      "cell_type": "markdown",
      "source": [
        "### Random Forest"
      ],
      "metadata": {
        "id": "m1phUbufn6N9"
      }
    },
    {
      "cell_type": "code",
      "source": [
        "rf = RandomForestClassifier()\n",
        "rf.fit(X_train, y_train)"
      ],
      "metadata": {
        "colab": {
          "base_uri": "https://localhost:8080/",
          "height": 74
        },
        "id": "btMduiEHlXes",
        "outputId": "34f8a8c1-eec1-4871-c9bb-1b992c0b159b"
      },
      "execution_count": null,
      "outputs": [
        {
          "output_type": "execute_result",
          "data": {
            "text/plain": [
              "RandomForestClassifier()"
            ],
            "text/html": [
              "<style>#sk-container-id-24 {color: black;background-color: white;}#sk-container-id-24 pre{padding: 0;}#sk-container-id-24 div.sk-toggleable {background-color: white;}#sk-container-id-24 label.sk-toggleable__label {cursor: pointer;display: block;width: 100%;margin-bottom: 0;padding: 0.3em;box-sizing: border-box;text-align: center;}#sk-container-id-24 label.sk-toggleable__label-arrow:before {content: \"▸\";float: left;margin-right: 0.25em;color: #696969;}#sk-container-id-24 label.sk-toggleable__label-arrow:hover:before {color: black;}#sk-container-id-24 div.sk-estimator:hover label.sk-toggleable__label-arrow:before {color: black;}#sk-container-id-24 div.sk-toggleable__content {max-height: 0;max-width: 0;overflow: hidden;text-align: left;background-color: #f0f8ff;}#sk-container-id-24 div.sk-toggleable__content pre {margin: 0.2em;color: black;border-radius: 0.25em;background-color: #f0f8ff;}#sk-container-id-24 input.sk-toggleable__control:checked~div.sk-toggleable__content {max-height: 200px;max-width: 100%;overflow: auto;}#sk-container-id-24 input.sk-toggleable__control:checked~label.sk-toggleable__label-arrow:before {content: \"▾\";}#sk-container-id-24 div.sk-estimator input.sk-toggleable__control:checked~label.sk-toggleable__label {background-color: #d4ebff;}#sk-container-id-24 div.sk-label input.sk-toggleable__control:checked~label.sk-toggleable__label {background-color: #d4ebff;}#sk-container-id-24 input.sk-hidden--visually {border: 0;clip: rect(1px 1px 1px 1px);clip: rect(1px, 1px, 1px, 1px);height: 1px;margin: -1px;overflow: hidden;padding: 0;position: absolute;width: 1px;}#sk-container-id-24 div.sk-estimator {font-family: monospace;background-color: #f0f8ff;border: 1px dotted black;border-radius: 0.25em;box-sizing: border-box;margin-bottom: 0.5em;}#sk-container-id-24 div.sk-estimator:hover {background-color: #d4ebff;}#sk-container-id-24 div.sk-parallel-item::after {content: \"\";width: 100%;border-bottom: 1px solid gray;flex-grow: 1;}#sk-container-id-24 div.sk-label:hover label.sk-toggleable__label {background-color: #d4ebff;}#sk-container-id-24 div.sk-serial::before {content: \"\";position: absolute;border-left: 1px solid gray;box-sizing: border-box;top: 0;bottom: 0;left: 50%;z-index: 0;}#sk-container-id-24 div.sk-serial {display: flex;flex-direction: column;align-items: center;background-color: white;padding-right: 0.2em;padding-left: 0.2em;position: relative;}#sk-container-id-24 div.sk-item {position: relative;z-index: 1;}#sk-container-id-24 div.sk-parallel {display: flex;align-items: stretch;justify-content: center;background-color: white;position: relative;}#sk-container-id-24 div.sk-item::before, #sk-container-id-24 div.sk-parallel-item::before {content: \"\";position: absolute;border-left: 1px solid gray;box-sizing: border-box;top: 0;bottom: 0;left: 50%;z-index: -1;}#sk-container-id-24 div.sk-parallel-item {display: flex;flex-direction: column;z-index: 1;position: relative;background-color: white;}#sk-container-id-24 div.sk-parallel-item:first-child::after {align-self: flex-end;width: 50%;}#sk-container-id-24 div.sk-parallel-item:last-child::after {align-self: flex-start;width: 50%;}#sk-container-id-24 div.sk-parallel-item:only-child::after {width: 0;}#sk-container-id-24 div.sk-dashed-wrapped {border: 1px dashed gray;margin: 0 0.4em 0.5em 0.4em;box-sizing: border-box;padding-bottom: 0.4em;background-color: white;}#sk-container-id-24 div.sk-label label {font-family: monospace;font-weight: bold;display: inline-block;line-height: 1.2em;}#sk-container-id-24 div.sk-label-container {text-align: center;}#sk-container-id-24 div.sk-container {/* jupyter's `normalize.less` sets `[hidden] { display: none; }` but bootstrap.min.css set `[hidden] { display: none !important; }` so we also need the `!important` here to be able to override the default hidden behavior on the sphinx rendered scikit-learn.org. See: https://github.com/scikit-learn/scikit-learn/issues/21755 */display: inline-block !important;position: relative;}#sk-container-id-24 div.sk-text-repr-fallback {display: none;}</style><div id=\"sk-container-id-24\" class=\"sk-top-container\"><div class=\"sk-text-repr-fallback\"><pre>RandomForestClassifier()</pre><b>In a Jupyter environment, please rerun this cell to show the HTML representation or trust the notebook. <br />On GitHub, the HTML representation is unable to render, please try loading this page with nbviewer.org.</b></div><div class=\"sk-container\" hidden><div class=\"sk-item\"><div class=\"sk-estimator sk-toggleable\"><input class=\"sk-toggleable__control sk-hidden--visually\" id=\"sk-estimator-id-48\" type=\"checkbox\" checked><label for=\"sk-estimator-id-48\" class=\"sk-toggleable__label sk-toggleable__label-arrow\">RandomForestClassifier</label><div class=\"sk-toggleable__content\"><pre>RandomForestClassifier()</pre></div></div></div></div></div>"
            ]
          },
          "metadata": {},
          "execution_count": 136
        }
      ]
    },
    {
      "cell_type": "code",
      "source": [
        "#Sobel\n",
        "print(classification_report(y_test, rf.predict(X_test)))"
      ],
      "metadata": {
        "colab": {
          "base_uri": "https://localhost:8080/"
        },
        "id": "PWfeOnRWm6bk",
        "outputId": "9636708a-08a7-45a5-b5e9-dabfd1d2ccd4"
      },
      "execution_count": null,
      "outputs": [
        {
          "output_type": "stream",
          "name": "stdout",
          "text": [
            "                         precision    recall  f1-score   support\n",
            "\n",
            "          Aster Amellus       0.50      0.15      0.24        13\n",
            "               Dianthus       0.63      0.89      0.74        46\n",
            "   Evolvulus Alsinoides       0.67      0.22      0.33         9\n",
            "      Helianthus Annuus       0.84      0.90      0.87        42\n",
            " Lavandula Angustifolia       0.51      0.87      0.64        39\n",
            "     Lilium Longiflorum       0.50      0.17      0.25         6\n",
            "  Pink Nelumbo Nucifera       0.67      0.24      0.35        17\n",
            "            Pink Tulipa       0.40      0.12      0.19        16\n",
            "Platycodon Grandiflorum       0.40      0.18      0.25        11\n",
            "             Red Lilium       1.00      0.05      0.10        19\n",
            "               Red Rosa       0.57      0.57      0.57        40\n",
            "             Red Tulipa       0.53      0.75      0.62        44\n",
            "   Tanacetum Parthenium       0.00      0.00      0.00         9\n",
            "           White Tulipa       0.55      0.70      0.62        23\n",
            "\n",
            "               accuracy                           0.60       334\n",
            "              macro avg       0.56      0.42      0.41       334\n",
            "           weighted avg       0.60      0.60      0.54       334\n",
            "\n"
          ]
        }
      ]
    },
    {
      "cell_type": "code",
      "source": [
        "plt.figure()\n",
        "sns.heatmap(confusion_matrix(y_test, rf.predict(X_test)), annot = True, cmap = 'coolwarm')\n",
        "plt.show()"
      ],
      "metadata": {
        "colab": {
          "base_uri": "https://localhost:8080/",
          "height": 430
        },
        "id": "fWLPjzO67YzM",
        "outputId": "37e27de1-9f25-4e0e-9f9f-85b33d8d2474"
      },
      "execution_count": null,
      "outputs": [
        {
          "output_type": "display_data",
          "data": {
            "text/plain": [
              "<Figure size 640x480 with 2 Axes>"
            ],
            "image/png": "[encoded data removed]"
          },
          "metadata": {}
        }
      ]
    },
    {
      "cell_type": "code",
      "source": [
        "#Prewitt\n",
        "print(classification_report(y_test_p, rf.predict(X_test_p)))"
      ],
      "metadata": {
        "colab": {
          "base_uri": "https://localhost:8080/"
        },
        "id": "SvNPL8WkHqVz",
        "outputId": "2afd0492-4577-4cfc-a3ae-e8ca05783a17"
      },
      "execution_count": null,
      "outputs": [
        {
          "output_type": "stream",
          "name": "stdout",
          "text": [
            "                         precision    recall  f1-score   support\n",
            "\n",
            "          Aster Amellus       0.67      0.20      0.31        10\n",
            "               Dianthus       0.53      0.79      0.64        34\n",
            "   Evolvulus Alsinoides       1.00      0.36      0.53        11\n",
            "      Helianthus Annuus       0.82      0.94      0.88        50\n",
            " Lavandula Angustifolia       0.52      0.81      0.64        43\n",
            "     Lilium Longiflorum       0.12      0.10      0.11        10\n",
            "  Pink Nelumbo Nucifera       0.33      0.22      0.27         9\n",
            "            Pink Tulipa       1.00      0.20      0.33        20\n",
            "Platycodon Grandiflorum       0.50      0.15      0.24        13\n",
            "             Red Lilium       0.00      0.00      0.00        12\n",
            "               Red Rosa       0.44      0.47      0.46        40\n",
            "             Red Tulipa       0.57      0.63      0.60        38\n",
            "   Tanacetum Parthenium       0.00      0.00      0.00        14\n",
            "           White Tulipa       0.48      0.70      0.57        30\n",
            "\n",
            "               accuracy                           0.56       334\n",
            "              macro avg       0.50      0.40      0.40       334\n",
            "           weighted avg       0.55      0.56      0.52       334\n",
            "\n"
          ]
        }
      ]
    },
    {
      "cell_type": "code",
      "source": [
        "#Scharr\n",
        "print(classification_report(y_test_p, rf.predict(X_test_p)))"
      ],
      "metadata": {
        "colab": {
          "base_uri": "https://localhost:8080/"
        },
        "id": "0f3zSpNg-tTW",
        "outputId": "33cd0b13-0512-4a52-ddf9-9e60fd3cf98b"
      },
      "execution_count": null,
      "outputs": [
        {
          "output_type": "stream",
          "name": "stdout",
          "text": [
            "                         precision    recall  f1-score   support\n",
            "\n",
            "          Aster Amellus       0.67      0.20      0.31        10\n",
            "               Dianthus       0.53      0.79      0.64        34\n",
            "   Evolvulus Alsinoides       0.67      0.18      0.29        11\n",
            "      Helianthus Annuus       0.77      0.94      0.85        50\n",
            " Lavandula Angustifolia       0.55      0.81      0.65        43\n",
            "     Lilium Longiflorum       0.00      0.00      0.00        10\n",
            "  Pink Nelumbo Nucifera       0.33      0.22      0.27         9\n",
            "            Pink Tulipa       0.67      0.20      0.31        20\n",
            "Platycodon Grandiflorum       0.50      0.15      0.24        13\n",
            "             Red Lilium       0.00      0.00      0.00        12\n",
            "               Red Rosa       0.51      0.47      0.49        40\n",
            "             Red Tulipa       0.58      0.66      0.62        38\n",
            "   Tanacetum Parthenium       1.00      0.07      0.13        14\n",
            "           White Tulipa       0.40      0.63      0.49        30\n",
            "\n",
            "               accuracy                           0.55       334\n",
            "              macro avg       0.51      0.38      0.38       334\n",
            "           weighted avg       0.56      0.55      0.51       334\n",
            "\n"
          ]
        }
      ]
    },
    {
      "cell_type": "markdown",
      "source": [
        "## Oversampled data"
      ],
      "metadata": {
        "id": "7knDTyVJo-Fu"
      }
    },
    {
      "cell_type": "markdown",
      "source": [
        "### SVM"
      ],
      "metadata": {
        "id": "BkZc3uD5tN1o"
      }
    },
    {
      "cell_type": "code",
      "source": [
        "pipe_svc = make_pipeline(RandomOverSampler(sampling_strategy = 'auto', random_state = 0), SVC())\n",
        "pipe_svc.fit(X_train, y_train)"
      ],
      "metadata": {
        "colab": {
          "base_uri": "https://localhost:8080/",
          "height": 125
        },
        "id": "DfPxVnJGm8DW",
        "outputId": "59d4a534-bd89-4877-c6b9-752e7fd0cc96"
      },
      "execution_count": null,
      "outputs": [
        {
          "output_type": "execute_result",
          "data": {
            "text/plain": [
              "Pipeline(steps=[('randomoversampler', RandomOverSampler(random_state=0)),\n",
              "                ('svc', SVC())])"
            ],
            "text/html": [
              "<style>#sk-container-id-25 {color: black;background-color: white;}#sk-container-id-25 pre{padding: 0;}#sk-container-id-25 div.sk-toggleable {background-color: white;}#sk-container-id-25 label.sk-toggleable__label {cursor: pointer;display: block;width: 100%;margin-bottom: 0;padding: 0.3em;box-sizing: border-box;text-align: center;}#sk-container-id-25 label.sk-toggleable__label-arrow:before {content: \"▸\";float: left;margin-right: 0.25em;color: #696969;}#sk-container-id-25 label.sk-toggleable__label-arrow:hover:before {color: black;}#sk-container-id-25 div.sk-estimator:hover label.sk-toggleable__label-arrow:before {color: black;}#sk-container-id-25 div.sk-toggleable__content {max-height: 0;max-width: 0;overflow: hidden;text-align: left;background-color: #f0f8ff;}#sk-container-id-25 div.sk-toggleable__content pre {margin: 0.2em;color: black;border-radius: 0.25em;background-color: #f0f8ff;}#sk-container-id-25 input.sk-toggleable__control:checked~div.sk-toggleable__content {max-height: 200px;max-width: 100%;overflow: auto;}#sk-container-id-25 input.sk-toggleable__control:checked~label.sk-toggleable__label-arrow:before {content: \"▾\";}#sk-container-id-25 div.sk-estimator input.sk-toggleable__control:checked~label.sk-toggleable__label {background-color: #d4ebff;}#sk-container-id-25 div.sk-label input.sk-toggleable__control:checked~label.sk-toggleable__label {background-color: #d4ebff;}#sk-container-id-25 input.sk-hidden--visually {border: 0;clip: rect(1px 1px 1px 1px);clip: rect(1px, 1px, 1px, 1px);height: 1px;margin: -1px;overflow: hidden;padding: 0;position: absolute;width: 1px;}#sk-container-id-25 div.sk-estimator {font-family: monospace;background-color: #f0f8ff;border: 1px dotted black;border-radius: 0.25em;box-sizing: border-box;margin-bottom: 0.5em;}#sk-container-id-25 div.sk-estimator:hover {background-color: #d4ebff;}#sk-container-id-25 div.sk-parallel-item::after {content: \"\";width: 100%;border-bottom: 1px solid gray;flex-grow: 1;}#sk-container-id-25 div.sk-label:hover label.sk-toggleable__label {background-color: #d4ebff;}#sk-container-id-25 div.sk-serial::before {content: \"\";position: absolute;border-left: 1px solid gray;box-sizing: border-box;top: 0;bottom: 0;left: 50%;z-index: 0;}#sk-container-id-25 div.sk-serial {display: flex;flex-direction: column;align-items: center;background-color: white;padding-right: 0.2em;padding-left: 0.2em;position: relative;}#sk-container-id-25 div.sk-item {position: relative;z-index: 1;}#sk-container-id-25 div.sk-parallel {display: flex;align-items: stretch;justify-content: center;background-color: white;position: relative;}#sk-container-id-25 div.sk-item::before, #sk-container-id-25 div.sk-parallel-item::before {content: \"\";position: absolute;border-left: 1px solid gray;box-sizing: border-box;top: 0;bottom: 0;left: 50%;z-index: -1;}#sk-container-id-25 div.sk-parallel-item {display: flex;flex-direction: column;z-index: 1;position: relative;background-color: white;}#sk-container-id-25 div.sk-parallel-item:first-child::after {align-self: flex-end;width: 50%;}#sk-container-id-25 div.sk-parallel-item:last-child::after {align-self: flex-start;width: 50%;}#sk-container-id-25 div.sk-parallel-item:only-child::after {width: 0;}#sk-container-id-25 div.sk-dashed-wrapped {border: 1px dashed gray;margin: 0 0.4em 0.5em 0.4em;box-sizing: border-box;padding-bottom: 0.4em;background-color: white;}#sk-container-id-25 div.sk-label label {font-family: monospace;font-weight: bold;display: inline-block;line-height: 1.2em;}#sk-container-id-25 div.sk-label-container {text-align: center;}#sk-container-id-25 div.sk-container {/* jupyter's `normalize.less` sets `[hidden] { display: none; }` but bootstrap.min.css set `[hidden] { display: none !important; }` so we also need the `!important` here to be able to override the default hidden behavior on the sphinx rendered scikit-learn.org. See: https://github.com/scikit-learn/scikit-learn/issues/21755 */display: inline-block !important;position: relative;}#sk-container-id-25 div.sk-text-repr-fallback {display: none;}</style><div id=\"sk-container-id-25\" class=\"sk-top-container\"><div class=\"sk-text-repr-fallback\"><pre>Pipeline(steps=[(&#x27;randomoversampler&#x27;, RandomOverSampler(random_state=0)),\n",
              "                (&#x27;svc&#x27;, SVC())])</pre><b>In a Jupyter environment, please rerun this cell to show the HTML representation or trust the notebook. <br />On GitHub, the HTML representation is unable to render, please try loading this page with nbviewer.org.</b></div><div class=\"sk-container\" hidden><div class=\"sk-item sk-dashed-wrapped\"><div class=\"sk-label-container\"><div class=\"sk-label sk-toggleable\"><input class=\"sk-toggleable__control sk-hidden--visually\" id=\"sk-estimator-id-49\" type=\"checkbox\" ><label for=\"sk-estimator-id-49\" class=\"sk-toggleable__label sk-toggleable__label-arrow\">Pipeline</label><div class=\"sk-toggleable__content\"><pre>Pipeline(steps=[(&#x27;randomoversampler&#x27;, RandomOverSampler(random_state=0)),\n",
              "                (&#x27;svc&#x27;, SVC())])</pre></div></div></div><div class=\"sk-serial\"><div class=\"sk-item\"><div class=\"sk-estimator sk-toggleable\"><input class=\"sk-toggleable__control sk-hidden--visually\" id=\"sk-estimator-id-50\" type=\"checkbox\" ><label for=\"sk-estimator-id-50\" class=\"sk-toggleable__label sk-toggleable__label-arrow\">RandomOverSampler</label><div class=\"sk-toggleable__content\"><pre>RandomOverSampler(random_state=0)</pre></div></div></div><div class=\"sk-item\"><div class=\"sk-estimator sk-toggleable\"><input class=\"sk-toggleable__control sk-hidden--visually\" id=\"sk-estimator-id-51\" type=\"checkbox\" ><label for=\"sk-estimator-id-51\" class=\"sk-toggleable__label sk-toggleable__label-arrow\">SVC</label><div class=\"sk-toggleable__content\"><pre>SVC()</pre></div></div></div></div></div></div></div>"
            ]
          },
          "metadata": {},
          "execution_count": 139
        }
      ]
    },
    {
      "cell_type": "code",
      "source": [
        "#Sobell\n",
        "print(classification_report(y_test, pipe_svc.predict(X_test)))"
      ],
      "metadata": {
        "colab": {
          "base_uri": "https://localhost:8080/"
        },
        "id": "x26JgZ3HtU-e",
        "outputId": "00bbcb30-31a1-4f7d-bcc9-50d59789eb2d"
      },
      "execution_count": null,
      "outputs": [
        {
          "output_type": "stream",
          "name": "stdout",
          "text": [
            "                         precision    recall  f1-score   support\n",
            "\n",
            "          Aster Amellus       0.33      0.08      0.12        13\n",
            "               Dianthus       0.44      0.52      0.48        46\n",
            "   Evolvulus Alsinoides       0.17      0.22      0.19         9\n",
            "      Helianthus Annuus       0.65      0.36      0.46        42\n",
            " Lavandula Angustifolia       0.43      0.72      0.54        39\n",
            "     Lilium Longiflorum       0.08      0.17      0.11         6\n",
            "  Pink Nelumbo Nucifera       0.20      0.29      0.24        17\n",
            "            Pink Tulipa       0.15      0.25      0.19        16\n",
            "Platycodon Grandiflorum       0.25      0.27      0.26        11\n",
            "             Red Lilium       0.18      0.11      0.13        19\n",
            "               Red Rosa       0.27      0.23      0.25        40\n",
            "             Red Tulipa       0.39      0.34      0.37        44\n",
            "   Tanacetum Parthenium       0.00      0.00      0.00         9\n",
            "           White Tulipa       0.36      0.17      0.24        23\n",
            "\n",
            "               accuracy                           0.34       334\n",
            "              macro avg       0.28      0.27      0.26       334\n",
            "           weighted avg       0.36      0.34      0.33       334\n",
            "\n"
          ]
        }
      ]
    },
    {
      "cell_type": "code",
      "source": [
        "plt.figure()\n",
        "sns.heatmap(confusion_matrix(y_test, pipe_svc.predict(X_test)), annot = True, cmap = 'coolwarm')\n",
        "plt.show()"
      ],
      "metadata": {
        "colab": {
          "base_uri": "https://localhost:8080/",
          "height": 430
        },
        "id": "GizWnSzpu_Ql",
        "outputId": "7a671bc1-7a66-479c-c4f5-31f1319f43a5"
      },
      "execution_count": null,
      "outputs": [
        {
          "output_type": "display_data",
          "data": {
            "text/plain": [
              "<Figure size 640x480 with 2 Axes>"
            ],
            "image/png": "[encoded data removed]"
          },
          "metadata": {}
        }
      ]
    },
    {
      "cell_type": "code",
      "source": [
        "#Prewitt\n",
        "print(classification_report(y_test_p, pipe_svc.predict(X_test_p)))"
      ],
      "metadata": {
        "colab": {
          "base_uri": "https://localhost:8080/"
        },
        "id": "3mbw1fx-HvAK",
        "outputId": "835fb25f-0f5a-4c39-9e56-c1d9fae84c73"
      },
      "execution_count": null,
      "outputs": [
        {
          "output_type": "stream",
          "name": "stdout",
          "text": [
            "                         precision    recall  f1-score   support\n",
            "\n",
            "          Aster Amellus       0.40      0.40      0.40        10\n",
            "               Dianthus       0.36      0.44      0.39        34\n",
            "   Evolvulus Alsinoides       0.25      0.27      0.26        11\n",
            "      Helianthus Annuus       0.67      0.48      0.56        50\n",
            " Lavandula Angustifolia       0.38      0.58      0.46        43\n",
            "     Lilium Longiflorum       0.00      0.00      0.00        10\n",
            "  Pink Nelumbo Nucifera       0.13      0.22      0.17         9\n",
            "            Pink Tulipa       0.30      0.35      0.33        20\n",
            "Platycodon Grandiflorum       0.20      0.23      0.21        13\n",
            "             Red Lilium       0.11      0.08      0.10        12\n",
            "               Red Rosa       0.17      0.17      0.17        40\n",
            "             Red Tulipa       0.38      0.32      0.34        38\n",
            "   Tanacetum Parthenium       0.00      0.00      0.00        14\n",
            "           White Tulipa       0.21      0.10      0.14        30\n",
            "\n",
            "               accuracy                           0.32       334\n",
            "              macro avg       0.26      0.26      0.25       334\n",
            "           weighted avg       0.32      0.32      0.31       334\n",
            "\n"
          ]
        }
      ]
    },
    {
      "cell_type": "code",
      "source": [
        "#Scharr\n",
        "print(classification_report(y_test_s, pipe_svc.predict(X_test_s)))"
      ],
      "metadata": {
        "colab": {
          "base_uri": "https://localhost:8080/"
        },
        "id": "ye5vRWQIEMnv",
        "outputId": "fb6670c6-7d72-4e55-922e-621e9b177391"
      },
      "execution_count": null,
      "outputs": [
        {
          "output_type": "stream",
          "name": "stdout",
          "text": [
            "                         precision    recall  f1-score   support\n",
            "\n",
            "          Aster Amellus       0.15      0.30      0.20        10\n",
            "               Dianthus       0.40      0.53      0.46        34\n",
            "   Evolvulus Alsinoides       0.33      0.27      0.30        11\n",
            "      Helianthus Annuus       0.69      0.36      0.47        50\n",
            " Lavandula Angustifolia       0.50      0.42      0.46        43\n",
            "     Lilium Longiflorum       0.04      0.10      0.06        10\n",
            "  Pink Nelumbo Nucifera       0.14      0.22      0.17         9\n",
            "            Pink Tulipa       0.28      0.25      0.26        20\n",
            "Platycodon Grandiflorum       0.20      0.23      0.21        13\n",
            "             Red Lilium       0.00      0.00      0.00        12\n",
            "               Red Rosa       0.19      0.20      0.20        40\n",
            "             Red Tulipa       0.26      0.29      0.27        38\n",
            "   Tanacetum Parthenium       0.14      0.07      0.10        14\n",
            "           White Tulipa       0.25      0.20      0.22        30\n",
            "\n",
            "               accuracy                           0.29       334\n",
            "              macro avg       0.26      0.25      0.24       334\n",
            "           weighted avg       0.33      0.29      0.30       334\n",
            "\n"
          ]
        }
      ]
    },
    {
      "cell_type": "markdown",
      "source": [
        "### Random Forest"
      ],
      "metadata": {
        "id": "mDbdaZg4uZyd"
      }
    },
    {
      "cell_type": "code",
      "source": [
        "pipe_rf = make_pipeline(RandomOverSampler(sampling_strategy = 'auto', random_state = 0), RandomForestClassifier())\n",
        "pipe_rf.fit(X_train, y_train)"
      ],
      "metadata": {
        "colab": {
          "base_uri": "https://localhost:8080/",
          "height": 125
        },
        "id": "2miJ9n5Htr9r",
        "outputId": "65807c23-aab4-461f-fd74-4cb25a46c86e"
      },
      "execution_count": null,
      "outputs": [
        {
          "output_type": "execute_result",
          "data": {
            "text/plain": [
              "Pipeline(steps=[('randomoversampler', RandomOverSampler(random_state=0)),\n",
              "                ('randomforestclassifier', RandomForestClassifier())])"
            ],
            "text/html": [
              "<style>#sk-container-id-28 {color: black;background-color: white;}#sk-container-id-28 pre{padding: 0;}#sk-container-id-28 div.sk-toggleable {background-color: white;}#sk-container-id-28 label.sk-toggleable__label {cursor: pointer;display: block;width: 100%;margin-bottom: 0;padding: 0.3em;box-sizing: border-box;text-align: center;}#sk-container-id-28 label.sk-toggleable__label-arrow:before {content: \"▸\";float: left;margin-right: 0.25em;color: #696969;}#sk-container-id-28 label.sk-toggleable__label-arrow:hover:before {color: black;}#sk-container-id-28 div.sk-estimator:hover label.sk-toggleable__label-arrow:before {color: black;}#sk-container-id-28 div.sk-toggleable__content {max-height: 0;max-width: 0;overflow: hidden;text-align: left;background-color: #f0f8ff;}#sk-container-id-28 div.sk-toggleable__content pre {margin: 0.2em;color: black;border-radius: 0.25em;background-color: #f0f8ff;}#sk-container-id-28 input.sk-toggleable__control:checked~div.sk-toggleable__content {max-height: 200px;max-width: 100%;overflow: auto;}#sk-container-id-28 input.sk-toggleable__control:checked~label.sk-toggleable__label-arrow:before {content: \"▾\";}#sk-container-id-28 div.sk-estimator input.sk-toggleable__control:checked~label.sk-toggleable__label {background-color: #d4ebff;}#sk-container-id-28 div.sk-label input.sk-toggleable__control:checked~label.sk-toggleable__label {background-color: #d4ebff;}#sk-container-id-28 input.sk-hidden--visually {border: 0;clip: rect(1px 1px 1px 1px);clip: rect(1px, 1px, 1px, 1px);height: 1px;margin: -1px;overflow: hidden;padding: 0;position: absolute;width: 1px;}#sk-container-id-28 div.sk-estimator {font-family: monospace;background-color: #f0f8ff;border: 1px dotted black;border-radius: 0.25em;box-sizing: border-box;margin-bottom: 0.5em;}#sk-container-id-28 div.sk-estimator:hover {background-color: #d4ebff;}#sk-container-id-28 div.sk-parallel-item::after {content: \"\";width: 100%;border-bottom: 1px solid gray;flex-grow: 1;}#sk-container-id-28 div.sk-label:hover label.sk-toggleable__label {background-color: #d4ebff;}#sk-container-id-28 div.sk-serial::before {content: \"\";position: absolute;border-left: 1px solid gray;box-sizing: border-box;top: 0;bottom: 0;left: 50%;z-index: 0;}#sk-container-id-28 div.sk-serial {display: flex;flex-direction: column;align-items: center;background-color: white;padding-right: 0.2em;padding-left: 0.2em;position: relative;}#sk-container-id-28 div.sk-item {position: relative;z-index: 1;}#sk-container-id-28 div.sk-parallel {display: flex;align-items: stretch;justify-content: center;background-color: white;position: relative;}#sk-container-id-28 div.sk-item::before, #sk-container-id-28 div.sk-parallel-item::before {content: \"\";position: absolute;border-left: 1px solid gray;box-sizing: border-box;top: 0;bottom: 0;left: 50%;z-index: -1;}#sk-container-id-28 div.sk-parallel-item {display: flex;flex-direction: column;z-index: 1;position: relative;background-color: white;}#sk-container-id-28 div.sk-parallel-item:first-child::after {align-self: flex-end;width: 50%;}#sk-container-id-28 div.sk-parallel-item:last-child::after {align-self: flex-start;width: 50%;}#sk-container-id-28 div.sk-parallel-item:only-child::after {width: 0;}#sk-container-id-28 div.sk-dashed-wrapped {border: 1px dashed gray;margin: 0 0.4em 0.5em 0.4em;box-sizing: border-box;padding-bottom: 0.4em;background-color: white;}#sk-container-id-28 div.sk-label label {font-family: monospace;font-weight: bold;display: inline-block;line-height: 1.2em;}#sk-container-id-28 div.sk-label-container {text-align: center;}#sk-container-id-28 div.sk-container {/* jupyter's `normalize.less` sets `[hidden] { display: none; }` but bootstrap.min.css set `[hidden] { display: none !important; }` so we also need the `!important` here to be able to override the default hidden behavior on the sphinx rendered scikit-learn.org. See: https://github.com/scikit-learn/scikit-learn/issues/21755 */display: inline-block !important;position: relative;}#sk-container-id-28 div.sk-text-repr-fallback {display: none;}</style><div id=\"sk-container-id-28\" class=\"sk-top-container\"><div class=\"sk-text-repr-fallback\"><pre>Pipeline(steps=[(&#x27;randomoversampler&#x27;, RandomOverSampler(random_state=0)),\n",
              "                (&#x27;randomforestclassifier&#x27;, RandomForestClassifier())])</pre><b>In a Jupyter environment, please rerun this cell to show the HTML representation or trust the notebook. <br />On GitHub, the HTML representation is unable to render, please try loading this page with nbviewer.org.</b></div><div class=\"sk-container\" hidden><div class=\"sk-item sk-dashed-wrapped\"><div class=\"sk-label-container\"><div class=\"sk-label sk-toggleable\"><input class=\"sk-toggleable__control sk-hidden--visually\" id=\"sk-estimator-id-58\" type=\"checkbox\" ><label for=\"sk-estimator-id-58\" class=\"sk-toggleable__label sk-toggleable__label-arrow\">Pipeline</label><div class=\"sk-toggleable__content\"><pre>Pipeline(steps=[(&#x27;randomoversampler&#x27;, RandomOverSampler(random_state=0)),\n",
              "                (&#x27;randomforestclassifier&#x27;, RandomForestClassifier())])</pre></div></div></div><div class=\"sk-serial\"><div class=\"sk-item\"><div class=\"sk-estimator sk-toggleable\"><input class=\"sk-toggleable__control sk-hidden--visually\" id=\"sk-estimator-id-59\" type=\"checkbox\" ><label for=\"sk-estimator-id-59\" class=\"sk-toggleable__label sk-toggleable__label-arrow\">RandomOverSampler</label><div class=\"sk-toggleable__content\"><pre>RandomOverSampler(random_state=0)</pre></div></div></div><div class=\"sk-item\"><div class=\"sk-estimator sk-toggleable\"><input class=\"sk-toggleable__control sk-hidden--visually\" id=\"sk-estimator-id-60\" type=\"checkbox\" ><label for=\"sk-estimator-id-60\" class=\"sk-toggleable__label sk-toggleable__label-arrow\">RandomForestClassifier</label><div class=\"sk-toggleable__content\"><pre>RandomForestClassifier()</pre></div></div></div></div></div></div></div>"
            ]
          },
          "metadata": {},
          "execution_count": 148
        }
      ]
    },
    {
      "cell_type": "code",
      "source": [
        "#Sobel\n",
        "print(classification_report(y_test, pipe_rf.predict(X_test)))"
      ],
      "metadata": {
        "colab": {
          "base_uri": "https://localhost:8080/"
        },
        "id": "DLzmnnUBugcY",
        "outputId": "4c907402-19d2-4b37-fbf7-e2d05290de93"
      },
      "execution_count": null,
      "outputs": [
        {
          "output_type": "stream",
          "name": "stdout",
          "text": [
            "                         precision    recall  f1-score   support\n",
            "\n",
            "          Aster Amellus       0.56      0.38      0.45        13\n",
            "               Dianthus       0.70      0.91      0.79        46\n",
            "   Evolvulus Alsinoides       1.00      0.22      0.36         9\n",
            "      Helianthus Annuus       0.78      0.83      0.80        42\n",
            " Lavandula Angustifolia       0.56      0.82      0.67        39\n",
            "     Lilium Longiflorum       0.50      0.50      0.50         6\n",
            "  Pink Nelumbo Nucifera       0.47      0.41      0.44        17\n",
            "            Pink Tulipa       0.62      0.31      0.42        16\n",
            "Platycodon Grandiflorum       0.67      0.55      0.60        11\n",
            "             Red Lilium       0.00      0.00      0.00        19\n",
            "               Red Rosa       0.53      0.62      0.57        40\n",
            "             Red Tulipa       0.58      0.66      0.62        44\n",
            "   Tanacetum Parthenium       0.00      0.00      0.00         9\n",
            "           White Tulipa       0.58      0.61      0.60        23\n",
            "\n",
            "               accuracy                           0.61       334\n",
            "              macro avg       0.54      0.49      0.49       334\n",
            "           weighted avg       0.57      0.61      0.58       334\n",
            "\n"
          ]
        }
      ]
    },
    {
      "cell_type": "code",
      "source": [
        "plt.figure()\n",
        "sns.heatmap(confusion_matrix(y_test, pipe_rf.predict(X_test)), annot = True, cmap = 'coolwarm')\n",
        "plt.show()"
      ],
      "metadata": {
        "colab": {
          "base_uri": "https://localhost:8080/",
          "height": 430
        },
        "id": "fwEIPcsB7dEd",
        "outputId": "e9720f7e-2da8-4d14-df2b-4287dae7ff8b"
      },
      "execution_count": null,
      "outputs": [
        {
          "output_type": "display_data",
          "data": {
            "text/plain": [
              "<Figure size 640x480 with 2 Axes>"
            ],
            "image/png": "[encoded data removed]"
          },
          "metadata": {}
        }
      ]
    },
    {
      "cell_type": "code",
      "source": [
        "#Prewitt\n",
        "print(classification_report(y_test_p, pipe_rf.predict(X_test_p)))"
      ],
      "metadata": {
        "colab": {
          "base_uri": "https://localhost:8080/"
        },
        "id": "ZvTrPx1RHyqO",
        "outputId": "2b19d2cf-0b03-4022-cebe-7b7502bf2f08"
      },
      "execution_count": null,
      "outputs": [
        {
          "output_type": "stream",
          "name": "stdout",
          "text": [
            "                         precision    recall  f1-score   support\n",
            "\n",
            "          Aster Amellus       0.60      0.30      0.40        10\n",
            "               Dianthus       0.58      0.74      0.65        34\n",
            "   Evolvulus Alsinoides       0.60      0.27      0.37        11\n",
            "      Helianthus Annuus       0.84      0.92      0.88        50\n",
            " Lavandula Angustifolia       0.56      0.81      0.66        43\n",
            "     Lilium Longiflorum       0.13      0.20      0.16        10\n",
            "  Pink Nelumbo Nucifera       0.33      0.11      0.17         9\n",
            "            Pink Tulipa       0.80      0.40      0.53        20\n",
            "Platycodon Grandiflorum       0.54      0.54      0.54        13\n",
            "             Red Lilium       0.00      0.00      0.00        12\n",
            "               Red Rosa       0.45      0.42      0.44        40\n",
            "             Red Tulipa       0.55      0.55      0.55        38\n",
            "   Tanacetum Parthenium       0.60      0.21      0.32        14\n",
            "           White Tulipa       0.44      0.53      0.48        30\n",
            "\n",
            "               accuracy                           0.56       334\n",
            "              macro avg       0.50      0.43      0.44       334\n",
            "           weighted avg       0.56      0.56      0.54       334\n",
            "\n"
          ]
        }
      ]
    },
    {
      "cell_type": "code",
      "source": [
        "#Scharr\n",
        "print(classification_report(y_test_s, pipe_rf.predict(X_test_s)))"
      ],
      "metadata": {
        "colab": {
          "base_uri": "https://localhost:8080/"
        },
        "id": "cjdWvQbO-9-E",
        "outputId": "a124dc14-1364-40e5-a799-4777d0302839"
      },
      "execution_count": null,
      "outputs": [
        {
          "output_type": "stream",
          "name": "stdout",
          "text": [
            "                         precision    recall  f1-score   support\n",
            "\n",
            "          Aster Amellus       0.40      0.40      0.40        10\n",
            "               Dianthus       0.59      0.76      0.67        34\n",
            "   Evolvulus Alsinoides       0.80      0.36      0.50        11\n",
            "      Helianthus Annuus       0.76      0.96      0.85        50\n",
            " Lavandula Angustifolia       0.64      0.70      0.67        43\n",
            "     Lilium Longiflorum       0.11      0.20      0.14        10\n",
            "  Pink Nelumbo Nucifera       0.60      0.33      0.43         9\n",
            "            Pink Tulipa       0.54      0.35      0.42        20\n",
            "Platycodon Grandiflorum       0.60      0.46      0.52        13\n",
            "             Red Lilium       0.00      0.00      0.00        12\n",
            "               Red Rosa       0.59      0.55      0.57        40\n",
            "             Red Tulipa       0.63      0.68      0.66        38\n",
            "   Tanacetum Parthenium       0.40      0.14      0.21        14\n",
            "           White Tulipa       0.53      0.57      0.55        30\n",
            "\n",
            "               accuracy                           0.59       334\n",
            "              macro avg       0.51      0.46      0.47       334\n",
            "           weighted avg       0.58      0.59      0.57       334\n",
            "\n"
          ]
        }
      ]
    }
  ]
}